{
 "cells": [
  {
   "cell_type": "markdown",
   "metadata": {},
   "source": [
    "## A brief notebook to answer the question:\n",
    "# \"Which job title am I actually doing in my current position\"\n",
    "### <i>A quick data exploration of: </i> <b>Data Scientist vs. Software Engineer</b> "
   ]
  },
  {
   "cell_type": "markdown",
   "metadata": {},
   "source": [
    "2018-01\n",
    "Justin Gosses\n",
    "\n",
    "---------------------------------------"
   ]
  },
  {
   "cell_type": "markdown",
   "metadata": {},
   "source": [
    "## Background\n",
    "Who is a data scientist isn't exactly an easy question to answer. There are multiple reasons for this. Partly, the confusion comes from the fact that the position hasn't existed, at least in its current form, until quite recently.  Managers may not have employed one before and more and more people want to be one. <a href=\"https://hbr.org/2012/10/data-scientist-the-sexiest-job-of-the-21st-century\">Sexiest job of the 21st century</a> and all that malarkey. Additionally, like many jobs, responsibilities vary depending on the size and type of employer. Responsbilities may or may not be divided up between data scientistis, software engineers, data engineers, data visualization engineers, data analysts, etc."
   ]
  },
  {
   "cell_type": "markdown",
   "metadata": {},
   "source": [
    "## Premise\n",
    "<b>One source of truth for who is a data scientist is the people hiring data scientists.</b> Of course, there is an argument made against this approach, especially as many of them might be hiring data scientists for the first time. However, they've been helpful enough to provide relatively public descriptions of what skills they think data scientists vs. software engineers have in job advertisements, which makes them a handy if potentially questionable source of truth. "
   ]
  },
  {
   "cell_type": "markdown",
   "metadata": {},
   "source": [
    "## Basic Process\n",
    "Normally when trying to do text classification, you might follow an approach like <a href=\"http://scikit-learn.org/stable/tutorial/text_analytics/working_with_text_data.html#training-a-classifier\">this</a> or even something else more advanced using NLP specific toolsets. Document similarity is often done on larger documents and larger datasets than my toy examples of a handful of job descriptions, so I opted for a different and more simplistic approach. <i>I might go back and use a larger dataset and more standard NLP approach in future, but this was a weekend project.</i>\n",
    "1. Get a set of several hundred job skils.\n",
    "2. Find which of those skills were in different job descriptions.\n",
    "3. Visualization of skill counts.\n",
    "4. Turn said counts into vectors of features.\n",
    "5. Use job title categories as lables.\n",
    "6. Do quick random forest and Support Vector Machine models to see if the distribution of skill words is predictive of job titles.\n",
    "\n",
    "Optional part B (haven't done this yet): \n",
    "1. Port model to JavaScript using <a href=\"https://github.com/nok/sklearn-porter\">sklearn-porter </a> and have it all running live on the front-end so others can throw their resumes in there and see how they are clasified. \n",
    "\n",
    "### Basic question re-phrased:\n",
    "### What distribution of skills in job descriptions are associated data scientist vs. associated with software engineers?\n",
    "\n"
   ]
  },
  {
   "cell_type": "markdown",
   "metadata": {},
   "source": [
    "### Part 1: \n",
    "- Gather job titles & skills associated programming/IT/data job titles. \n",
    "- Turn those skills into a single array of strings"
   ]
  },
  {
   "cell_type": "code",
   "execution_count": 99,
   "metadata": {
    "collapsed": true
   },
   "outputs": [],
   "source": [
    "#### Some libraries we'll be using\n",
    "#### Pandas and Numpy for working with data structures\n",
    "import pandas as pd\n",
    "import numpy as np\n",
    "#### Requests for loading webpages\n",
    "import requests\n",
    "#### BeautifulSoup for some very small scraping (not really data mining as we're only getting human-level data back)\n",
    "from bs4 import BeautifulSoup \n",
    "#### Regular expressions for text cleaning\n",
    "import re\n",
    "#### Visualization via the Vega library\n",
    "from vega3 import Vega\n",
    "#### Writing and reading to files via JSON\n",
    "import json"
   ]
  },
  {
   "cell_type": "markdown",
   "metadata": {},
   "source": [
    "#### Job titles & title_general\n",
    "Here are some different jobs titles on right and how I'll be grouping them into more general job titles.\n",
    "\n",
    "-  [Web Developer] - Web Developer, Entry Level Web Developer, Junior Web Developer, Senior Web Developer, Web Designer\n",
    "- [Software Developer] - Software Developer, Junior Software Developer, Senior Software Developer\n",
    "- [Software Engineer] - Software Engineer, Senior Software Engineer, Lead Software Engineer, Senior Software - Developer, Software Engineer II, Principle Software Engineer\n",
    "- [Data Scientist] - Data Scientist, Senior Data Scientist, Junior Data Scientist\n",
    "- [Data Analyst] -Data Analyst, Senior Data Analyst, Quantitative Analyst, Statistical Analyst, Prediction Analyst"
   ]
  },
  {
   "cell_type": "markdown",
   "metadata": {},
   "source": [
    "### I started with this list of skills from Dice, a job site focused on tech jobs.\n",
    "https://insights.dice.com/wp-content/themes/dicenews2018/assets/d3/2017/skills-heat/index.html"
   ]
  },
  {
   "cell_type": "code",
   "execution_count": 100,
   "metadata": {},
   "outputs": [
    {
     "data": {
      "text/html": [
       "<div>\n",
       "<table border=\"1\" class=\"dataframe\">\n",
       "  <thead>\n",
       "    <tr style=\"text-align: right;\">\n",
       "      <th></th>\n",
       "      <th>ratio</th>\n",
       "      <th>tag</th>\n",
       "      <th>x</th>\n",
       "      <th>y</th>\n",
       "      <th>sector</th>\n",
       "      <th>skill</th>\n",
       "    </tr>\n",
       "  </thead>\n",
       "  <tbody>\n",
       "    <tr>\n",
       "      <th>0</th>\n",
       "      <td>1.50</td>\n",
       "      <td>Operations</td>\n",
       "      <td>0.57819</td>\n",
       "      <td>0.86682</td>\n",
       "      <td>NaN</td>\n",
       "      <td>NaN</td>\n",
       "    </tr>\n",
       "    <tr>\n",
       "      <th>1</th>\n",
       "      <td>1.12</td>\n",
       "      <td>Database</td>\n",
       "      <td>0.61363</td>\n",
       "      <td>0.68666</td>\n",
       "      <td>NaN</td>\n",
       "      <td>NaN</td>\n",
       "    </tr>\n",
       "    <tr>\n",
       "      <th>2</th>\n",
       "      <td>1.32</td>\n",
       "      <td>Network</td>\n",
       "      <td>0.53984</td>\n",
       "      <td>0.71231</td>\n",
       "      <td>NaN</td>\n",
       "      <td>NaN</td>\n",
       "    </tr>\n",
       "    <tr>\n",
       "      <th>3</th>\n",
       "      <td>1.50</td>\n",
       "      <td>SQL</td>\n",
       "      <td>0.47992</td>\n",
       "      <td>0.71771</td>\n",
       "      <td>Data</td>\n",
       "      <td>SQL</td>\n",
       "    </tr>\n",
       "    <tr>\n",
       "      <th>4</th>\n",
       "      <td>1.43</td>\n",
       "      <td>Project management</td>\n",
       "      <td>0.48109</td>\n",
       "      <td>0.68706</td>\n",
       "      <td>NaN</td>\n",
       "      <td>NaN</td>\n",
       "    </tr>\n",
       "  </tbody>\n",
       "</table>\n",
       "</div>"
      ],
      "text/plain": [
       "   ratio                 tag        x        y sector skill\n",
       "0   1.50          Operations  0.57819  0.86682    NaN   NaN\n",
       "1   1.12            Database  0.61363  0.68666    NaN   NaN\n",
       "2   1.32             Network  0.53984  0.71231    NaN   NaN\n",
       "3   1.50                 SQL  0.47992  0.71771   Data   SQL\n",
       "4   1.43  Project management  0.48109  0.68706    NaN   NaN"
      ]
     },
     "execution_count": 100,
     "metadata": {},
     "output_type": "execute_result"
    }
   ],
   "source": [
    "df = pd.read_csv('data/DICE_2017_skills_hierarchy_skill_list_txt.csv')\n",
    "df.head()"
   ]
  },
  {
   "cell_type": "code",
   "execution_count": 101,
   "metadata": {},
   "outputs": [
    {
     "name": "stdout",
     "output_type": "stream",
     "text": [
      "length of tag =  700\n"
     ]
    },
    {
     "data": {
      "text/html": [
       "<div>\n",
       "<table border=\"1\" class=\"dataframe\">\n",
       "  <thead>\n",
       "    <tr style=\"text-align: right;\">\n",
       "      <th></th>\n",
       "      <th>tag</th>\n",
       "    </tr>\n",
       "  </thead>\n",
       "  <tbody>\n",
       "    <tr>\n",
       "      <th>0</th>\n",
       "      <td>Operations</td>\n",
       "    </tr>\n",
       "    <tr>\n",
       "      <th>1</th>\n",
       "      <td>Database</td>\n",
       "    </tr>\n",
       "    <tr>\n",
       "      <th>2</th>\n",
       "      <td>Network</td>\n",
       "    </tr>\n",
       "    <tr>\n",
       "      <th>3</th>\n",
       "      <td>SQL</td>\n",
       "    </tr>\n",
       "    <tr>\n",
       "      <th>4</th>\n",
       "      <td>Project management</td>\n",
       "    </tr>\n",
       "    <tr>\n",
       "      <th>5</th>\n",
       "      <td>Software development</td>\n",
       "    </tr>\n",
       "    <tr>\n",
       "      <th>6</th>\n",
       "      <td>Security</td>\n",
       "    </tr>\n",
       "    <tr>\n",
       "      <th>7</th>\n",
       "      <td>Java</td>\n",
       "    </tr>\n",
       "    <tr>\n",
       "      <th>8</th>\n",
       "      <td>Analytics</td>\n",
       "    </tr>\n",
       "    <tr>\n",
       "      <th>9</th>\n",
       "      <td>Oracle</td>\n",
       "    </tr>\n",
       "  </tbody>\n",
       "</table>\n",
       "</div>"
      ],
      "text/plain": [
       "                    tag\n",
       "0            Operations\n",
       "1              Database\n",
       "2               Network\n",
       "3                   SQL\n",
       "4    Project management\n",
       "5  Software development\n",
       "6              Security\n",
       "7                  Java\n",
       "8             Analytics\n",
       "9                Oracle"
      ]
     },
     "execution_count": 101,
     "metadata": {},
     "output_type": "execute_result"
    }
   ],
   "source": [
    "#### It has 700 skills\n",
    "tag = df[['tag']]\n",
    "print(\"length of tag = \",len(tag))\n",
    "tag[0:10]"
   ]
  },
  {
   "cell_type": "markdown",
   "metadata": {},
   "source": [
    "#### Functions to check if a skill tag exists already in the dataframe. If not, adds it."
   ]
  },
  {
   "cell_type": "code",
   "execution_count": 102,
   "metadata": {
    "collapsed": true
   },
   "outputs": [],
   "source": [
    "#### In a dataframe with a tag column, check if the given string [new_tag] is in that column\n",
    "def checkForNewTag(df,new_tag):\n",
    "    result_index = df.index[df['tag'] == new_tag].tolist()\n",
    "    if len(result_index) == 0:\n",
    "        return \"not there\"\n",
    "    else:\n",
    "        # print(result_index[0],df.iloc[result_index[0]]['tag'])\n",
    "        return \"found it\",result_index\n",
    "\n",
    "#### In a dataframe with a tag column, add a new row with the new tag string to it\n",
    "def addNewTagToDF(df,new_tag):\n",
    "    df_new = pd.DataFrame([[new_tag]],columns=['tag'])\n",
    "    appended_df = df.append(df_new).reset_index(drop=True)\n",
    "    return appended_df\n",
    "\n",
    "#### For a given dataframe with a tag column, check if tag value exists, if not add it. Use two functions above as helpers.\n",
    "def checkForTagIfNotPresentAdd(df,list_of_tags):\n",
    "    df_here = df.copy()\n",
    "    for each_tag in list_of_tags:\n",
    "        if checkForNewTag(df,each_tag)[0] == \"found it\":\n",
    "            pass\n",
    "        else:\n",
    "            df_here = addNewTagToDF(df_here,each_tag)\n",
    "    return df_here"
   ]
  },
  {
   "cell_type": "code",
   "execution_count": 103,
   "metadata": {},
   "outputs": [
    {
     "data": {
      "text/plain": [
       "('found it', [13])"
      ]
     },
     "execution_count": 103,
     "metadata": {},
     "output_type": "execute_result"
    }
   ],
   "source": [
    "#### As demonstration of the functions above, this function call checks if JavaScript is a skill present in the dataframe.\n",
    "checkForNewTag(tag,'JavaScript')"
   ]
  },
  {
   "cell_type": "markdown",
   "metadata": {},
   "source": [
    "#### The variable 'list_of_tags' is a list of potential new terms I didn't remember seeing in the list from dice, are relatively new, and saw in a several job descriptions I read (but not ones I used in the model dataset)."
   ]
  },
  {
   "cell_type": "code",
   "execution_count": 138,
   "metadata": {
    "collapsed": true
   },
   "outputs": [],
   "source": [
    "list_of_tags = [\"Google Cloud\",\"Parallelization\",\"computational\",\"physics\",\"chemistry\",\"Numerical\",\"Distributed\",\"image\",\"Signal\",\"vision\",\"Semi-supervised\",\"Markov\",\"Bayesian\",\"deep-learning\",\"Reinforcement\",\"STATA\",\"PowerBI\",\"Spotfire\",\"algorithm development\",\"data structures\",\"understand\",\"Azure\",\"Apache\",\"SQL Server\",\"MongoDB\",\"MySQL\",\"Power BI\",\"Qlik\",\"Tableau\",\"data science\",\"classification\",\" clustering\",\"simulation\",\"Monte Carlo\",\"time-series\",\"time series\",\"regression\",\"hypothesis\",\"linear algebra\",\"predict\",\"models\",\"subject\",\"decision\",\"deploy\",\"HDFS\",\"MapD\",\"MapReduce\",\"Pig\",\"Hive\",\"OOP\",\"ggPlot2\",\"H2O\",\"ETL\",\"TensorFlow\",\"Theano\",\"PyTorch\",\"SciKitl-learn\",\"business\",\"map\",\"perform\",\"techniques\",\"SAS Enterprise Miner\",\"SAS\",\"visualizations\",\"nlp\",\"natural language processing\",\"analyst\",\"innovative\",\"R Programming\",\"leveraging\",\"big data\",\"mining\",\"modeling\",\"Large-Scale\",\"administration\",\"Spark\",\"Hadoop\",\"automating\",\"professional \",\"software design\",\"Creative\",\"communication\",\"software\",\"Docker\",\"server administration\",\"SQL\",\"pipelines\",\"Amazon Web Services\",\"AWS\",\"microsoft\",\"validation\",\"verification\",\"virtual\",\"web\",\"sed\",\"awk\",\"fortan\",\"ibm\",\"technologists\",\"cybersecurity\",\"security\",\"investment\",\"build\",\"deploy\",\"devops\",\"troubleshoot\",\"strategic\",\"advice\",\"advise\",\"pytorch\",\"collaborate\",\"Source\",\"Code\",\"engineering\",\"global\",\"keras\",\"front\",\"end\",\"back\",\"analytics\",\"coding\",\"code\",\"programming\",\"program\",\"function\",\"alogrithm\",\"browserify\",\"multi\",\"browser\",\"scipy\",\"stakeholders\",\"architecture\",\"reality\",\"impact\",\"process\",\",workflow\",\"consulting\",\"prototype\",\"innovative\",\"root\",\"cause\",\"amazon\",\"azure\",\"cloud\",\"financial\",\"analysis\",\"data\",\".net\",\"design\",\"apache\",\"unit\",\"engineering\",\"gpu\",\"user\",\"ui\",\"ux\",\"management\",\"visualization\",\"priorities\", \"rework\", \"ambiguity\", \"fast paced\", \"HTML\", \"CSS\", \"Javascript\",\"React\",\"jQuery\",\"photoshop\",\"Illustrator\",\"Java\",\"Ruby\",\"C#\",\"complex problems\", \"C++\", \"C\", \"Java\", \"Python\", \"CVS\", \"Subversion\",\"Git\",\"Windows\",\"software design\",\"linux\",\"Visual Studio\",\"computer science\", \"Eclipse\",\"NetBeans\",\"ANT\",\"project management\",\" Object Oriented Design\",\"debugging\",\"creative\",\"software design\", \"C++\", \"C\", \"Java\", \"Unix\", \"Linux\", \"communication\",\"testing\",\"implementation\",\"software design\",\"teamwork\",\"Mathematics\",\"computer science\", \"mathematics\",\"user support\",\"JavaScript\", \"ES6\", \"Webpack\", \"Browserify\", \"Grunt\", \"Gulp\", \"NPM\",\"GitHub\",\"new technology\",\"development\",\"API\",\"MongoDB\",\"React\", \"Knockout\",\"Ember\",\"Backbone\",\"Front End\",\"HTML\",\"CSS\",\"OpenLayers\",\"large-scale\",\"UI\",\"logic\",\"MATLAB\", \"Python\", \"R\", \"JavaScript\", \"Spotfire\", \"MySQL\", \"MongoDB\",\"GitHub\",\"new technology\",\"development\",\"API\",\"web scraping\",'Database','svg','JQuery','Scikit-learn','three.js','aframe.js','regression','coached','NumPy','theno','keras','torch','pytorch','wordpress','React.js','graph','Neo4J','ML','Tableau','IoT','Internet of things','Weka','node','node.js','speech-to-text','client','microservices','micro-services','artificial intelligence','AI','random forest','bagging','prediction','web assembly','WASM','interactive','data visualization','meetup','jupyter','PostGres','Postgresql','GIS','map','map making','scikit-learn','tensorflow','d3.js','ar.js','deeplearning','deep learning','deep-learning','neural nets','convolutional','redux','vue','adminestrator','vega']"
   ]
  },
  {
   "cell_type": "code",
   "execution_count": 139,
   "metadata": {
    "collapsed": true
   },
   "outputs": [],
   "source": [
    "#### This function takes outs C or R from the skill list. Initially C and R were being caught inside words, but then I added spaces around the keywords and this problem went away.\n",
    "def takeOutLetters(list_of_tags):\n",
    "    new_list_of_tags = []\n",
    "    for skill in list_of_tags:\n",
    "        if skill == \"r\" or skill == \"R\" or skill == \"c\" or skill == \"C\":\n",
    "            pass\n",
    "        else:\n",
    "            new_list_of_tags.append(skill)\n",
    "    return new_list_of_tags"
   ]
  },
  {
   "cell_type": "code",
   "execution_count": 140,
   "metadata": {
    "collapsed": true
   },
   "outputs": [],
   "source": [
    "list_of_tags = takeOutLetters(list_of_tags)"
   ]
  },
  {
   "cell_type": "code",
   "execution_count": 141,
   "metadata": {},
   "outputs": [
    {
     "data": {
      "text/plain": [
       "296"
      ]
     },
     "execution_count": 141,
     "metadata": {},
     "output_type": "execute_result"
    }
   ],
   "source": [
    "len(list_of_tags)"
   ]
  },
  {
   "cell_type": "markdown",
   "metadata": {},
   "source": [
    "#### Function call that takes the list 'list_of_tags' and the 'tag' dataframe and adds the new skills that weren't originally present."
   ]
  },
  {
   "cell_type": "code",
   "execution_count": 142,
   "metadata": {},
   "outputs": [
    {
     "name": "stdout",
     "output_type": "stream",
     "text": [
      "Number of new skill tags is: 254\n"
     ]
    }
   ],
   "source": [
    "#### Function call that takes the list 'list_of_tags' and the 'tag' dataframe and adds the new skills that weren't originally present.\n",
    "new_tag_list = checkForTagIfNotPresentAdd(tag,list_of_tags)\n",
    "#### function prints the number of new skill tags added\n",
    "print(\"Number of new skill tags is:\",len(new_tag_list)-len(tag))"
   ]
  },
  {
   "cell_type": "code",
   "execution_count": 143,
   "metadata": {},
   "outputs": [
    {
     "data": {
      "text/html": [
       "<div>\n",
       "<table border=\"1\" class=\"dataframe\">\n",
       "  <thead>\n",
       "    <tr style=\"text-align: right;\">\n",
       "      <th></th>\n",
       "      <th>tag</th>\n",
       "    </tr>\n",
       "  </thead>\n",
       "  <tbody>\n",
       "    <tr>\n",
       "      <th>count</th>\n",
       "      <td>954</td>\n",
       "    </tr>\n",
       "    <tr>\n",
       "      <th>unique</th>\n",
       "      <td>937</td>\n",
       "    </tr>\n",
       "    <tr>\n",
       "      <th>top</th>\n",
       "      <td>software design</td>\n",
       "    </tr>\n",
       "    <tr>\n",
       "      <th>freq</th>\n",
       "      <td>4</td>\n",
       "    </tr>\n",
       "  </tbody>\n",
       "</table>\n",
       "</div>"
      ],
      "text/plain": [
       "                    tag\n",
       "count               954\n",
       "unique              937\n",
       "top     software design\n",
       "freq                  4"
      ]
     },
     "execution_count": 143,
     "metadata": {},
     "output_type": "execute_result"
    }
   ],
   "source": [
    "new_tag_list.describe()"
   ]
  },
  {
   "cell_type": "markdown",
   "metadata": {},
   "source": [
    "### Convert dataframe of skills to list"
   ]
  },
  {
   "cell_type": "code",
   "execution_count": 144,
   "metadata": {},
   "outputs": [
    {
     "name": "stdout",
     "output_type": "stream",
     "text": [
      "907\n"
     ]
    }
   ],
   "source": [
    "#### convert dataframe of skill tags into array of strings of those skills tags\n",
    "array_of_skills =new_tag_list['tag'].values.tolist()\n",
    "\n",
    "def addSpacesToStringInArray(stringArray):\n",
    "    new_array = []\n",
    "    for string in stringArray:\n",
    "        new_array.append(\" \"+string+\" \")\n",
    "    return new_array\n",
    "\n",
    "array_of_skills = new_tag_list['tag'].values.tolist()\n",
    "array_of_skills_new = []\n",
    "for eachSkill in array_of_skills:\n",
    "    array_of_skills_new.append(eachSkill.lower())  \n",
    "array_of_skills = list(set(array_of_skills_new))\n",
    "array_of_skills = takeOutLetters(array_of_skills)\n",
    "array_of_skills = addSpacesToStringInArray(array_of_skills)\n",
    "\n",
    "#### When running the first time, you might want to uncomment the print statement below for debugging.\n",
    "#print(array_of_skills)\n",
    "print(len(array_of_skills))"
   ]
  },
  {
   "cell_type": "markdown",
   "metadata": {},
   "source": [
    "### Save array of job skills as json"
   ]
  },
  {
   "cell_type": "code",
   "execution_count": 145,
   "metadata": {
    "collapsed": true
   },
   "outputs": [],
   "source": [
    "#### save as json\n",
    "import json\n",
    "with open('data/array_of_skills.json', 'w') as outfile:\n",
    "    json.dump(array_of_skills, outfile)\n",
    "   "
   ]
  },
  {
   "cell_type": "code",
   "execution_count": 146,
   "metadata": {},
   "outputs": [
    {
     "name": "stdout",
     "output_type": "stream",
     "text": [
      "907\n"
     ]
    }
   ],
   "source": [
    "#### open json and work with again\n",
    "with open('data/array_of_skills.json') as json_data:\n",
    "    d = json.load(json_data)\n",
    "    print(len(d)) "
   ]
  },
  {
   "cell_type": "code",
   "execution_count": 147,
   "metadata": {},
   "outputs": [
    {
     "data": {
      "text/plain": [
       "True"
      ]
     },
     "execution_count": 147,
     "metadata": {},
     "output_type": "execute_result"
    }
   ],
   "source": [
    "#### Test that they are now the same thing\n",
    "d == array_of_skills\n"
   ]
  },
  {
   "cell_type": "code",
   "execution_count": 148,
   "metadata": {
    "collapsed": true
   },
   "outputs": [],
   "source": [
    "#### Write data loaded from json to variable 'array_of_skills' that was used from above.\n",
    "array_of_skills = d"
   ]
  },
  {
   "cell_type": "markdown",
   "metadata": {},
   "source": [
    "## Part II\n",
    "## Look at job advertisments and count what skills they ask for or don't ask for"
   ]
  },
  {
   "cell_type": "markdown",
   "metadata": {},
   "source": [
    "#### Convert text from html into lowercase & count skills found"
   ]
  },
  {
   "cell_type": "code",
   "execution_count": 149,
   "metadata": {
    "collapsed": true
   },
   "outputs": [],
   "source": [
    "#### Given a string and an array of skills in string form:\n",
    "#### return a data object that has the count of each skill in that string\n",
    "#### such that the result could be used as a row for machine-learning later.\n",
    "def countTechSkill(string_s,skills_s_array):\n",
    "    results_array = []\n",
    "    for skill in skills_s_array:\n",
    "        instance = string_s.count(skill)\n",
    "        results_array.append({\"skill\":skill,\"count\":instance})\n",
    "    return results_array"
   ]
  },
  {
   "cell_type": "markdown",
   "metadata": {
    "collapsed": true
   },
   "source": [
    "#### Get text data from job descriptions and count the number of times any word in the skill list is found"
   ]
  },
  {
   "cell_type": "code",
   "execution_count": 150,
   "metadata": {
    "collapsed": true
   },
   "outputs": [],
   "source": [
    "stuffToGet = [\n",
    "    {\n",
    "        \"job\":\"Data Scientist\",\n",
    "        \"full_title\":\"Lead Data Scientist\",\n",
    "        \"url\":\"https://www.indeed.com/viewjob?jk=49bbd367c7075464&tk=1c5fgn96gb0dtboc&from=serp&vjs=3\"\n",
    "    },\n",
    "    {\n",
    "        \"job\":\"Data Scientist\",\n",
    "        \"full_title\":\"Lead Data Scientist\",\n",
    "        \"url\":\"https://www.indeed.com/viewjob?jk=a6e22bcf691b7dbe&tk=1c5fgn96gb0dtboc&from=serp&vjs=3\"\n",
    "    },\n",
    "    {\n",
    "        \"job\":\"Data Scientist\",\n",
    "        \"full_title\":\"Data Scientist I/II\",\n",
    "        \"url\":\"https://www.indeed.com/cmp/Zincalyst-Statistical-Consultants/jobs/Data-Scientist-3e775b4e96b68910?q=Data+Scientist&vjs=3\"\n",
    "    },\n",
    "    {\n",
    "        \"job\":\"Data Scientist\",\n",
    "        \"full_title\":\"Sr. Data Scientist\",\n",
    "        \"url\":\"https://www.indeed.com/viewjob?jk=95b468510a383ab4&from=serp&vjs=3\"\n",
    "    },\n",
    "    {\n",
    "        \"job\":\"Data Scientist\",\n",
    "        \"full_title\":\"Principal Data Scientist\",\n",
    "        \"url\":\"https://www.indeed.com/viewjob?jk=2d968e6ab489a5c5&tk=1c5fgn96gb0dtboc&from=serp&vjs=3\"\n",
    "    },\n",
    "    {\n",
    "        \"job\":\"Data Scientist\",\n",
    "        \"full_title\":\"Data Scientist\",\n",
    "        \"url\":\"https://www.indeed.com/viewjob?jk=137abd479c2150db&tk=1c5fgn96gb0dtboc&from=serp&vjs=3\"\n",
    "    },\n",
    "    {\n",
    "        \"job\":\"Data Scientist\",\n",
    "        \"full_title\":\"Sr Associate, Data Scientist\",\n",
    "        \"url\":\"https://www.indeed.com/viewjob?jk=c2c04340cbcc3926&tk=1c5fgn96gb0dtboc&from=serp&vjs=3\"\n",
    "    },\n",
    "    {\n",
    "        \"job\":\"Data Scientist\",\n",
    "        \"full_title\":\"Lead Data Scientist\",\n",
    "        \"url\":\"https://www.indeed.com/viewjob?jk=a6e22bcf691b7dbe&tk=1c5fgo90uah5rdt3&from=serp&vjs=3\"\n",
    "    },\n",
    "    {\n",
    "        \"job\":\"Data Scientist\",\n",
    "        \"full_title\":\"Data Scientist\",\n",
    "        \"url\":\"https://www.indeed.com/viewjob?jk=30f92fc8a5035c91&tk=1c5fgoaikb0dtckt&from=serp&vjs=3\"\n",
    "    },\n",
    "    {\n",
    "        \"job\":\"Data Scientist\",\n",
    "        \"full_title\":\"Data Scientist\",\n",
    "        \"url\":\"https://www.indeed.com/viewjob?jk=43b305d5eb5e6b69&tk=1c5fgotl3ah5rde0&from=serp&vjs=3\"\n",
    "    },\n",
    "    {\n",
    "        \"job\":\"Software Engineer\",\n",
    "        \"full_title\":\"Software Engineer - Python\",\n",
    "        \"url\":\"https://www.indeed.com/viewjob?jk=c816cf9a1e07d061&tk=1c5fh16dvb0dtdph&from=serp&vjs=3\"\n",
    "    },\n",
    "    {\n",
    "        \"job\":\"Software Engineer\",\n",
    "        \"full_title\":\"Software Engineer\",\n",
    "        \"url\":\"https://www.indeed.com/viewjob?jk=91e0712669c90529&tk=1c5fh16dvb0dtdph&from=serp&vjs=3\"\n",
    "    },\n",
    "    {\n",
    "        \"job\":\"Software Engineer\",\n",
    "        \"full_title\":\"Java Software Engineer\",\n",
    "        \"url\":\"https://www.indeed.com/viewjob?jk=4bdcd1222b4d8c12&tk=1c5fh16dvb0dtdph&from=serp&vjs=3\"\n",
    "    },\n",
    "    {\n",
    "        \"job\":\"Software Engineer\",\n",
    "        \"full_title\":\"Software Engineer\",\n",
    "        \"url\":\"https://www.indeed.com/viewjob?jk=f6ad1a6edb8a61dd&tk=1c5fh16dvb0dtdph&from=serp&vjs=3\"\n",
    "    },\n",
    "    {\n",
    "        \"job\":\"Software Engineer\",\n",
    "        \"full_title\":\"Python/Scala Software Engineer\",\n",
    "        \"url\":\"https://www.indeed.com/viewjob?jk=25a0fb3231215f82&tk=1c5fh16dvb0dtdph&from=serp&vjs=3\"\n",
    "    },\n",
    "    {\n",
    "        \"job\":\"Software Engineer\",\n",
    "        \"full_title\":\"Software Engineer\",\n",
    "        \"url\":\"https://www.indeed.com/cmp/Global-Oncology-One,-Inc./jobs/Software-Engineer-f838f70f4775a8e3?q=Software+Engineer&vjs=3\"\n",
    "    },\n",
    "    {\n",
    "        \"job\":\"Software Engineer\",\n",
    "        \"full_title\":\"Software Development Engineer II\",\n",
    "        \"url\":\"https://www.indeed.com/viewjob?jk=c226823895844ec7&tk=1c5fh16dvb0dtdph&from=serp&vjs=3\"\n",
    "    },\n",
    "    {\n",
    "        \"job\":\"Software Engineer\",\n",
    "        \"full_title\":\"Applications Software Engineer\",\n",
    "        \"url\":\"https://www.indeed.com/viewjob?jk=7583664ee5b668ce&q=Software+Engineer&l=Houston%2C+TX&tk=1c5fh5nhpb0dt9a8&from=web&vjs=3\"\n",
    "    },\n",
    "    {\n",
    "        \"job\":\"Software Engineer\",\n",
    "        \"full_title\":\"Unreal Engine Software Developer\",\n",
    "        \"url\":\"https://www.indeed.com/cmp/Managed-Staffing/jobs/Unreal-Engine-Software-Developer-f54f88eb4166e595?sjdu=QwrRXKrqZ3CNX5W-O9jEvSnYMz5IKQ_iO2bEAPai6qtuk3M73j9JCzx3qddZ2ENfwawXOPJyizPj_SfEiGEoeg4Xpkb8Kwc3hXIev_ISS6w&tk=1c5hiu9mla55p92d&vjs=3\"\n",
    "    },\n",
    "    {\n",
    "        \"job\":\"Software Engineer\",\n",
    "        \"full_title\":\"Python Software Engineer\",\n",
    "        \"url\":\"https://www.indeed.com/viewjob?jk=c82f094e78e19b75&tk=1c5hj028p1ekc447&from=serp&vjs=3\"\n",
    "    },\n",
    "    {\n",
    "        \"job\":\"Software Engineer\",\n",
    "        \"full_title\":\"Java Developer\",\n",
    "        \"url\":\"https://www.indeed.com/cmp/Cynosure-Technologies/jobs/Java-Developer-2467edc887d76b8f?q=Software+Engineer&vjs=3\"\n",
    "    },\n",
    "    {\n",
    "        \"job\":\"Software Engineer\",\n",
    "        \"full_title\":\"Software Engineer\",\n",
    "        \"url\":\"https://www.indeed.com/viewjob?jk=c6862a9ad334b572&tk=1c5hj0cfna55pd0r&from=serp&vjs=3\"\n",
    "    },\n",
    "    {\n",
    "        \"job\":\"Software Engineer\",\n",
    "        \"full_title\":\"Engineering Software Developer\",\n",
    "        \"url\":\"https://www.indeed.com/viewjob?jk=880182246045dad3&tk=1c5hj0cfna55pd0r&from=serp&vjs=3\"\n",
    "    },\n",
    "    {\n",
    "        \"job\":\"Software Engineer\",\n",
    "        \"full_title\":\"Software Engineer\",\n",
    "        \"url\":\"https://www.indeed.com/viewjob?jk=d77b5c50eb3d1ebe&tk=1c5hj0cfna55pd0r&from=serp&vjs=3\"\n",
    "    },\n",
    "    {\n",
    "        \"job\":\"Software Engineer\",\n",
    "        \"full_title\":\"Principal Engineer - Software Development\",\n",
    "        \"url\":\"https://www.indeed.com/viewjob?jk=b31f5378aa715bf6&tk=1c5hj15rpa55pb0g&from=serp&vjs=3\"\n",
    "    },\n",
    "    {\n",
    "        \"job\":\"Software Engineer\",\n",
    "        \"full_title\":\"Software Engineer II\",\n",
    "        \"url\":\"https://www.indeed.com/viewjob?jk=5b494525a44e042d&tk=1c5hj15rpa55pb0g&from=serp&vjs=3\"\n",
    "    },\n",
    "    {\n",
    "        \"job\":\"Data Scientist\",\n",
    "        \"full_title\":\"Data Scientist\",\n",
    "        \"url\":\"https://www.indeed.com/viewjob?jk=966dfacd0a0dd535&tk=1c5hjdkm9a55pejo&from=serp&vjs=3\"\n",
    "    },\n",
    "    {\n",
    "        \"job\":\"Data Scientist\",\n",
    "        \"full_title\":\"Data Scientist\",\n",
    "        \"url\":\"https://www.indeed.com/viewjob?jk=f3ffa6c9503838c1&tk=1c5hjdkm9a55pejo&from=serp&vjs=3\"\n",
    "    },\n",
    "    \n",
    "    {\n",
    "        \"job\":\"Data Scientist\",\n",
    "        \"full_title\":\"Data Scientist\",\n",
    "        \"url\":\"https://www.indeed.com/viewjob?jk=43b305d5eb5e6b69&tk=1c5hjdkm9a55pejo&from=serp&vjs=3\"\n",
    "    },\n",
    "    {\n",
    "        \"job\":\"Data Scientist\",\n",
    "        \"full_title\":\"Specialist, Data Science - Energy Insights, New Ventures\",\n",
    "        \"url\":\"https://www.indeed.com/viewjob?jk=70f5fa10764e33e4&tk=1c5knklcbbr1d80c&from=serp&vjs=3\"\n",
    "    },\n",
    "    {\n",
    "        \"job\":\"Data Scientist\",\n",
    "        \"full_title\":\"Data Scientist\",\n",
    "        \"url\":\"https://www.indeed.com/viewjob?jk=e31816cdf0e07ef2&tk=1c5knklcbbr1d80c&from=serp&vjs=3\"\n",
    "    },\n",
    "    {\n",
    "        \"job\":\"Data Scientist\",\n",
    "        \"full_title\":\"Data Scientist\",\n",
    "        \"url\":\"https://www.indeed.com/viewjob?jk=8284fbcac1cf7b82&tk=1c5knklcbbr1d80c&from=serp&vjs=3\"\n",
    "    },\n",
    "    {\n",
    "        \"job\":\"Data Scientist\",\n",
    "        \"full_title\":\"Data Scientist\",\n",
    "        \"url\":\"https://www.indeed.com/viewjob?jk=9b6647ed6c731326&tk=1c5knklcbbr1d80c&from=serp&vjs=3\"\n",
    "    },\n",
    "    {\n",
    "        \"job\":\"Data Scientist\",\n",
    "        \"full_title\":\"Data Scientist\",\n",
    "        \"url\":\"https://www.indeed.com/viewjob?jk=5b494525a44e042d&tk=1c5hj15rpa55pb0g&from=serp&vjs=3\"\n",
    "    },\n",
    "    {\n",
    "        \"job\":\"Data Scientist\",\n",
    "        \"full_title\":\"Data Scientist\",\n",
    "        \"url\":\"https://www.indeed.com/viewjob?jk=361412f227add1f3&tk=1c5knklcbbr1d80c&from=serp&vjs=3\"\n",
    "    },\n",
    "    {\n",
    "        \"job\":\"Data Scientist\",\n",
    "        \"full_title\":\"Data Scientist at PREDICTif Solutions\",\n",
    "        \"url\":\"https://www.indeed.com/viewjob?jk=f1b2f454059a7354&tk=1c5knklcbbr1d80c&from=serp&vjs=3\"\n",
    "    },\n",
    "    \n",
    "    {\n",
    "        \"job\":\"Software Engineer\",\n",
    "        \"full_title\":\"Software Engineer\",\n",
    "        \"url\":\"https://www.indeed.com/viewjob?jk=964b40b06d6ce841&tk=1c5ko1emsbr1dc9j&from=serp&vjs=3\"\n",
    "    },\n",
    "    {\n",
    "        \"job\":\"Software Engineer\",\n",
    "        \"full_title\":\"Software Engineer\",\n",
    "        \"url\":\"https://www.indeed.com/viewjob?jk=205efff4210ad9d7&tk=1c5ko1jf1a0t4d6i&from=serp&vjs=3\"\n",
    "    },\n",
    "    {\n",
    "        \"job\":\"Software Engineer\",\n",
    "        \"full_title\":\"Software Engineer\",\n",
    "        \"url\":\"https://www.indeed.com/cmp/SThree/jobs/Software-Engineer-69482ebc77996192?q=Software+Engineer&vjs=3\"\n",
    "    },\n",
    "    {\n",
    "        \"job\":\"Software Engineer\",\n",
    "        \"full_title\":\"Software Engineer\",\n",
    "        \"url\":\"https://www.indeed.com/viewjob?jk=7ff3dee6824e4a8f&tk=1c5ko0k59br1dbiu&from=serp&vjs=3\"\n",
    "    },\n",
    "    {\n",
    "        \"job\":\"Software Engineer\",\n",
    "        \"full_title\":\"Robotics Software Engineer\",\n",
    "        \"url\":\"https://www.indeed.com/viewjob?jk=902964b75f6e4399&tk=1c5ko0k59br1dbiu&from=serp&vjs=3\"\n",
    "    },\n",
    "    {\n",
    "        \"job\":\"Software Engineer\",\n",
    "        \"full_title\":\"Python Software Engineer\",\n",
    "        \"url\":\"https://www.indeed.com/viewjob?jk=c82f094e78e19b75&tk=1c5hj15rpa55pb0g&from=serp&vjs=3\"\n",
    "    }\n",
    "]"
   ]
  },
  {
   "cell_type": "code",
   "execution_count": 151,
   "metadata": {},
   "outputs": [],
   "source": [
    "#### Save the stuffToGet list in case I want to use it later from file\n",
    "import json\n",
    "with open('data/jobs_to_getDataFrom.json', 'w') as outfile:\n",
    "    json.dump(stuffToGet, outfile)"
   ]
  },
  {
   "cell_type": "code",
   "execution_count": 152,
   "metadata": {},
   "outputs": [
    {
     "name": "stdout",
     "output_type": "stream",
     "text": [
      "42\n"
     ]
    }
   ],
   "source": [
    "#### Open 'jobs_to_getDataFrom.json' and turn the read data into the stuffToGet list.\n",
    "with open('data/jobs_to_getDataFrom.json') as json_data:\n",
    "    stuffToGet = json.load(json_data)\n",
    "    print(len(stuffToGet))"
   ]
  },
  {
   "cell_type": "code",
   "execution_count": 153,
   "metadata": {
    "collapsed": true
   },
   "outputs": [],
   "source": [
    "#### Gets text of job description and does some cleaning\n",
    "def getText(stuffToGet,array_of_skills):\n",
    "    new_array_of_jobs = []\n",
    "    results = []\n",
    "    for job in stuffToGet:\n",
    "        result = requests.get(job[\"url\"])\n",
    "        content = result.content\n",
    "        soup = BeautifulSoup(content,'html.parser')\n",
    "        samples = soup.find('span', {\"id\":\"job_summary\"})\n",
    "        samples_low = samples.get_text().lower()\n",
    "        noSpecial = re.sub('[^a-zA-Z0-9 \\n\\.]', '', samples_low)\n",
    "        results_array = []\n",
    "        for skill in array_of_skills:\n",
    "            instance = noSpecial.count(skill)\n",
    "            results_array.append({\"skill\":skill,\"count\":instance})\n",
    "        job[\"word_counts\"] = results_array\n",
    "        new_array_of_jobs.append(job)\n",
    "    return new_array_of_jobs"
   ]
  },
  {
   "cell_type": "code",
   "execution_count": 154,
   "metadata": {},
   "outputs": [
    {
     "name": "stdout",
     "output_type": "stream",
     "text": [
      "42\n"
     ]
    }
   ],
   "source": [
    "#### Runs the getText function above.\n",
    "#### This will take a couple minutes to run!\n",
    "new_array_of_jobs = getText(stuffToGet,array_of_skills)\n",
    "print(len(new_array_of_jobs))"
   ]
  },
  {
   "cell_type": "markdown",
   "metadata": {},
   "source": [
    "### Save as json for use later"
   ]
  },
  {
   "cell_type": "code",
   "execution_count": 155,
   "metadata": {},
   "outputs": [],
   "source": [
    "new_array_of_jobs_orig = new_array_of_jobs"
   ]
  },
  {
   "cell_type": "code",
   "execution_count": 156,
   "metadata": {
    "collapsed": true
   },
   "outputs": [],
   "source": [
    "import json\n",
    "with open('data/new_array_of_jobs_orig.json', 'w') as outfile:\n",
    "    json.dump(new_array_of_jobs_orig, outfile)"
   ]
  },
  {
   "cell_type": "markdown",
   "metadata": {},
   "source": [
    "## Part III\n",
    "## Explore results by looking at word_counts & visualizing results\n",
    "Skip this if you want.\n",
    " --  <b>Be careful about not overwriting arrays during visualization!!!</b> ---"
   ]
  },
  {
   "cell_type": "code",
   "execution_count": null,
   "metadata": {},
   "outputs": [],
   "source": [
    "with open('data/new_array_of_jobs_orig.json') as json_data:\n",
    "    new_array_of_jobs = json.load(json_data)\n",
    "#     print(new_array_of_jobs)"
   ]
  },
  {
   "cell_type": "code",
   "execution_count": null,
   "metadata": {},
   "outputs": [],
   "source": [
    "#### check out word_counts results of one job\n",
    "# new_array_of_jobs[8]['word_counts']"
   ]
  },
  {
   "cell_type": "code",
   "execution_count": null,
   "metadata": {
    "collapsed": true
   },
   "outputs": [],
   "source": [
    "#### This copies and reformats the json new_array_of_jobs to make it easier to visualize the data in Vega.\n",
    "def getJsonForVisualization(new_array_of_jobs):\n",
    "    jobs_json_for_viz = new_array_of_jobs.copy()\n",
    "    jobs_json_for_viz_holder = []\n",
    "    counter = 0\n",
    "    for eachjob in jobs_json_for_viz:\n",
    "        job_obj = {}\n",
    "        job_obj[\"job\"] = eachjob['job']\n",
    "        job_obj[\"url\"] = eachjob['url']\n",
    "        job_obj[\"job_uniq\"] = eachjob['full_title']+\"_\"+str(counter)\n",
    "        counter += 1\n",
    "        for eachskill in eachjob['word_counts']:\n",
    "            job_obj_2 = job_obj.copy()\n",
    "            #print(\"job_obj_2 =\",job_obj_2)\n",
    "            #print(\"eachskill =\",eachskill)\n",
    "            #print(\"eachjob\",eachjob)\n",
    "            job_obj_2[\"skill\"] = eachskill['skill']\n",
    "            job_obj_2[\"count\"] = eachskill['count']\n",
    "            jobs_json_for_viz_holder.append(job_obj_2)\n",
    "    return jobs_json_for_viz_holder\n",
    "    "
   ]
  },
  {
   "cell_type": "code",
   "execution_count": null,
   "metadata": {},
   "outputs": [],
   "source": [
    "#### This function calls basically flattens the data on the level of each skill in each document, hence the increase in the length result.\n",
    "jobs_json_for_viz_holder = getJsonForVisualization(new_array_of_jobs)\n",
    "print(len(jobs_json_for_viz_holder))"
   ]
  },
  {
   "cell_type": "code",
   "execution_count": null,
   "metadata": {},
   "outputs": [],
   "source": [
    "#### What a single object in the new list looks like\n",
    "jobs_json_for_viz_holder[8000]"
   ]
  },
  {
   "cell_type": "code",
   "execution_count": null,
   "metadata": {
    "collapsed": true
   },
   "outputs": [],
   "source": [
    "#### Writing to file for save keeping\n",
    "with open('data/jobs_json_for_viz_holder.json', 'w') as outfile:\n",
    "    json.dump(jobs_json_for_viz_holder, outfile)"
   ]
  },
  {
   "cell_type": "code",
   "execution_count": null,
   "metadata": {
    "collapsed": true
   },
   "outputs": [],
   "source": [
    "#### Kicks out the skills with zero counts for visualization\n",
    "def showOnlyData(oneJobResult):\n",
    "    array_of_resultsGreaterZero = []\n",
    "    for skill in oneJobResult:\n",
    "        if skill[\"count\"] != 0:\n",
    "            array_of_resultsGreaterZero.append(skill)\n",
    "    return array_of_resultsGreaterZero"
   ]
  },
  {
   "cell_type": "code",
   "execution_count": null,
   "metadata": {
    "collapsed": true
   },
   "outputs": [],
   "source": [
    "def extract_time(json):\n",
    "    try:\n",
    "        # Also convert to int since update_time will be string.  When comparing\n",
    "        # strings, \"10\" is smaller than \"2\".\n",
    "        return int(json['count'])\n",
    "    except KeyError:\n",
    "        return 0"
   ]
  },
  {
   "cell_type": "markdown",
   "metadata": {},
   "source": [
    "#### Making copies so I can sort them and see what skills are more common in each job"
   ]
  },
  {
   "cell_type": "code",
   "execution_count": null,
   "metadata": {},
   "outputs": [],
   "source": [
    "first_job_matches = showOnlyData(new_array_of_jobs[0]['word_counts'])\n",
    "first_job_matches_copy = first_job_matches.copy()\n",
    "# lines.sort() is more efficient than lines = lines.sorted()\n",
    "first_job_matches_copy.sort(key=extract_time, reverse=True)\n",
    "# first_job_matches_copy\n",
    "print('done')"
   ]
  },
  {
   "cell_type": "code",
   "execution_count": null,
   "metadata": {
    "collapsed": true
   },
   "outputs": [],
   "source": [
    "#### Creates a vega bar chart for skill counts for one job description\n",
    "def makeVegeSkillFoundPlot(job_matches):\n",
    "    return Vega({\n",
    "  \"$schema\": \"https://vega.github.io/schema/vega/v3.0.json\",\n",
    "  \"width\": 3000,\n",
    "  \"height\": 200,\n",
    "  \"padding\": 5,\n",
    "\n",
    "  \"data\": [\n",
    "    {\n",
    "      \"name\": \"table\",\n",
    "      \"values\": job_matches\n",
    "    }\n",
    "  ],\n",
    "\n",
    "  \"signals\": [\n",
    "    {\n",
    "      \"name\": \"tooltip\",\n",
    "      \"value\": {},\n",
    "      \"on\": [\n",
    "        {\"events\": \"rect:mouseover\", \"update\": \"datum\"},\n",
    "        {\"events\": \"rect:mouseout\",  \"update\": \"{}\"}\n",
    "      ]\n",
    "    }\n",
    "  ],\n",
    "\n",
    "  \"scales\": [\n",
    "    {\n",
    "      \"name\": \"xscale\",\n",
    "      \"type\": \"band\",\n",
    "      \"domain\": {\"data\": \"table\", \"field\": \"skill\"},\n",
    "      \"range\": \"width\",\n",
    "      \"padding\": 0.05,\n",
    "      \"round\": True\n",
    "    },\n",
    "    {\n",
    "      \"name\": \"yscale\",\n",
    "      \"domain\": {\"data\": \"table\", \"field\": \"count\"},\n",
    "      \"nice\": True,\n",
    "      \"range\": \"height\"\n",
    "    }\n",
    "  ],\n",
    "\n",
    "  \"axes\": [\n",
    "    { \"orient\": \"bottom\", \"scale\": \"xscale\" },\n",
    "    { \"orient\": \"left\", \"scale\": \"yscale\" }\n",
    "  ],\n",
    "\n",
    "  \"marks\": [\n",
    "    {\n",
    "      \"type\": \"rect\",\n",
    "      \"from\": {\"data\":\"table\"},\n",
    "      \"encode\": {\n",
    "        \"enter\": {\n",
    "          \"x\": {\"scale\": \"xscale\", \"field\": \"skill\"},\n",
    "          \"width\": {\"scale\": \"xscale\", \"band\": 1},\n",
    "          \"y\": {\"scale\": \"yscale\", \"field\": \"count\"},\n",
    "          \"y2\": {\"scale\": \"yscale\", \"value\": 0}\n",
    "        },\n",
    "        \"update\": {\n",
    "          \"fill\": {\"value\": \"steelblue\"}\n",
    "        },\n",
    "        \"hover\": {\n",
    "          \"fill\": {\"value\": \"red\"}\n",
    "        }\n",
    "      }\n",
    "    },\n",
    "    {\n",
    "      \"type\": \"text\",\n",
    "      \"encode\": {\n",
    "        \"enter\": {\n",
    "          \"align\": {\"value\": \"center\"},\n",
    "          \"baseline\": {\"value\": \"bottom\"},\n",
    "          \"fill\": {\"value\": \"#333\"}\n",
    "        },\n",
    "        \"update\": {\n",
    "          \"x\": {\"scale\": \"xscale\", \"signal\": \"tooltip.skil\", \"band\": 0.5},\n",
    "          \"y\": {\"scale\": \"yscale\", \"signal\": \"tooltip.count\", \"offset\": -2},\n",
    "          \"text\": {\"signal\": \"tooltip.count\"},\n",
    "          \"fillOpacity\": [\n",
    "            {\"test\": \"datum === tooltip\", \"value\": 0},\n",
    "            {\"value\": 1}\n",
    "          ]\n",
    "        }\n",
    "      }\n",
    "    }\n",
    "  ]\n",
    "})\n",
    "    "
   ]
  },
  {
   "cell_type": "code",
   "execution_count": null,
   "metadata": {
    "collapsed": true
   },
   "outputs": [],
   "source": [
    "#### Creates an array with all the skill count visualizations ready to plot for each job.\n",
    "def getJobMatchesForAllJob(new_array_of_jobs_0):\n",
    "    new_array_of_jobs = new_array_of_jobs_0.copy()\n",
    "    array_of_plots =  []\n",
    "    for eachJob in range(len(new_array_of_jobs)):\n",
    "        #print(\"eachJob\",eachJob)\n",
    "        #print(\"new_array_of_jobs[eachJob]\",new_array_of_jobs[eachJob])\n",
    "        fifth_job_matches_copy = new_array_of_jobs[eachJob]['word_counts'].copy()\n",
    "        # fifth_job_matches_copy =  fifth_job_matches\n",
    "        fifth_job_matches_copy.sort(key=extract_time, reverse=True)\n",
    "        fifth_job_matches_copy = showOnlyData(fifth_job_matches_copy)\n",
    "        #print(\"fifth_job_matches_copy\",fifth_job_matches_copy)\n",
    "        #array_of_plots.append(makeVegeSkillFoundPlot(fifth_job_matches_copy)) \n",
    "        array_of_plots.append(fifth_job_matches_copy) \n",
    "    return array_of_plots"
   ]
  },
  {
   "cell_type": "code",
   "execution_count": null,
   "metadata": {},
   "outputs": [],
   "source": [
    "#### Calls the function above for all the job descriptions.\n",
    "test =  getJobMatchesForAllJob(new_array_of_jobs)\n",
    "print(len(test))"
   ]
  },
  {
   "cell_type": "code",
   "execution_count": null,
   "metadata": {},
   "outputs": [],
   "source": [
    "#### Data Scientist\n",
    "makeVegeSkillFoundPlot(test[0])"
   ]
  },
  {
   "cell_type": "code",
   "execution_count": null,
   "metadata": {},
   "outputs": [],
   "source": [
    "#### Data Scientist\n",
    "makeVegeSkillFoundPlot(test[1])"
   ]
  },
  {
   "cell_type": "code",
   "execution_count": null,
   "metadata": {},
   "outputs": [],
   "source": [
    "#### Data Scientist\n",
    "makeVegeSkillFoundPlot(test[2])"
   ]
  },
  {
   "cell_type": "code",
   "execution_count": null,
   "metadata": {},
   "outputs": [],
   "source": [
    "#### Data Scientist\n",
    "makeVegeSkillFoundPlot(test[6])"
   ]
  },
  {
   "cell_type": "code",
   "execution_count": 91,
   "metadata": {},
   "outputs": [
    {
     "data": {
      "text/html": [
       "<div class=\"vega-embed\" id=\"79de1051-c031-4268-90a5-fd958f57920d\"></div>\n",
       "\n",
       "<style>\n",
       ".vega-embed svg, .vega-embed canvas {\n",
       "  border: 1px dotted gray;\n",
       "}\n",
       "\n",
       ".vega-embed .vega-actions a {\n",
       "  margin-right: 6px;\n",
       "}\n",
       "</style>\n"
      ]
     },
     "metadata": {
      "jupyter-vega3": "#79de1051-c031-4268-90a5-fd958f57920d"
     },
     "output_type": "display_data"
    },
    {
     "data": {
      "application/javascript": [
       "var spec = {\"padding\": 5, \"$schema\": \"https://vega.github.io/schema/vega/v3.0.json\", \"axes\": [{\"scale\": \"xscale\", \"orient\": \"bottom\"}, {\"scale\": \"yscale\", \"orient\": \"left\"}], \"scales\": [{\"round\": true, \"range\": \"width\", \"domain\": {\"field\": \"skill\", \"data\": \"table\"}, \"padding\": 0.05, \"name\": \"xscale\", \"type\": \"band\"}, {\"name\": \"yscale\", \"range\": \"height\", \"nice\": true, \"domain\": {\"field\": \"count\", \"data\": \"table\"}}], \"data\": [{\"name\": \"table\", \"values\": [{\"skill\": \" government \", \"count\": 2}, {\"skill\": \" global \", \"count\": 2}, {\"skill\": \" user \", \"count\": 2}, {\"skill\": \" engineering \", \"count\": 1}, {\"skill\": \" communication \", \"count\": 1}, {\"skill\": \" implementation \", \"count\": 1}, {\"skill\": \" design \", \"count\": 1}, {\"skill\": \" testing \", \"count\": 1}, {\"skill\": \" intelligence \", \"count\": 1}, {\"skill\": \" security \", \"count\": 1}, {\"skill\": \" software design \", \"count\": 1}, {\"skill\": \" linux \", \"count\": 1}, {\"skill\": \" software engineering \", \"count\": 1}, {\"skill\": \" teamwork \", \"count\": 1}, {\"skill\": \" bash \", \"count\": 1}]}], \"height\": 200, \"width\": 3000, \"signals\": [{\"name\": \"tooltip\", \"value\": {}, \"on\": [{\"update\": \"datum\", \"events\": \"rect:mouseover\"}, {\"update\": \"{}\", \"events\": \"rect:mouseout\"}]}], \"marks\": [{\"encode\": {\"enter\": {\"y2\": {\"value\": 0, \"scale\": \"yscale\"}, \"width\": {\"band\": 1, \"scale\": \"xscale\"}, \"x\": {\"field\": \"skill\", \"scale\": \"xscale\"}, \"y\": {\"field\": \"count\", \"scale\": \"yscale\"}}, \"hover\": {\"fill\": {\"value\": \"red\"}}, \"update\": {\"fill\": {\"value\": \"steelblue\"}}}, \"from\": {\"data\": \"table\"}, \"type\": \"rect\"}, {\"encode\": {\"enter\": {\"fill\": {\"value\": \"#333\"}, \"align\": {\"value\": \"center\"}, \"baseline\": {\"value\": \"bottom\"}}, \"update\": {\"fillOpacity\": [{\"value\": 0, \"test\": \"datum === tooltip\"}, {\"value\": 1}], \"text\": {\"signal\": \"tooltip.count\"}, \"x\": {\"band\": 0.5, \"signal\": \"tooltip.skil\", \"scale\": \"xscale\"}, \"y\": {\"offset\": -2, \"signal\": \"tooltip.count\", \"scale\": \"yscale\"}}}, \"type\": \"text\"}]};\n",
       "var selector = \"#79de1051-c031-4268-90a5-fd958f57920d\";\n",
       "var type = \"vega\";\n",
       "\n",
       "var output_area = this;\n",
       "require(['nbextensions/jupyter-vega3/index'], function(vega) {\n",
       "  vega.render(selector, spec, type, output_area);\n",
       "}, function (err) {\n",
       "  if (err.requireType !== 'scripterror') {\n",
       "    throw(err);\n",
       "  }\n",
       "});\n"
      ]
     },
     "metadata": {
      "jupyter-vega3": "#79de1051-c031-4268-90a5-fd958f57920d"
     },
     "output_type": "display_data"
    },
    {
     "data": {
      "image/png": "iVBORw0KGgoAAAANSUhEUgAAC9gAAADvCAYAAACzfp28AAAgAElEQVR4nOzd34ul92Hf8c/sruRdrSVrpaxtpU6ztiW5SmMpClKTKrTCQU6sJk4d/2hdkxCniVMamyS1S6o4xV1UzIxKfxCDGyQcUgxlsRDCGBFCQBiMICDwhS72whdLL3S1t/oHphfPM8x49DnPnMdnNPtIfr3hxZ7dmTk7Eucz85yZr0aJJEmSJEmSJEmSJEmSJEmSJEmSJEmSJEmSJEmSJEmSJEmSJEmSJEmSJEmSJEmSJEmSJEmSJEmSJEmSJEmSJEmSJEmSJEmSJEmSJEmSJEmSJEmSJEmSJEmSJEmSJEmSJEmSJEmSJEmSJEmSJEmSJEmSJEmSJEmSJEmSJEmSJEmSJEmSJEmSJEmSJEmSJEmSJEmSJEmSJEmSJEmSJEmSJEmSJEmSJEmSJEmSJEmSJEmSJEmSJEmSJEmSJEmSJEmSJEmSJEmSJEmSJEmSJEmSJEmSJEmSJB1Ptyb5R0neteLlZ5K8f+LlkiRJkiRJkiRJkiRJkiRJkiS96ftgkt0k20muJfm9Qy+/JclLSb6e5GqST5/oeydJkiRJkiRJkiRJkiRJkiRJ0gn1t0keHW9fzHDI/tyBl38myZPj7fNJrie57cTeO0mSJEmSJEmSJEmSJEmSJEmSTqiLSW4ab38syStJTh14+XaSR8bbW0leTHLXib13kiRJkiRJkiRJkiRJkiRJkiSdYLcmeSbDT6e/59DLXkjy8Hh7K8m3krwvSba3ty/v7OzsHvLdOX/xrzz5wi78OLEN6GwDujnXVZIkSZIkSZIkSZIkSZKkzXtPkt0kX0xyc3n555I8Nt4+m+QHSS6surOdnZ1ZB8Fu9KE1OGm2AZ1tQDfnukqSJEmSJEmSJEmSJEmStHlPJ/mDJGeSnE/y9vHPH8hw4P4TSb6X5HSGn25/Lcm5VXfmgD1Msw3obAO6OddVkiRJkiRJkiRJkiRJkqTNOpPkpQw/wX7P9zIctL+e5I4kW0n++sDL75+6QwfsYZptQGcb0M25rpIkSZIkSZIkSZIkSZIknVzvzP5Pt1+ZA/YwzTagsw3o5lxXSZIkSZIkSZIkSZIkSZIWlgP2MM02oLMN6OZcV0mSJEmSJEmSJEmSJEmSFpYD9jDNNqCzDejmXFdJkiRJkiRJkiRJkiRJkhaWA/YwzTagsw3o5lxXSZIkSZIkSZIkSZIkSZIWlgP2MM02oLMN6OZcV0mSJEmSJEmSJEmSJEmSFpYD9jDNNqCzDejmXFdJkiRJkiRJkiRJkiRJkhaWA/YwzTagsw3o5lxXSZIkSZIkSZIkSZIkSZIWlgP2MM02oLMN6OZcV0mSJEmSJEmSJEmSJEmSFpYD9jDNNqCzDejmXFdJkiRJkiRJkiRJkiRJkhaWA/YwzTagsw3o5lxXSZIkSZIkSZIkSZIkSZIWlgP2MM02oLMN6OZcV0mSJEmSJEmSJEmSJEmSFpYD9jDNNqCzDejmXFdJkiRJkiRJkiRJkiRJko6vW5OcW/GyM0nuTfLuo+7EAXuYZhvQ2QZ0c66rJEmSJEmSJEmSJEmSJEmbdzrJnUmeS/JIefnFJFeTfG389YmpO3PAHqbZBnS2Ad2c6ypJkiRJkiRJkiRJkiRJ0uZdSvJ8kt0kD5WXfybJn4+3LyS5luTmVXfmgD1Msw3obAO6OddVkiRJkiRJkiRJkiRJkqTj60qSh8ufX8xw+P6JJH+X5MtTd+KAPUyzDehsA7o511WSJEmSJEmSJEmSJEmSpOPrW+kH7B9M8lqS30ryVJIXkpxNku3t7cs7Ozu7h835S2/0oTU4abYBnW1AN+e6SpIkSZIkSZIkSZIkSZJ0fK06YP90ksfH26eS/H2SO1bdiQP2MM02oLMN6OZcV0mSJEmSJEmSJEmSJEmSjq/DB+wfSHJzkq8k+fL4ZxeSvDr+WnPAHqbZBnS2Ad2c6ypJkiRJkiRJkiRJkiRJ0vH1jewfsD+b5HqGn1R/McnVJLujz0/diQP2MM02oLMN6OZcV0mSJEmSJEmSJEmSJEmSTq53JHn7Ua/kgD1Msw3obAO6OddVkiRJkiRJkiRJkiRJkqSF5YA9TLMN6GwDujnXVZIkSZIkSZIkSZIkSZKkheWAPUyzDehsA7o511WSJEmSJEmSJEmSJEmSpIXlgD1Msw3obAO6OddVkiRJkiRJkiRJkiRJkqSF5YA9TLMN6GwDujnXVZIkSZIkSZIkSZIkSZKkheWAPUyzDehsA7o511WSJEmSJEmSJEmSJEmSpIXlgD1Msw3obAO6OddVkiRJkiRJkiRJkiRJkqSF5YA9TLMN6GwDujnXVZIkSZIkSZIkSZIkSZKkheWAPUyzDehsA7o511WSJEmSJEmSJEmSJEmSpIXlgD1Msw3obAO6OddVkiRJkiRJkiRJkiRJkqSF5YA9TLMN6GwDujnXVZIkSZIkSZIkSZIkSZKkheWAPUyzDehsA7o511WSJEmSJEmSJEmSJEmSpOPr1iTnJl5+b5JLR92JA/YwzTagsw3o5lxXSZIkSZIkSZIkSZIkSZI273SSO5M8l+SR8vKtJN8cPZ/kO+Pb1Bywh2m2AZ1tQDfnukqSJEmSJEmSJEmSJEmStHmXMhyc303yUHn5p5I8Od7eSvKRJLesujMH7GGabUBnG9DNua6SJEmSJEmSJEmSJEmSJB1fV5I8XP78k0ley3AAfzfJh6buxAF7mGYb0NkGdHOuqyRJkiRJkiRJkiRJkiRJx9e30g/YfyrJS0nuTHJfhsP2F5Nke3v78s7Ozu5hc/7SG31oDU6abUBnG9DNua6SJEmSJEmSJEmSJEmSJB1fqw7YfzbJFw78ftVPuk/iJ9jDUWwDOtuAbs51lSRJkiRJkiRJkiRJkiTp+Dp8wP6BJDcn+XCGQ/Wnk1zI8BPsL6y6EwfsYZptQGcb0M25rpIkSZIkSZIkSZIkSZIkHV/fyP4B+7NJrie5I8lWkr9Msjv67ak7ccAeptkGdLYB3ZzrKkmSJEmSJEmSJEmSJEnSyXVbkvNHvZID9jDNNqCzDejmXFdJkiRJkiRJkiRJkiRJkhaWA/YwzTagsw3o5lxXSZIkSZIkSZIkSZIkSZIWlgP2MM02oLMN6OZcV0mSJEmSJEmSJEmSJEmSFpYD9jDNNqCzDejmXFdJkiRJkiRJkiRJkiRJkhaWA/YwzTagsw3o5lxXSZIkSZIkSZIkSZIkSZIWlgP2MM02oLMN6OZcV0mSJEmSJEmSJEmSJEmSFpYD9jDNNqCzDejmXFdJkiRJkiRJkiRJkiRJkhaWA/YwzTagsw3o5lxXSZIkSZIkSZIkSZIkSZIWlgP2MM02oLMN6OZcV0mSJEmSJEmSJEmSJEmSFpYD9jDNNqCzDejmXFdJkiRJkiRJkiRJkiRJkhaWA/YwzTagsw3o5lxXSZIkSZIkSZIkSZIkSZIWlgP2MM02oLMN6OZcV0mSJEmSJEmSJEmSJEmSjq9bk5w74nXuOup1HLCHabYBnW1AN+e6SpIkSZIkSZIkSZIkSZK0eaeT3JnkuSSPTLzeu5PsJvnFqTtzwB6m2QZ0tgHdnOsqSZIkSZIkSZIkSZIkSdLmXUryfIbD8w+teJ1TSb57xOskccAejmIb0NkGdHOuqyRJkiRJkiRJkiRJkiRJx9eVJA+veNlXkjye5GsTr5PEAXs4im1AZxvQzbmukiRJkiRJkiRJkiRJkiQdX99KPzz/aJJnxts/dAh/e3v78s7Ozu5hc/7SG31oDU6abUBnG9DNua6SJEmSJEmSJEmSJEmSJB1f7YD9VpIXkuwmuT7+upvk51fdiQP2MM02oLMN6OZcV0mSJEmSJEmSJEmSJEmSjq/DB+wfSHJzkgtJ3pnkziQvJvlohoP3NQfsYZptQGcb0M25rpIkSZIkSZIkSZIkSZIkHV/fyP4B+7MZfmL9HYde5+kkPzd1Jw7YwzTbgM42oJtzXSVJkiRJkiRJkiRJkiRJWlgO2MM024DONqCbc10lSZIkSZIkSZIkSZIkSVpYDtjDNNuAzjagm3NdJUmSJEmSJEmSJEmSJElaWA7YwzTbgM42oJtzXSVJkiRJkiRJkiRJkiRJWlgO2MM024DONqCbc10lSZIkSZIkSZIkSZIkSVpYDtjDNNuAzjagm3NdJUmSJEmSJEmSJEmSJElaWA7YwzTbgM42oJtzXSVJkiRJkiRJkiRJkiRJWlgO2MM024DONqCbc10lSZIkSZIkSZIkSZIkSVpYDtjDNNuAzjagm3NdJUmSJEmSJEmSJEmSJElaWA7YwzTbgM42oJtzXSVJkiRJkiRJkiRJkiRJWlgO2MM024DONqCbc10lSZIkSZIkSZIkSZIkSVpYDtjDNNuAzjagm3NdJUmSJEmSJEmSJEmSJElaWA7YwzTbgM42oJtzXSVJkiRJkiRJkiRJkiRJOr5uTXJuxcvOJPlAkp8+6k4csIdptgGdbUA357pKkiRJkiRJkiRJkiRJkrR5p5PcmeS5JI+Ul19I8kqSryf5dpK/Gt+m5oA9TLMN6GwDujnXVZIkSZIkSZIkSZIkSZKkzbuU5Pkku0keKi//XJInx9unMhy2v3fVnTlgD9NsAzrbgG7OdZUkSZIkSZIkSZIkSZIk6fi6kuTh8ue3Jbl9vH1Pktcy/FT7mgP2MM02oLMN6OZcV0mSJEmSJEmSJEmSJEmSjq9vpR+wT5KtJL+f4afc/+reH25vb1/e2dnZPWzOX3qjD63BSbMN6GwDujnXVZIkSZIkSZIkSZIkSZKk42vVAfu3JXkpybNJ7jzqThywh2m2AZ1tQDfnukqSJEmSJEmSJEmSJEmSdHwdPmD/QJKbk3wiyXeS3DJ6x9SdOGAP02wDOtuAbs51lSRJkiRJkiRJkiRJkiTp+PpG9g/Yn01yPckdSZ5IsnvA9SQXVt2JA/YwzTagsw3o5lxXSZIkSZIkSZIkSZIkSZIWlgP2MM02oLMN6OZcV0mSJEmSJEmSJEmSJEmSFpYD9jDNNqCzDejmXFdJkiRJkiRJkiRJkiRJkhaWA/YwzTagsw3o5lxXSZIkSZIkSZIkSZIkSZIWlgP2MM02oLMN6OZcV0mSJEmSJEmSJEmSJEmSFpYD9jDNNqCzDejmXFdJkiRJkiRJkiRJkiRJkhaWA/YwzTagsw3o5lxXSZIkSZIkSZIkSZIkSZIWlgP2MM02oLMN6OZcV0mSJEmSJEmSJEmSJEmSFpYD9jDNNqCzDejmXFdJkiRJkiRJkiRJkiRJkhaWA/YwzTagsw3o5lxXSZIkSZIkSZIkSZIkSZIWlgP2MM02oLMN6OZcV0mSJEmSJEmSJEmSJEmSFpYD9jDNNqCzDejmXFdJkiRJkiRJkiRJkiRJkhaWA/YwzTagsw3o5lxXSZIkSZIkSZIkSZIkSZKOr1uTnFvxsjNJ3p/kXUfdiQP2MM02oLMN6OZcV0mSJEmSJEmSJEmSJEmSNu90kjuTPJfkkfLyW5K8lOTrSa4m+fTUnTlgD9NsAzrbgG7OdZUkSZIkSZIkSZIkSZIkafMuJXk+yW6Sh8rLP5PkyfH2+STXk9y26s4csIdptgGdbUA357pKkiRJkiRJkiRJkiRJknR8XUnycPnz7ez/ZPutJC8muWvVnThgD9NsAzrbgG7OdZUkSZIkSZIkSZIkSZIk6fj6VvoB+xcO/PnW+HrvS5Lt7e3LOzs7u4fN+Utv9KE1OGm2AZ1tQGcb0NkGdLYBnW1AZxvQ2QZ0tgGdbUBnG9DZBnS2AZ1tQLfuNo6rVQfsP5fksfH22SQ/SHJh1Z04YA/TbAM624DONqCzDehsAzrbgM42oLMN6GwDOtuAzjagsw3obAM624Bu3W0cV4cP2D+Q5OYkn0jyvSSnk9yT5FqSc6vuxAF7mGYb0NkGdLYBnW1AZxvQ2QZ0tgGdbUBnG9DZBnS2AZ1tQGcb0NkGdOtu47j6RvYP2J9Ncj3JHUm2kvx1kt3R/VN34oA9TLMN6GwDOtuAzjagsw3obAM624DONqCzDehsAzrbgM42oLMN6GwDunW3cVK9M8nbj3olB+xhmm1AZxvQ2QZ0tgGdbUBnG9DZBnS2AZ1tQGcb0NkGdLYBnW1AZxvQrbuNReWAPUyzDehsAzrbgM42oLMN6GwDOtuAzjagsw3obAM624DONqCzDehsA7p1t7GoHLCHabYBnW1AZxvQ2QZ0tgGdbUBnG9DZBnS2AZ1tQGcb0NkGdLYBnW1At+42FpUD9jDNNqCzDehsAzrbgM42oLMN6GwDOtuAzjagsw3obAM624DONqCzDejW3caicsAeptkGdLYBnW1AZxvQ2QZ0tgGdbUBnG9DZBnS2AZ1tQGcb0NkGdLYB3brbWFQO2MM024DONqCzDehsAzrbgM42oLMN6GwDOtuAzjagsw3obAM624DONqBbdxuLygF7mGYb0NkGdLYBnW1AZxvQ2QZ0tgGdbUBnG9DZBnS2AZ1tQGcb0NkGdOtuY1E5YA/TbAM624DONqCzDehsAzrbgM42oLMN6GwDOtuAzjagsw3obAM624Bu3W0sKgfsYZptQGcb0NkGdLYBnW1AZxvQ2QZ0tgGdbUBnG9DZBnS2AZ1tQGcb0K27jUXlgD1Msw3obAM624DONqCzDehsAzrbgM42oLMN6GwDOtuAzjagsw3obAO6dbexqBywh2m2AZ1tQGcb0NkGdLYBnW1AZxvQ2QZ0tgGdbUBnG9DZBnS2AZ1tQLfuNhaVA/YwzTagsw3obAM624DONqCzDehsAzrbgM42oLMN6GwDOtuAzjagsw3o1t3GcXRrkg+Mv7bOJLk3ybuPuiMH7GGabUBnG9DZBnS2AZ1tQGcb0NkGdLYBnW1AZxvQ2QZ0tgGdbUBnG9Ctu41Ne2+S3SRPjb/ef+jlF5NcTfK18dcnpu7MAXuYZhvQ2QZ0tgGdbUBnG9DZBnS2AZ1tQGcb0NkGdLYBnW1AZxvQ2QZ0625j064keXS8/WCSV5KcOvDyzyT58/H2hSTXkty86s4csIdptgGdbUBnG9DZBnS2AZ1tQGcb0NkGdLYBnW1AZxvQ2QZ0tgGdbUC37jY26aYkL2f4KfXJcID+lSRnDrzOxQw/2f6JJH+X5MtTd+iAPUyzDehsAzrbgM42oLMN6GwDOtuAzjagsw3obAM624DONqCzDehsA7p1t7FJ55O8muFg/d7vv5/h4P1eDyZ5LclvJXkqyQtJzibJ9vb25Z2dnd3D5rwDN/pfMpw024DONqCzDehsAzrbgM42oLMN6GwDOtuAzjagsw3obAM624DONqBbdxubtJXk2SR3jb+/O8NPsD914HWeTvL4ePtUkr9PcseqO3TAHqbZBnS2AZ1tQGcb0NkGdLYBnW1AZxvQ2QZ0tgGdbUBnG9DZBnS2Ad2629i0p5N8abz9sSTPjLcfSHJzkq8k+fL4Zxfywz/x/nU5YA/TbAM624DONqCzDehsAzrbgM42oLMN6GwDOtuAzjagsw3obAM624Bu3W1s2sUkV5PsJrmW5PYkZ5Ncz/CT6g++fDfJ56fuzAF7mGYb0NkGdLYBnW1AZxvQ2QZ0tgGdbUBnG9DZBnS2AZ1tQGcb0NkGdOtu4zg6neEg/ZmJ13lHkrcfdUcO2MM024DONqCzDehsAzrbgM42oLMN6GwDOtuAzjagsw3obAM624DONqBbdxuLygF7mGYb0NkGdLYBnW1AZxvQ2QZ0tgGdbUBnG9DZBnS2AZ1tQGcb0NkGdOtuY1E5YA/TbAM624DONqCzDehsAzrbgM42oLMN6GwDOtuAzjagsw3obAM624Bu3W0sKgfsYZptQGcb0NkGdLYBnW1AZxvQ2QZ0tgGdbUBnG9DZBnS2AZ1tQGcb0K27jUXlgD1Msw3obAM624DONqCzDehsAzrbgM42oLMN6GwDOtuAzjagsw3obAO6dbexqBywh2m2AZ1tQGcb0NkGdLYBnW1AZxvQ2QZ0tgGdbUBnG9DZBnS2AZ1tQLfuNhaVA/YwzTagsw3obAM624DONqCzDehsAzrbgM42oLMN6GwDOtuAzjagsw3o1t3GonLAHqbZBnS2AZ1tQGcb0NkGdLYBnW1AZxvQ2QZ0tgGdbUBnG9DZBnS2Ad2621hUDtjDNNuAzjagsw3obAM624DONqCzDehsAzrbgM42oLMN6GwDOtuAzjagW3cbi8oBe5hmG9DZBnS2AZ1tQGcb0NkGdLYBnW1AZxvQ2QZ0tgGdbUBnG9DZBnTrbmNROWAP02wDOtuAzjagsw3obAM624DONqCzDehsAzrbgM42oLMN6GwDOtuAbt1tLCoH7GGabUBnG9DZBnS2AZ1tQGcb0NkGdLYBnW1AZxvQ2QZ0tgGdbUBnG9Ctu43j6NYkHxh/XdW9SS4ddUcO2MM024DONqCzDehsAzrbgM42oLMN6GwDOtuAzjagsw3obAM624DONqBbdxub9t4ku0meGn+9/9DLt5J8c/R8ku8kOb3qzhywh2m2AZ1tQGcb0NkGdLYBnW1AZxvQ2QZ0tgGdbUBnG9DZBnS2AZ1tQLfuNjbtSpJHx9sPJnklyakDL/9UkifH21tJPpLkllV35oA9TLMN6GwDOtuAzjagsw3obAM624DONqCzDehsAzrbgM42oLMN6GwDunW3sUk3JXk5ycXx9xcyHLA/c+B1PpnktQw/3X43yYem7tABe5hmG9DZBnS2AZ1tQGcb0NkGdLYBnW1AZxvQ2QZ0tgGdbUBnG9DZBnTrbmOTzid5NcPB+r3ffz/Dwfu9PpXkpSR3Jrkvw2H7i0myvb19eWdnZ/ewOe/Ajf6XDCfNNqCzDehsAzrbgM42oLMN6GwDOtuAzjagsw3obAM624DONqCzDejW3cYmbSV5Nsld4+/vzvAT7E8deJ3PJvnCgd9fSfLwqjt0wB6m2QZ0tgGdbUBnG9DZBnS2AZ1tQGcb0NkGdLYBnW1AZxvQ2QZ0tgHdutvYtKeTfGm8/bEkz4y3H0hyc5IPZzhUfzrDT7p/Lfs/8f51OWAP02wDOtuAzjagsw3obAM624DONqCzDehsAzrbgM42oLMN6GwDOtuAbt1tbNrFJFeT7Ca5luT2JGeTXE9yR4afcv+X48t3k/z21J05YA/TbAM624DONqCzDehsAzrbgM42oLMN6GwDOtuAzjagsw3obAM624Bu3W0cR6czHLQ/M/E6tyU5f9QdOWAP02wDOtuAzjagsw3obAM624DONqCzDehsAzrbgM42oLMN6GwDOtuAbt1tLCoH7GGabUBnG9DZBnS2AZ1tQGcb0NkGdLYBnW1AZxvQ2QZ0tgGdbUBnG9Ctu41F5YA9TLMN6GwDOtuAzjagsw3obAM624DONqCzDehsAzrbgM42oLMN6GwDunW3sagcsIdptgGdbUBnG9DZBnS2AZ1tQGcb0NkGdLYBnW1AZxvQ2QZ0tgGdbUC37jYWlQP2MM02oLMN6GwDOtuAzjagsw3obAM624DONqCzDehsAzrbgM42oLMN6NbdxqJywB6m2QZ0tgGdbUBnG9DZBnS2AZ1tQGcb0NkGdLYBnW1AZxvQ2QZ0tgHduttYVA7YwzTbgM42oLMN6GwDOtuAzjagsw3obAM624DONqCzDehsAzrbgM42oFt3G4vKAXuYZhvQ2QZ0tgGdbUBnG9DZBnS2AZ1tQGcb0NkGdLYBnW1AZxvQ2QZ0625jUTlgD9NsAzrbgM42oLMN6GwDOtuAzjagsw3obAM624DONqCzDehsAzrbgG7dbSwqB+xhmm1AZxvQ2QZ0tgGdbUBnG9DZBnS2AZ1tQGcb0NkGdLYBnW1AZxvQrbuNReWAPUyzDehsAzrbgM42oLMN6GwDOtuAzjagsw3obAM624DONqCzDehsA7p1t7GoHLCHabYBnW1AZxvQ2QZ0tgGdbUBnG9DZBnS2AZ1tQGcb0NkGdLYBnW1At+42jqNbk3xg/HWqu5Kcm3oFB+xhmm1AZxvQ2QZ0tgGdbUBnG9DZBnS2AZ1tQGcb0NkGdLYBnW1AZxvQrbuNTXtvkt0kT42/3r/i9d49vvwXp+7MAXuYZhvQ2QZ0tgGdbUBnG9DZBnS2AZ1tQGcb0NkGdLYBnW1AZxvQ2QZ0625j064keXS8/WCSV5KcOvQ6p5J8N8MB+4em7swBe5hmG9DZBnS2AZ1tQGcb0NkGdLYBnW1AZxvQ2QZ0tgGdbUBnG9DZBnTrbmOTbkrycpKL4+8vZDhgf+bQ630lyeNJvpbk4ak7dMAeptkGdLYBnW1AZxvQ2QZ0tgGdbUBnG9DZBnS2AZ1tQGcb0NkGdLYB3brb2KTzSV7NcLB+7/ffz3Dwfq9Hkzwz3r6SAwfst7e3L+/s7OweNucduNH/kuGk2QZ0tgGdbUBnG9DZBnS2AZ1tQGcb0NkGdLYBnW1AZxvQ2QZ0tgHdutvYpK0kzya5a/z93Rl+gv2pAy9/Iclukuvjr7tJfn7VHTpgD9NsAzrbgM42oLMN6GwDOtuAzjagsw3obAM624DONqCzDehsAzrbgG7dbWza00m+NN7+WPZ/Wv0DSW7O8NPt35nkziQvJvlohoP3NQfsYZptQGcb0NkGdLYBnW1AZxvQ2QZ0tgGdbUBnG9DZBnS2AZ1tQGcb0K27jU27mORqhp9Mfy3J7UnOZviJ9Xccet2nk/zc1J05YA/TbAM624DONqCzDehsAzrbgM42oLMN6GwDOtuAzjagsw3obAM624Bu3W0cR6czHLQ/s+kdOWAP02wDOtuAzjagsw3obAM624DONqCzDehsAzrbgM42oLMN6GwDOtuAbt1tLCoH7GGabUBnG9DZBnS2AZ1tQGcb0NkGdLYBnW1AZxvQ2QZ0tgGdbUBnG9Ctu41F5YA9TLMN6GwDOtuAzjagsw3obAM624DONqCzDehsAzrbgM42oLMN6GwDunW3sagcsIdptgGdbUBnG9DZBnS2AZ1tQGcb0NkGdLYBnW1AZxvQ2QZ0tg2b/rcAAB52SURBVAGdbUC37jYWlQP2MM02oLMN6GwDOtuAzjagsw3obAM624DONqCzDehsAzrbgM42oLMN6NbdxqJywB6m2QZ0tgGdbUBnG9DZBnS2AZ1tQGcb0NkGdLYBnW1AZxvQ2QZ0tgHduttYVA7YwzTbgM42oLMN6GwDOtuAzjagsw3obAM624DONqCzDehsAzrbgM42oFt3G4vKAXuYZhvQ2QZ0tgGdbUBnG9DZBnS2AZ1tQGcb0NkGdLYBnW1AZxvQ2QZ0625jUTlgD9NsAzrbgM42oLMN6GwDOtuAzjagsw3obAM624DONqCzDehsAzrbgG7dbSwqB+xhmm1AZxvQ2QZ0tgGdbUBnG9DZBnS2AZ1tQGcb0NkGdLYBnW1AZxvQrbuNReWAPUyzDehsAzrbgM42oLMN6GwDOtuAzjagsw3obAM624DONqCzDehsA7p1t7GoHLCHabYBnW1AZxvQ2QZ0tgGdbUBnG9DZBnS2AZ1tQGcb0NkGdLYBnW1At+42jqNbk3xg/LV1Znz5Tx91Rw7YwzTbgM42oLMN6GwDOtuAzjagsw3obAM624DONqCzDehsAzrbgM42oFt3G5v23iS7SZ4af73/0MsvJHklydeTfDvJXyU5verOHLCHabYBnW1AZxvQ2QZ0tgGdbUBnG9DZBnS2AZ1tQGcb0NkGdLYBnW1At+42Nu1KkkfH2w9mOEx/6sDLP5fkyfH2qfHl9666MwfsYZptQGcb0NkGdLYBnW1AZxvQ2QZ0tgGdbUBnG9DZBnS2AZ1tQGcb0K27jU26KcnLSS6Ov9/7afVnDrzObUluH2/fk+S18fVqDtjDNNuAzjagsw3obAM624DONqCzDehsAzrbgM42oLMN6GwDOtuAzjagW3cbm3Q+yavZPzB/Psn3Mxy8P9hWkt9PspvkV/f+cHt7+/LOzs7uYXPegRv9LxlOmm1AZxvQ2QZ0tgGdbUBnG9DZBnS2AZ1tQGcb0NkGdLYBnW1AZxvQrbuNTdpK8mySu8bf353hJ9ifOvA6b0vy0vh6dx51hw7YwzTbgM42oLMN6GwDOtuAzjagsw3obAM624DONqCzDehsAzrbgM42oFt3G5v2dJIvjbc/luSZ8fYDSW5O8okk30lyy+gdU3fmgD1Msw3obAM624DONqCzDehsAzrbgM42oLMN6GwDOtuAzjagsw3obAO6dbexaReTXE2ym+RaktuTnE1yPckdSZ4YX7bnepILq+7MAXuYZhvQ2QZ0tgGdbUBnG9DZBnS2AZ1tQGcb0NkGdLYBnW1AZxvQ2QZ0627jODqd4aD9mU3vyAF7mGYb0NkGdLYBnW1AZxvQ2QZ0tgGdbUBnG9DZBnS2AZ1tQGcb0NkGdOtuY1E5YA/TbAM624DONqCzDehsAzrbgM42oLMN6GwDOtuAzjagsw3obAM624Bu3W0sKgfsYZptQGcb0NkGdLYBnW1AZxvQ2QZ0tgGdbUBnG9DZBnS2AZ1tQGcb0K27jUXlgD1Msw3obAM624DONqCzDehsAzrbgM42oLMN6GwDOtuAzjagsw3obAO6dbexqBywh2m2AZ1tQGcb0NkGdLYBnW1AZxvQ2QZ0tgGdbUBnG9DZBnS2AZ1tQLfuNhaVA/YwzTagsw3obAM624DONqCzDehsAzrbgM42oLMN6GwDOtuAzjagsw3o1t3GonLAHqbZBnS2AZ1tQGcb0NkGdLYBnW1AZxvQ2QZ0tgGdbUBnG9DZBnS2Ad2621hUDtjDNNuAzjagsw3obAM624DONqCzDehsAzrbgM42oLMN6GwDOtuAzjagW3cbi8oBe5hmG9DZBnS2AZ1tQGcb0NkGdLYBnW1AZxvQ2QZ0tgGdbUBnG9DZBnTrbmNROWAP02wDOtuAzjagsw3obAM624DONqCzDehsAzrbgM42oLMN6GwDOtuAbt1tLCoH7GGabUBnG9DZBnS2AZ1tQGcb0NkGdLYBnW1AZxvQ2QZ0tgGdbUBnG9Ctu41F5YA9TLMN6GwDOtuAzjagsw3obAM624DONqCzDehsAzrbgM42oLMN6GwDunW3cRzdmuQD46+tM0nen+RdR92RA/YwzTagsw3obAM624DONqCzDehsAzrbgM42oLMN6GwDOtuAzjagsw3o1t3Gpr03yW6Sp8Zf7z/08luSvJTk60muJvn01J05YA/TbAM624DONqCzDehsAzrbgM42oLMN6GwDOtuAzjagsw3obAM624Bu3W1s2pUkj463H0zySpJTB17+mSRPjrfPJ7me5LZVd+aAPUyzDehsAzrbgM42oLMN6GwDOtuAzjagsw3obAM624DONqCzDehsA7p1t7FJNyV5OcnF8fcXMhywP3PgdbaTPDLe3kryYpK7Vt2hA/YwzTagsw3obAM624DONqCzDehsAzrbgM42oLMN6GwDOtuAzjagsw3o1t3GJp1P8mqGg/V7v/9+hoP3e72Q5OHx9laSbyV5X5Jsb29f3tnZ2T3k/5U/AwAAAAAAAAAAAACAE7W9vX15zgH7rSTPZv8n0t+d4SfYnzrwOp9L8th4+2ySHxw4kK83aTs78/5PA9KPS7Yh9WxD6tmG1LMNqWcbUs82pJ5tSD3bkHq2IfVsQ+rZhtSzDalnG1LPNt76PZ3kS+PtjyV5Zrz9QJKbk3wiyfeSnE5yT5JrSc6d8PuoY86wpZ5tSD3bkHq2IfVsQ+rZhtSzDalnG1LPNqSebUg925B6tiH1bEPq2YbUs423fheTXE2ym+Hw/O0ZflL99SR3ZPgp9389vnw3yf035t3UcWbYUs82pJ5tSD3bkHq2IfVsQ+rZhtSzDalnG1LPNqSebUg925B6tiH1bEPq2caPR6czHLQ/M/E670zy9pN5d/RGZ9hSzzaknm1IPduQerYh9WxD6tmG1LMNqWcbUs82pJ5tSD3bkHq2IfVsQ+rZhvQWbHt7+/KNfh+kJWYbUs82pJ5tSD3bkHq2IfVsQ+rZhtSzDalnG1LPNqSebUg925B6tiH1bEOSJEmSJEmSJEmSJEmSJEmSJEmSJEmSJEmSJEmSJEmSJEmSJEnSW68zSR6aePmlJD+z5n1dSHLfpu+QJGmx/UKSt70B93t3kp98A+5XWnqbPPbPJPnFJFvH9+7ox6xNH0NHPY+4kb1Rn6+kTfuFJHf8CG/j8Sy9PtvQm6kLSe7f4O33rrsOXn/ZgLR5nldryZ1J8vEM36O7UV1Kcs/Mt/H5SUvt7iTvzObXZdJJdk+Sf5U337XKG/U9P/vVW7WfT3LzjX4npDW6LckjG7z9mfHt32yf1ySdUE8n+bkb/U5IpfNJXklyesXLP5vkP655Xz+b5MljeJ8kScvs95Lc+gbc7y/Hf6ClH89+lMf+3vOKtyX5d0lOHfc7pR+bNn0MHfU84rg76jn1x5N8frz9Rn2+kjbthcz/ArTHs96K3ZThc8gtM9/Ox3q9WbuU5DcmXn7wsd3au+66LfvXXzYgbd7B50S+h6el9UtJfpDkzty4x+dnkvz5zLfx+UlL7Q+SPJqjr8ukpbSV5KUkv5nhcfudvHkOJL5R3/O7FPvVZi3xmn8ryd9k+I/ApKV3X4avS/2on4/OJ/n+Bm8vaUW3ZPgkdz3JToaDvlsZvrCwm+S1JL+e5GKS55KcG9/u0ST/PsN//fKfx9f9qyS3Jzmb5C+S/O8MX7h+Isl/GV/n2QyDPpvka0n+1/h3fHr8/W6SXxv/jgvj6+8m+dMMX9i+lOQvk/zf8c9/Jclj4+1r498v3ajant6e4YLtdJKfyvDJ8OBj+pMZNvD349v90nhf9yW5Or7udobN3JfkP53MP4r0hnU2wz72Dps9keHj/d0ZvpCxm+Fzx1b655hk2METGb7Y4eCjltRvZni8vpz9L26166BkeJzvZrhm+vr453+Y4Rskj2fYydUkryZ5//g2H8xwvfNa9q+XVv29B3fy4fFtL+X111EZ//y749v/jyT/4kf+N6Af1y5l/xrnTzJ8bG7XPZcyPAafz/B4+5fj61zP8NNi1nmO8BsZftpEMnzu+Oz4ds8k+e/j634xw+eRxzI89reyv7mXx7c7k+FabTf712AHn1e8K8kfrfHPcnhP0l5ns/8YeiLJ5ew/Pv94vH15fPmfJHkqw2PvbzM8/s5n/3nE1HPjVXtK+ueN9jnm8HPqX8v+1wN+N8MGdkf3Z//z1d7zn90kVzL85PBVe5TeqD6U4bH23Pjr3k8gbs8jfiXDRl4b3y7Zfzxfyuuvhzye9Wbty9l//J9Kf75w+Dn4qo/1q57PfCjDnv5Phq8B3/3G/iNJk13K8DXW9nH78GO7XVftXXfdlv3rr8PXO4e/f7LudVay/7nqtew/b1j1/F46yeZ8Pfbw43jV13gvZXhO/3KG//DxjzJ8XWrv+cZnM/yk2Ix/1zfHt5OOo60kX8j+dc+l8c8Pf8/7bIaP1dczHFjfe3x+Lvsfp//swO0/zfA5pH3f7lL2H/MP5eiP75fG+3hxfL29/wCsXa9NPX9pn5/OxfMX3bh+J8PH/UtZfV22lf613ccyfA341Phn38v+mRRpbu36pn0N85Pj75868Pq/k+Ex+1MZ/sP1F8bbpzJcs1zM67+nkLz++9btY/rB5j6XOPzce+/7HpfSv0fRnvNkxft18H1/3/jvZdX9rnpuJCWv/x5De5xfyLDB3Qz7+gc5+vuCH8z+GanHMzxek+HM4m9l9fco9s4sfiHJN5K8I8lPZHj8v+94/9GlY+ueDI/lvxl//d3xz9t22nOfsxm+T/gX45//cXyclo6l7SRfzTDGb2Z4wvKeDJ+49v7XQteTfCDDNxr3/hepV5L88wxj/GqG/53Kv81wkXUuwyfKL2b4BHUlw4XohQzf8PzlDKO+Nt5+IMOwPzL+PdcyfBJ8MclHx9d9Lsm/yf4Hkw9m+F9L/iDDF8C/G/81pW58bU9735h5W4ZPao9neEy/mOGnU3wyw2P+UobH9PXxbf42yT/N8EXmF5M8HAfs9dbofJK/y/Bkfiv7T3S+nWEPZzJs5WfTP8fsvc2zSf7hCb/v0lQPZ7guuT3DF4hfzXBN1K6DPpz9n5D0exk+9t+R/T18KsPnhncm+f0M//eSCxmuz+7L8EW8a0nuPeLv3dvJ3he323XU2Qyb+2iGLxRezfRP9pMOt/dx+9czPH6vZfimY7vuuSf7h38/fuD2RzN8jD/qOcK57D+ek+QfZ7g22nu7j2f4osIPkrz7wOvube72JP96fH8+mOFa7UySf5LhCw7nsv+8Yu/z1apruLanM5v8i9RbroPXPFcy/FS6d2V4rP1Zhsfoyxk+ln8jw+PxfIaP+9/O/n+ou/d8oD03ntrTqs8b7XPM2/LDj/3r4/t3McPnlQtJ/kOS/za+P3ufr7aT/NcM33D6fH54x4f3KL0R/VSGx/kHM3y9au+A/aqvVV3P8A2U92T/ufeVDHto10Mez3qzdlf2Pweser7QnoO3j/Xt+cze/d+T4Tpob3vSjeqo5wUHH9vtuurwAfvD1zuHv977E1n/OuuuDBu5J8nPZPj8c9eKt5dOunW/HvuTef3j+CfSv8a791z51w68zi3Zf77xYIbnRKcyPNf3XFrH2T3Z//rRYxk+5v9kXv8973szfN74an748flYhsMopzI8J3hqvP1yhq/jtu/bHXzMH/Xxfe//MvTRDJ+nXsnwvKNdr13I6ucvqz4/nY/nL7px7X0ddt2v1+bA674twx4+GWc+tHnt+qZ9DfPd2X9e+8+y/3H4qxm+F/CeDB/fH8/wMf1qhu97HP6ewqn88PfjVj0H32vO12xXPfee+p7fTenPedb5XuLeJld976N97jmp//uqlt/B7zGsepz/QZIvZXj+8Ifj7aO+L/je7D8Gnz5w+39m2MHU9yi+OP79X8/wPOaVDN/LlJba3sffX8rw3OVahl207bTnPnvndT+S4fuR/7+983mx8yrj+Gfyq8mMmfRO2iZpUp22SdtpGvv7x0Ik1iyMhVpMkyZNpVOpKGoFi1osqFXBUNGNIlJIqSgSAqWE4kK6CUigILjoIgsXWbnqtv9AXHzfh3Pue8+5972ZX7eT7wfK3Lnz3ve+Kc9znp/nOZdxPGDMktmKjE9Mh9iPDMrzSBmDReSkHUcTkLYhh2saJRNeRbsWTyLlnEVHTmxCyv02SjwAHEONBTPIod1ESihsaV7/F/gcShYcb+79M9SEsAD8vLlXXBs7dR5d2v8OY5ZETZ+2o8LMPaQgi+b3C2hX5fez+5xHsnwzcBg1Xl5BwZIb7M16IJ/GCmooi4Tw/4BnUFPLFGUbE01qe1b1qY0ZzXeAd5C8fgXJ807KftA5VIyB5M/MkfThRbTzHpQ4uAw83NzzaPMdl1DioPS90QgTehLJtpIf9XBz/7BPp+j3A40ZxQH6ZWgP8ltKfs+9wC+b9/ajRFe8jjhiWIzQo78IE75R27aca66Ja3Od20Sa/vJ5ZHd+R5ouE3FF3LPmw91LOS4xJsjlMhp4aV7fmb0OGY14NuKKvc3n56jHxsP0qWY3SjYmnjGe4Q60MeXV5rt7JPswhezVnuY5d2TP/RFK2pX00ZiV4CjSh+AcKnCW4ojYVPhXNDBiJ0mea/5Qzb4YM+mELZmlHi+0Y3AYXOtr8czx5mfgvKxZa0bFBSHbOyj7VaUG+9zfaed7x/GzTtOvL3cgfSl93pjVpms+tiTHN1LO8S6giaYwGBM9iuLny821Lzf/GbNcRDPkL1Dz4DYGc52LaL3O3w/57CH5vBetzf9A8v4BihVqdbuQ+QcZvr7voz/uONk8Q8lf20U9fqnZp6hHOn4xa0Feg+iSr4X+uvd9SH//iCetmqXR9m8iPm7nMG8mxc1xcsIG1NT4OlqTP0DTsp8kDaaq1RSiHleLwYOarSjFEs9Rjr2H1fxqfVZdaomhk6X77qZse3zSvMkJGa3J+bbm53NIv77H6N7BOaSfB5BvdgXVVy6imkutRhE9iyD/6So6WcWYSeYAku3whU6jeKGkO6XYZ4Z+2Xc8YMwyMIOM2mzze95gnzf8LqJdZmGcnkKF/M3I0H0XJQFOot1en0FNwjG5IhJrkJR/JrsmXm8gObgHkeP3fHbvdoNx3tDsQo5Za2r6lDfY54bwIDra6DTwSnafvyM5v4SOLDqCArQncIO9WR/kaz6kiStbUOLgz8gRfJiyjdmA7IqbGM2kcQZNxDuB5PUEkve2H/QjlAB4oHmv1mAfwc4BZE++ioqcx0g6ceuI7w09aSe3IflRj9Nvn9xgb8Ylgv1Y17ejgkjJ78llcAFNkox7hN80LEaIBvsnsvu+Rn9sAWnDYt5gHzoH0rMjKN5YRAnyC/QX/fMG+1H/lvZGS2MgyVA0aM2R4uOQlZDV8yQZDXna3Xw+iiLDYuOSPtXsRsnG5JtLIin3GpredKl53ojl2wX9iH8icXcjZX00ZiVYpD9/FRuqSnHEFJLlZ9C6HoXEs8iulPyhmn0xZtLJfZNSvDDNYAx+P4Nr/U7Ked1FBnXPumHWkryRq7Ruh+zGBOC2X1VrsN9HOd87jp/1PP25396Qzxuz2nTNx5bkOOqA7RxvHpuUGuxBjV7Hkf/lE0rNcnMb8G203p+jXvMO2wBJPqeA99BE1KOocf4MaqjfRL1uFzJ/lOHr+wL9ccfx5hlq/lotfqnZpzyvBo5fzOpSarCv5WvbuV1IE1t/u0rPa9Yvbf/mMco5zO2kuDnPkfZQM+87KE4+D/yleV2qKUTsEPne2poe1GxFKZZ4iXLsPazmV+uz6lJLzBvs2/fdS9n2uMHe5ISM1uT8jeb9p9Eg0h8yunewh2KRXwM/QQ3Gv0F6OU23GsVZtNHkExx/mMmmXXM/hfTnDQZ1BwZjH8cDxqwAU+iIiCeb319HzuI9pGNVYofYA8317yBH9GDzmbeQcaS5JhQ2kmbDGuzjmvx1GMlb0K7MmKD0TTTJouTMzaFGtQjGjFkLavoUhZkZJK/7mr+fQQHRs6SjxHYjw7cb7by8gXR82aO4wd6sD2aQXdmGdhd/jIr2l0iTXX+MHMWSjdlIv10xZlI4ho4QBq39HzU/S37QD5CdAE0I/pjRDfZ3ItsQJwS9ixJ6Xb53WLLtdpRQ2IfsziXSJA5jujCDZPg20rHZD1H2e9oNwXkBpT1pqxQj9EiTxkCN7q8wOBGp3WC/iJJvoCT4RZScfjF7L44zjbgi7lnz4dxgb0ZRarCn9Tpk9SyaEgkqAF0k6cNWRsfGJX2q2Y2SjcllfwE1FIAKJzHBfpH+psuYcPTl5tqjred2As+sBpG/2oz8n8uoaFiKI3Y110au6iI6avgsmkpZ8odq9sWYSSeGQPQoxws7KMfgi3RrsH8I6dsmYJ50TL0xa0VtUmqs24tIdmNydtuvqjXY76Sc791Pdz/rIKnWsgf5VvdVPm/MarKB7vnYkhzvYjDH26M/NsljoryGdw+yHe+T9NWY5eAw8Kvm9Q601h6iXPPONxbm8vkSks9dyI+6CtyF5HlU3e52hq/vkWOKEyP+hOKOkr92O/X4pWafwo45fjFrwagJ9rlf1s7thk6dQvIfsm3MuNT8m1IOMxpzw3+JHGmc6BO24y20tm+jX37zmkIeN5fW9O3ZM9ZsRSmWeIRy7D2s5lfrs+pSSxzWYD9H2fbYlzNB7lOV5PwBpFt3N9efYbC+V6sLHkLyf4SkCyeb+4yqUUSOayvS4Qt4Y4iZXA6QegbDpj1IWXcOMxj73ITjAWNWhHnkYF0lHYmyASlhvPcGycAcITmTkKa+XEXFyAX6d5i1G+xPkYqU7V1oYSQvIyN5OHuGD9FEjAW0K43WtS+QEnjGrBXzDOpTfqLDU9nfLiEj93T23lXg60hvYld17DT7F0pkh/wb82klEsch87F2n2h+/w9qBLiJso1p2xVjJoUbUOKgvZ6X/KBp4G/ZtVea9/IG+yjq5DuVX80+82bzXpfvjfvV/Kgv0W+Lji3D/w9zffEMg7JZ8ntyGcxfh5yXJti3Y4RD9MtrO7YA+U6RaH6i+dy/SfbkEEpIxD3eJSWnI67Yy3AfrqZPxgQhl8Ma7ENW/0C/XD9Ov1wfzv5Wio1L+lSzGzUbE7IfRxBfRUWTy0jP4qju2BAwR5ouFj5dOx+Q/xuNWQmm0PStXH/upx5H/J4kr2+jBpuQ55I/ZHk2n1ZiSMr7qAmgHS9AOQZvr/XtBvuIZ2h+5jpz10r+g4wZQfhCtXU7ZPsRyn5VfG6WQf9tnsF87xTd/ayNaLNvXPtc8/fS541ZbcbJx7bluJbjzWOTXCfzGl5MAo+mGGOWi2gY/ATJ5ctIVks172dJE+xz+VwgbeK9m9RU2bVuN2p9/xr9PtTL1PO7w+KXeYbXI8Hxi1ld2jWIml9Wyu2+0Px9CuVsQ++MuRZK/k0ph7kV2YweaWhDxLunSacpnEa5WyjXFPJcKZTX9Dbj5GxLsfeomt/h7PqIebrUEuN+tfvOU46NjAlyn6ok59/I3nubwVpcrS4YGx1va96/gjb5wugaRS7nm1Gt0Bu5zKQyT/+a/yaS45LufJbB2Mf1DGNWiBNIQUHN8z/N/tZDzSOj2Eg67n65me74DCCn0Ji1ZJg+BTOUG4Onm7/lRLIZLN9m/THLoN3YzqA9WUkbY8xK0GP0mv0Y8MXm9a0oQdC1mL4dJcOu5XtL3AB8i2SDzpCmZBgzDlsY9GVqfs9yfFdJD0YxQ/KtQP5XHB25meF+10r9W4wBJbweQTK5qXLNOLFxTs1ulAjZ39j6rnh/S+EzW5Bu1J7bmNUgj52DWhwxy6Au2R8y65VcL0rxQikGL631bfag5soNzXd8iDcamsknl+1x/Kph+d5x/Kxp1AiQM87njVkpxsnHluS4lOOtEXYoGtocY5uVosfg+jqq5t01r9qlbjdqfd/OYA4t7t2+Zyl+gW71SGMmlWvN7RrTlVqsOyyHuZFu09hrNYU2o2p2XWKBpcTetZjnWmuJYNtjupHLV0nOZ0kxxfQyfadrFGa9sYXBNbymO6XYxxizzMS0yX+iHZx71/ZxjPlUY30yxhjThf3IXrzX/PzCGj5LTH79BO34P483dRljzGrjYxqNWVvsDxkzHjOoMfIj0tRJY9Yrzvcas7zEhEnbDmOWhu2TMcasfyYt9rbtMcYYY8x1yzRyfryby5ilY30yxhjThY1oev2k7CjuAbvW+iGMMcYYY9YQ+0PGjMctePqwuT5wvteY5WV29CXGmA7YPhljzPXBJMXetj3GGGOMMcYYY4wxxhhjjDHGGGOMMcYYY4wxxhhjjDHGGGOMMcYYY4wxxhhjjDHGGGOMMcYYY4wxxhhjjDHGGGOMMcYYY4wxxhhjjDHGGGOMMcYYY4wxxhhjjDHGGGOMMcYYY4wxxhhjjDHGGGOMMcYYY4wxxhhjjDHGLDP/B4GzT3L1q22kAAAAAElFTkSuQmCC"
     },
     "metadata": {
      "jupyter-vega3": "#79de1051-c031-4268-90a5-fd958f57920d"
     },
     "output_type": "display_data"
    }
   ],
   "source": [
    "#### Software Engineer\n",
    "makeVegeSkillFoundPlot(test[11])"
   ]
  },
  {
   "cell_type": "code",
   "execution_count": 92,
   "metadata": {},
   "outputs": [
    {
     "data": {
      "text/html": [
       "<div class=\"vega-embed\" id=\"84594c26-ae2c-4267-8247-df69bf0631a3\"></div>\n",
       "\n",
       "<style>\n",
       ".vega-embed svg, .vega-embed canvas {\n",
       "  border: 1px dotted gray;\n",
       "}\n",
       "\n",
       ".vega-embed .vega-actions a {\n",
       "  margin-right: 6px;\n",
       "}\n",
       "</style>\n"
      ]
     },
     "metadata": {
      "jupyter-vega3": "#84594c26-ae2c-4267-8247-df69bf0631a3"
     },
     "output_type": "display_data"
    },
    {
     "data": {
      "application/javascript": [
       "var spec = {\"padding\": 5, \"$schema\": \"https://vega.github.io/schema/vega/v3.0.json\", \"axes\": [{\"scale\": \"xscale\", \"orient\": \"bottom\"}, {\"scale\": \"yscale\", \"orient\": \"left\"}], \"scales\": [{\"round\": true, \"range\": \"width\", \"domain\": {\"field\": \"skill\", \"data\": \"table\"}, \"padding\": 0.05, \"name\": \"xscale\", \"type\": \"band\"}, {\"name\": \"yscale\", \"range\": \"height\", \"nice\": true, \"domain\": {\"field\": \"count\", \"data\": \"table\"}}], \"data\": [{\"name\": \"table\", \"values\": [{\"skill\": \" web \", \"count\": 5}, {\"skill\": \" global \", \"count\": 4}, {\"skill\": \" build \", \"count\": 4}, {\"skill\": \" development \", \"count\": 3}, {\"skill\": \" technologists \", \"count\": 3}, {\"skill\": \" architecture \", \"count\": 2}, {\"skill\": \" stakeholders \", \"count\": 2}, {\"skill\": \" design \", \"count\": 2}, {\"skill\": \" innovative \", \"count\": 2}, {\"skill\": \" investment \", \"count\": 2}, {\"skill\": \" financial \", \"count\": 2}, {\"skill\": \" data \", \"count\": 2}, {\"skill\": \" payments \", \"count\": 1}, {\"skill\": \" engineering \", \"count\": 1}, {\"skill\": \" advice \", \"count\": 1}, {\"skill\": \" machine learning \", \"count\": 1}, {\"skill\": \" agile \", \"count\": 1}, {\"skill\": \" internet \", \"count\": 1}, {\"skill\": \" source \", \"count\": 1}, {\"skill\": \" mobile \", \"count\": 1}, {\"skill\": \" web development \", \"count\": 1}, {\"skill\": \" testing \", \"count\": 1}, {\"skill\": \" cybersecurity \", \"count\": 1}, {\"skill\": \" spectrum \", \"count\": 1}, {\"skill\": \" javascript \", \"count\": 1}, {\"skill\": \" deploy \", \"count\": 1}, {\"skill\": \" strategic \", \"count\": 1}, {\"skill\": \" troubleshoot \", \"count\": 1}, {\"skill\": \" analytics \", \"count\": 1}, {\"skill\": \" html \", \"count\": 1}, {\"skill\": \" cloud \", \"count\": 1}, {\"skill\": \" java \", \"count\": 1}, {\"skill\": \" data architecture \", \"count\": 1}, {\"skill\": \" sql \", \"count\": 1}, {\"skill\": \" programming \", \"count\": 1}, {\"skill\": \" impact \", \"count\": 1}, {\"skill\": \" collaborate \", \"count\": 1}, {\"skill\": \" big data \", \"count\": 1}, {\"skill\": \" coding \", \"count\": 1}, {\"skill\": \" code \", \"count\": 1}, {\"skill\": \" software engineering \", \"count\": 1}, {\"skill\": \" infrastructure \", \"count\": 1}]}], \"height\": 200, \"width\": 3000, \"signals\": [{\"name\": \"tooltip\", \"value\": {}, \"on\": [{\"update\": \"datum\", \"events\": \"rect:mouseover\"}, {\"update\": \"{}\", \"events\": \"rect:mouseout\"}]}], \"marks\": [{\"encode\": {\"enter\": {\"y2\": {\"value\": 0, \"scale\": \"yscale\"}, \"width\": {\"band\": 1, \"scale\": \"xscale\"}, \"x\": {\"field\": \"skill\", \"scale\": \"xscale\"}, \"y\": {\"field\": \"count\", \"scale\": \"yscale\"}}, \"hover\": {\"fill\": {\"value\": \"red\"}}, \"update\": {\"fill\": {\"value\": \"steelblue\"}}}, \"from\": {\"data\": \"table\"}, \"type\": \"rect\"}, {\"encode\": {\"enter\": {\"fill\": {\"value\": \"#333\"}, \"align\": {\"value\": \"center\"}, \"baseline\": {\"value\": \"bottom\"}}, \"update\": {\"fillOpacity\": [{\"value\": 0, \"test\": \"datum === tooltip\"}, {\"value\": 1}], \"text\": {\"signal\": \"tooltip.count\"}, \"x\": {\"band\": 0.5, \"signal\": \"tooltip.skil\", \"scale\": \"xscale\"}, \"y\": {\"offset\": -2, \"signal\": \"tooltip.count\", \"scale\": \"yscale\"}}}, \"type\": \"text\"}]};\n",
       "var selector = \"#84594c26-ae2c-4267-8247-df69bf0631a3\";\n",
       "var type = \"vega\";\n",
       "\n",
       "var output_area = this;\n",
       "require(['nbextensions/jupyter-vega3/index'], function(vega) {\n",
       "  vega.render(selector, spec, type, output_area);\n",
       "}, function (err) {\n",
       "  if (err.requireType !== 'scripterror') {\n",
       "    throw(err);\n",
       "  }\n",
       "});\n"
      ]
     },
     "metadata": {
      "jupyter-vega3": "#84594c26-ae2c-4267-8247-df69bf0631a3"
     },
     "output_type": "display_data"
    },
    {
     "data": {
      "image/png": "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"
     },
     "metadata": {
      "jupyter-vega3": "#84594c26-ae2c-4267-8247-df69bf0631a3"
     },
     "output_type": "display_data"
    }
   ],
   "source": [
    "#### Software Engineer\n",
    "makeVegeSkillFoundPlot(test[12])"
   ]
  },
  {
   "cell_type": "code",
   "execution_count": 93,
   "metadata": {
    "scrolled": true
   },
   "outputs": [
    {
     "data": {
      "text/html": [
       "<div class=\"vega-embed\" id=\"d56e7d4d-6c9d-4bf4-91b9-0392c8a6375b\"></div>\n",
       "\n",
       "<style>\n",
       ".vega-embed svg, .vega-embed canvas {\n",
       "  border: 1px dotted gray;\n",
       "}\n",
       "\n",
       ".vega-embed .vega-actions a {\n",
       "  margin-right: 6px;\n",
       "}\n",
       "</style>\n"
      ]
     },
     "metadata": {
      "jupyter-vega3": "#d56e7d4d-6c9d-4bf4-91b9-0392c8a6375b"
     },
     "output_type": "display_data"
    },
    {
     "data": {
      "application/javascript": [
       "var spec = {\"padding\": 5, \"$schema\": \"https://vega.github.io/schema/vega/v3.0.json\", \"axes\": [{\"scale\": \"xscale\", \"orient\": \"bottom\"}, {\"scale\": \"yscale\", \"orient\": \"left\"}], \"scales\": [{\"round\": true, \"range\": \"width\", \"domain\": {\"field\": \"skill\", \"data\": \"table\"}, \"padding\": 0.05, \"name\": \"xscale\", \"type\": \"band\"}, {\"name\": \"yscale\", \"range\": \"height\", \"nice\": true, \"domain\": {\"field\": \"count\", \"data\": \"table\"}}], \"data\": [{\"name\": \"table\", \"values\": [{\"skill\": \" design \", \"count\": 6}, {\"skill\": \" development \", \"count\": 4}, {\"skill\": \" global \", \"count\": 4}, {\"skill\": \" python \", \"count\": 3}, {\"skill\": \" financial \", \"count\": 3}, {\"skill\": \" technologists \", \"count\": 3}, {\"skill\": \" innovative \", \"count\": 2}, {\"skill\": \" testing \", \"count\": 2}, {\"skill\": \" data \", \"count\": 2}, {\"skill\": \" management \", \"count\": 2}, {\"skill\": \" build \", \"count\": 2}, {\"skill\": \" programming \", \"count\": 2}, {\"skill\": \" big data \", \"count\": 2}, {\"skill\": \" payments \", \"count\": 1}, {\"skill\": \" engineering \", \"count\": 1}, {\"skill\": \" stakeholders \", \"count\": 1}, {\"skill\": \" communication \", \"count\": 1}, {\"skill\": \" machine learning \", \"count\": 1}, {\"skill\": \" agile \", \"count\": 1}, {\"skill\": \" oracle \", \"count\": 1}, {\"skill\": \" source \", \"count\": 1}, {\"skill\": \" mobile \", \"count\": 1}, {\"skill\": \" mapreduce \", \"count\": 1}, {\"skill\": \" compliance \", \"count\": 1}, {\"skill\": \" investment \", \"count\": 1}, {\"skill\": \" cybersecurity \", \"count\": 1}, {\"skill\": \" spectrum \", \"count\": 1}, {\"skill\": \" deploy \", \"count\": 1}, {\"skill\": \" analytics \", \"count\": 1}, {\"skill\": \" git \", \"count\": 1}, {\"skill\": \" computer science \", \"count\": 1}, {\"skill\": \" cloud \", \"count\": 1}, {\"skill\": \" process \", \"count\": 1}, {\"skill\": \" java \", \"count\": 1}, {\"skill\": \" rdbms \", \"count\": 1}, {\"skill\": \" sql \", \"count\": 1}, {\"skill\": \" legal \", \"count\": 1}, {\"skill\": \" impact \", \"count\": 1}, {\"skill\": \" multithreading \", \"count\": 1}, {\"skill\": \" risk management \", \"count\": 1}, {\"skill\": \" coding \", \"count\": 1}, {\"skill\": \" human resources \", \"count\": 1}, {\"skill\": \" software engineering \", \"count\": 1}, {\"skill\": \" hibernate \", \"count\": 1}, {\"skill\": \" jpa \", \"count\": 1}, {\"skill\": \" control management \", \"count\": 1}]}], \"height\": 200, \"width\": 3000, \"signals\": [{\"name\": \"tooltip\", \"value\": {}, \"on\": [{\"update\": \"datum\", \"events\": \"rect:mouseover\"}, {\"update\": \"{}\", \"events\": \"rect:mouseout\"}]}], \"marks\": [{\"encode\": {\"enter\": {\"y2\": {\"value\": 0, \"scale\": \"yscale\"}, \"width\": {\"band\": 1, \"scale\": \"xscale\"}, \"x\": {\"field\": \"skill\", \"scale\": \"xscale\"}, \"y\": {\"field\": \"count\", \"scale\": \"yscale\"}}, \"hover\": {\"fill\": {\"value\": \"red\"}}, \"update\": {\"fill\": {\"value\": \"steelblue\"}}}, \"from\": {\"data\": \"table\"}, \"type\": \"rect\"}, {\"encode\": {\"enter\": {\"fill\": {\"value\": \"#333\"}, \"align\": {\"value\": \"center\"}, \"baseline\": {\"value\": \"bottom\"}}, \"update\": {\"fillOpacity\": [{\"value\": 0, \"test\": \"datum === tooltip\"}, {\"value\": 1}], \"text\": {\"signal\": \"tooltip.count\"}, \"x\": {\"band\": 0.5, \"signal\": \"tooltip.skil\", \"scale\": \"xscale\"}, \"y\": {\"offset\": -2, \"signal\": \"tooltip.count\", \"scale\": \"yscale\"}}}, \"type\": \"text\"}]};\n",
       "var selector = \"#d56e7d4d-6c9d-4bf4-91b9-0392c8a6375b\";\n",
       "var type = \"vega\";\n",
       "\n",
       "var output_area = this;\n",
       "require(['nbextensions/jupyter-vega3/index'], function(vega) {\n",
       "  vega.render(selector, spec, type, output_area);\n",
       "}, function (err) {\n",
       "  if (err.requireType !== 'scripterror') {\n",
       "    throw(err);\n",
       "  }\n",
       "});\n"
      ]
     },
     "metadata": {
      "jupyter-vega3": "#d56e7d4d-6c9d-4bf4-91b9-0392c8a6375b"
     },
     "output_type": "display_data"
    },
    {
     "data": {
      "image/png": "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"
     },
     "metadata": {
      "jupyter-vega3": "#d56e7d4d-6c9d-4bf4-91b9-0392c8a6375b"
     },
     "output_type": "display_data"
    }
   ],
   "source": [
    "#### Software Engineer\n",
    "makeVegeSkillFoundPlot(test[13])"
   ]
  },
  {
   "cell_type": "markdown",
   "metadata": {},
   "source": [
    "### Observations from just looking at the skill counts:\n",
    "Some obvious trends are seen just looking at the most common skills tagged, which makes it seem likely a simple model and small dataset will be enough to make ok predictions for a toy model.\n",
    "\n",
    "If you were going to make significant decisions based on this, say pick which resumes to read, you'd want a much much better model. I <b>hope</b> systems that actually do this use a very sophisticatd model."
   ]
  },
  {
   "cell_type": "markdown",
   "metadata": {},
   "source": [
    "# To be continued....\n",
    "## To make all of this notebook visiable on github, I'm splitting it in two. You can find the next bit <a href="http://nbviewer.jupyter.org/github/JustinGOSSES/WhichJobTitle/blob/master/Which_Job_Title_Are_You-PartII.ipynb">here</a> where we'll get into vectorization and machine-learning."
   ]
  },
  {
   "cell_type": "code",
   "execution_count": null,
   "metadata": {
    "collapsed": true
   },
   "outputs": [],
   "source": []
  }
 ],
 "metadata": {
  "kernelspec": {
   "display_name": "Python 3",
   "language": "python",
   "name": "python3"
  },
  "language_info": {
   "codemirror_mode": {
    "name": "ipython",
    "version": 3
   },
   "file_extension": ".py",
   "mimetype": "text/x-python",
   "name": "python",
   "nbconvert_exporter": "python",
   "pygments_lexer": "ipython3",
   "version": "3.5.2"
  }
 },
 "nbformat": 4,
 "nbformat_minor": 2
}
