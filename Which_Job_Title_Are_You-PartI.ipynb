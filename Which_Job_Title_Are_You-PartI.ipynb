{
 "cells": [
  {
   "cell_type": "markdown",
   "metadata": {},
   "source": [
    "## A brief notebook to answer the question:\n",
    "# \"Which job title am I actually doing in my current position\"\n",
    "### <i>A quick data exploration of: </i> <b>Data Scientist vs. Software Engineer</b> "
   ]
  },
  {
   "cell_type": "markdown",
   "metadata": {},
   "source": [
    "2018-01\n",
    "Justin Gosses\n",
    "\n",
    "---------------------------------------"
   ]
  },
  {
   "cell_type": "markdown",
   "metadata": {},
   "source": [
    "## Background\n",
    "Who is a data scientist isn't exactly an easy question to answer. There are multiple reasons for this. Partly, the confusion comes from the fact that the position hasn't existed, at least in its current form, until quite recently.  Managers may not have employed one before and more and more people want to be one. <a href=\"https://hbr.org/2012/10/data-scientist-the-sexiest-job-of-the-21st-century\">Sexiest job of the 21st century</a> and all that malarkey. Additionally, like many jobs, responsibilities vary depending on the size and type of employer. Responsbilities may or may not be divided up between data scientistis, software engineers, data engineers, data visualization engineers, data analysts, etc."
   ]
  },
  {
   "cell_type": "markdown",
   "metadata": {},
   "source": [
    "## Premise\n",
    "<b>One source of truth for who is a data scientist is the people hiring data scientists.</b> Of course, there is an argument made against this approach, especially as many of them might be hiring data scientists for the first time. However, they've been helpful enough to provide relatively public descriptions of what skills they think data scientists vs. software engineers have in job advertisements, which makes them a handy if potentially questionable source of truth. "
   ]
  },
  {
   "cell_type": "markdown",
   "metadata": {},
   "source": [
    "## Basic Process\n",
    "Normally when trying to do text classification, you might follow an approach like <a href=\"http://scikit-learn.org/stable/tutorial/text_analytics/working_with_text_data.html#training-a-classifier\">this</a> or even something else more advanced using NLP specific toolsets. Document similarity is often done on larger documents and larger datasets than my toy examples of a handful of job descriptions, so I opted for a different and more simplistic approach. <i>I might go back and use a larger dataset and more standard NLP approach in future, but this was a weekend project.</i>\n",
    "1. Get a set of several hundred job skils.\n",
    "2. Find which of those skills were in different job descriptions.\n",
    "3. Visualization of skill counts.\n",
    "4. Turn said counts into vectors of features.\n",
    "5. Use job title categories as lables.\n",
    "6. Do quick random forest and Support Vector Machine models to see if the distribution of skill words is predictive of job titles.\n",
    "\n",
    "Optional part B (haven't done this yet): \n",
    "1. Port model to JavaScript using <a href=\"https://github.com/nok/sklearn-porter\">sklearn-porter </a> and have it all running live on the front-end so others can throw their resumes in there and see how they are clasified. \n",
    "\n",
    "### Basic question re-phrased:\n",
    "### What distribution of skills in job descriptions are associated data scientist vs. associated with software engineers?\n",
    "\n"
   ]
  },
  {
   "cell_type": "markdown",
   "metadata": {},
   "source": [
    "### Part 1: \n",
    "- Gather job titles & skills associated programming/IT/data job titles. \n",
    "- Turn those skills into a single array of strings"
   ]
  },
  {
   "cell_type": "code",
   "execution_count": 1,
   "metadata": {
    "collapsed": true
   },
   "outputs": [],
   "source": [
    "#### Some libraries we'll be using\n",
    "#### Pandas and Numpy for working with data structures\n",
    "import pandas as pd\n",
    "import numpy as np\n",
    "#### Requests for loading webpages\n",
    "import requests\n",
    "#### BeautifulSoup for some very small scraping (not really data mining as we're only getting human-level data back)\n",
    "from bs4 import BeautifulSoup \n",
    "#### Regular expressions for text cleaning\n",
    "import re\n",
    "#### Visualization via the Vega library\n",
    "from vega3 import Vega\n",
    "#### Writing and reading to files via JSON\n",
    "import json"
   ]
  },
  {
   "cell_type": "markdown",
   "metadata": {},
   "source": [
    "#### Job titles & title_general\n",
    "Here are some different jobs titles on right and how I'll be grouping them into more general job titles.\n",
    "\n",
    "-  [Web Developer] - Web Developer, Entry Level Web Developer, Junior Web Developer, Senior Web Developer, Web Designer\n",
    "- [Software Developer] - Software Developer, Junior Software Developer, Senior Software Developer\n",
    "- [Software Engineer] - Software Engineer, Senior Software Engineer, Lead Software Engineer, Senior Software - Developer, Software Engineer II, Principle Software Engineer\n",
    "- [Data Scientist] - Data Scientist, Senior Data Scientist, Junior Data Scientist\n",
    "- [Data Analyst] -Data Analyst, Senior Data Analyst, Quantitative Analyst, Statistical Analyst, Prediction Analyst"
   ]
  },
  {
   "cell_type": "markdown",
   "metadata": {},
   "source": [
    "### I started with this list of skills from Dice, a job site focused on tech jobs.\n",
    "https://insights.dice.com/wp-content/themes/dicenews2018/assets/d3/2017/skills-heat/index.html"
   ]
  },
  {
   "cell_type": "code",
   "execution_count": 4,
   "metadata": {},
   "outputs": [
    {
     "data": {
      "text/html": [
       "<div>\n",
       "<table border=\"1\" class=\"dataframe\">\n",
       "  <thead>\n",
       "    <tr style=\"text-align: right;\">\n",
       "      <th></th>\n",
       "      <th>ratio</th>\n",
       "      <th>tag</th>\n",
       "      <th>x</th>\n",
       "      <th>y</th>\n",
       "      <th>sector</th>\n",
       "      <th>skill</th>\n",
       "    </tr>\n",
       "  </thead>\n",
       "  <tbody>\n",
       "    <tr>\n",
       "      <th>0</th>\n",
       "      <td>1.50</td>\n",
       "      <td>Operations</td>\n",
       "      <td>0.57819</td>\n",
       "      <td>0.86682</td>\n",
       "      <td>NaN</td>\n",
       "      <td>NaN</td>\n",
       "    </tr>\n",
       "    <tr>\n",
       "      <th>1</th>\n",
       "      <td>1.12</td>\n",
       "      <td>Database</td>\n",
       "      <td>0.61363</td>\n",
       "      <td>0.68666</td>\n",
       "      <td>NaN</td>\n",
       "      <td>NaN</td>\n",
       "    </tr>\n",
       "    <tr>\n",
       "      <th>2</th>\n",
       "      <td>1.32</td>\n",
       "      <td>Network</td>\n",
       "      <td>0.53984</td>\n",
       "      <td>0.71231</td>\n",
       "      <td>NaN</td>\n",
       "      <td>NaN</td>\n",
       "    </tr>\n",
       "    <tr>\n",
       "      <th>3</th>\n",
       "      <td>1.50</td>\n",
       "      <td>SQL</td>\n",
       "      <td>0.47992</td>\n",
       "      <td>0.71771</td>\n",
       "      <td>Data</td>\n",
       "      <td>SQL</td>\n",
       "    </tr>\n",
       "    <tr>\n",
       "      <th>4</th>\n",
       "      <td>1.43</td>\n",
       "      <td>Project management</td>\n",
       "      <td>0.48109</td>\n",
       "      <td>0.68706</td>\n",
       "      <td>NaN</td>\n",
       "      <td>NaN</td>\n",
       "    </tr>\n",
       "  </tbody>\n",
       "</table>\n",
       "</div>"
      ],
      "text/plain": [
       "   ratio                 tag        x        y sector skill\n",
       "0   1.50          Operations  0.57819  0.86682    NaN   NaN\n",
       "1   1.12            Database  0.61363  0.68666    NaN   NaN\n",
       "2   1.32             Network  0.53984  0.71231    NaN   NaN\n",
       "3   1.50                 SQL  0.47992  0.71771   Data   SQL\n",
       "4   1.43  Project management  0.48109  0.68706    NaN   NaN"
      ]
     },
     "execution_count": 4,
     "metadata": {},
     "output_type": "execute_result"
    }
   ],
   "source": [
    "df = pd.read_csv('DICE_2017_skills_hierarchy_skill_list_txt.csv')\n",
    "df.head()"
   ]
  },
  {
   "cell_type": "code",
   "execution_count": 5,
   "metadata": {},
   "outputs": [
    {
     "name": "stdout",
     "output_type": "stream",
     "text": [
      "length of tag =  700\n"
     ]
    },
    {
     "data": {
      "text/html": [
       "<div>\n",
       "<table border=\"1\" class=\"dataframe\">\n",
       "  <thead>\n",
       "    <tr style=\"text-align: right;\">\n",
       "      <th></th>\n",
       "      <th>tag</th>\n",
       "    </tr>\n",
       "  </thead>\n",
       "  <tbody>\n",
       "    <tr>\n",
       "      <th>0</th>\n",
       "      <td>Operations</td>\n",
       "    </tr>\n",
       "    <tr>\n",
       "      <th>1</th>\n",
       "      <td>Database</td>\n",
       "    </tr>\n",
       "    <tr>\n",
       "      <th>2</th>\n",
       "      <td>Network</td>\n",
       "    </tr>\n",
       "    <tr>\n",
       "      <th>3</th>\n",
       "      <td>SQL</td>\n",
       "    </tr>\n",
       "    <tr>\n",
       "      <th>4</th>\n",
       "      <td>Project management</td>\n",
       "    </tr>\n",
       "    <tr>\n",
       "      <th>5</th>\n",
       "      <td>Software development</td>\n",
       "    </tr>\n",
       "    <tr>\n",
       "      <th>6</th>\n",
       "      <td>Security</td>\n",
       "    </tr>\n",
       "    <tr>\n",
       "      <th>7</th>\n",
       "      <td>Java</td>\n",
       "    </tr>\n",
       "    <tr>\n",
       "      <th>8</th>\n",
       "      <td>Analytics</td>\n",
       "    </tr>\n",
       "    <tr>\n",
       "      <th>9</th>\n",
       "      <td>Oracle</td>\n",
       "    </tr>\n",
       "  </tbody>\n",
       "</table>\n",
       "</div>"
      ],
      "text/plain": [
       "                    tag\n",
       "0            Operations\n",
       "1              Database\n",
       "2               Network\n",
       "3                   SQL\n",
       "4    Project management\n",
       "5  Software development\n",
       "6              Security\n",
       "7                  Java\n",
       "8             Analytics\n",
       "9                Oracle"
      ]
     },
     "execution_count": 5,
     "metadata": {},
     "output_type": "execute_result"
    }
   ],
   "source": [
    "#### It has 700 skills\n",
    "tag = df[['tag']]\n",
    "print(\"length of tag = \",len(tag))\n",
    "tag[0:10]"
   ]
  },
  {
   "cell_type": "markdown",
   "metadata": {},
   "source": [
    "#### Functions to check if a skill tag exists already in the dataframe. If not, adds it."
   ]
  },
  {
   "cell_type": "code",
   "execution_count": 16,
   "metadata": {
    "collapsed": true
   },
   "outputs": [],
   "source": [
    "#### In a dataframe with a tag column, check if the given string [new_tag] is in that column\n",
    "def checkForNewTag(df,new_tag):\n",
    "    result_index = df.index[df['tag'] == new_tag].tolist()\n",
    "    if len(result_index) == 0:\n",
    "        return \"not there\"\n",
    "    else:\n",
    "        # print(result_index[0],df.iloc[result_index[0]]['tag'])\n",
    "        return \"found it\",result_index\n",
    "\n",
    "#### In a dataframe with a tag column, add a new row with the new tag string to it\n",
    "def addNewTagToDF(df,new_tag):\n",
    "    df_new = pd.DataFrame([[new_tag]],columns=['tag'])\n",
    "    appended_df = df.append(df_new).reset_index(drop=True)\n",
    "    return appended_df\n",
    "\n",
    "#### For a given dataframe with a tag column, check if tag value exists, if not add it. Use two functions above as helpers.\n",
    "def checkForTagIfNotPresentAdd(df,list_of_tags):\n",
    "    df_here = df.copy()\n",
    "    for each_tag in list_of_tags:\n",
    "        if checkForNewTag(df,each_tag)[0] == \"found it\":\n",
    "            pass\n",
    "        else:\n",
    "            df_here = addNewTagToDF(df_here,each_tag)\n",
    "    return df_here"
   ]
  },
  {
   "cell_type": "code",
   "execution_count": 17,
   "metadata": {},
   "outputs": [
    {
     "data": {
      "text/plain": [
       "('found it', [13])"
      ]
     },
     "execution_count": 17,
     "metadata": {},
     "output_type": "execute_result"
    }
   ],
   "source": [
    "#### As demonstration of the functions above, this function call checks if JavaScript is a skill present in the dataframe.\n",
    "checkForNewTag(tag,'JavaScript')"
   ]
  },
  {
   "cell_type": "markdown",
   "metadata": {},
   "source": [
    "#### The variable 'list_of_tags' is a list of potential new terms I didn't remember seeing in the list from dice, are relatively new, and saw in a several job descriptions I read (but not ones I used in the model dataset)."
   ]
  },
  {
   "cell_type": "code",
   "execution_count": 18,
   "metadata": {
    "collapsed": true
   },
   "outputs": [],
   "source": [
    "list_of_tags = [\"microsoft\",\"validation\",\"verification\",\"virtual\",\"web\",\"sed\",\"awk\",\"fortan\",\"ibm\",\"technologists\",\"cybersecurity\",\"security\",\"investment\",\"build\",\"deploy\",\"devops\",\"troubleshoot\",\"strategic\",\"advice\",\"advise\",\"pytorch\",\"collaborate\",\"Source\",\"Code\",\"engineering\",\"global\",\"keras\",\"front\",\"end\",\"back\",\"analytics\",\"coding\",\"code\",\"programming\",\"program\",\"function\",\"alogrithm\",\"browserify\",\"multi\",\"browser\",\"scipy\",\"stakeholders\",\"architecture\",\"reality\",\"impact\",\"process\",\",workflow\",\"consulting\",\"prototype\",\"innovative\",\"root\",\"cause\",\"amazon\",\"azure\",\"cloud\",\"financial\",\"analysis\",\"data\",\".net\",\"design\",\"apache\",\"unit\",\"engineering\",\"gpu\",\"user\",\"ui\",\"ux\",\"management\",\"visualization\",\"priorities\", \"rework\", \"ambiguity\", \"fast paced\", \"HTML\", \"CSS\", \"Javascript\",\"React\",\"jQuery\",\"photoshop\",\"Illustrator\",\"Java\",\"Ruby\",\"C#\",\"complex problems\", \"C++\", \"C\", \"Java\", \"Python\", \"CVS\", \"Subversion\",\"Git\",\"Windows\",\"software design\",\"linux\",\"Visual Studio\",\"computer science\", \"Eclipse\",\"NetBeans\",\"ANT\",\"project management\",\" Object Oriented Design\",\"debugging\",\"creative\",\"software design\", \"C++\", \"C\", \"Java\", \"Unix\", \"Linux\", \"communication\",\"testing\",\"implementation\",\"software design\",\"teamwork\",\"Mathematics\",\"computer science\", \"mathematics\",\"user support\",\"JavaScript\", \"ES6\", \"Webpack\", \"Browserify\", \"Grunt\", \"Gulp\", \"NPM\",\"GitHub\",\"new technology\",\"development\",\"API\",\"MongoDB\",\"React\", \"Knockout\",\"Ember\",\"Backbone\",\"Front End\",\"HTML\",\"CSS\",\"OpenLayers\",\"large-scale\",\"UI\",\"logic\",\"MATLAB\", \"Python\", \"R\", \"JavaScript\", \"Spotfire\", \"MySQL\", \"MongoDB\",\"GitHub\",\"new technology\",\"development\",\"API\",\"web scraping\",'Database','svg','JQuery','Scikit-learn','three.js','aframe.js','regression','coached','NumPy','theno','keras','torch','pytorch','wordpress','React.js','graph','Neo4J','ML','Tableau','IoT','Internet of things','Weka','node','node.js','speech-to-text','client','microservices','micro-services','artificial intelligence','AI','random forest','bagging','prediction','web assembly','WASM','interactive','data visualization','meetup','jupyter','PostGres','Postgresql','GIS','map','map making','scikit-learn','tensorflow','d3.js','ar.js','deeplearning','deep learning','deep-learning','neural nets','convolutional','redux','vue','adminestrator','vega']"
   ]
  },
  {
   "cell_type": "code",
   "execution_count": 19,
   "metadata": {
    "collapsed": true
   },
   "outputs": [],
   "source": [
    "#### This function takes outs C or R from the skill list. Initially C and R were being caught inside words, but then I added spaces around the keywords and this problem went away.\n",
    "def takeOutLetters(list_of_tags):\n",
    "    new_list_of_tags = []\n",
    "    for skill in list_of_tags:\n",
    "        if skill == \"r\" or skill == \"R\" or skill == \"c\" or skill == \"C\":\n",
    "            pass\n",
    "        else:\n",
    "            new_list_of_tags.append(skill)\n",
    "    return new_list_of_tags"
   ]
  },
  {
   "cell_type": "code",
   "execution_count": 20,
   "metadata": {
    "collapsed": true
   },
   "outputs": [],
   "source": [
    "list_of_tags = takeOutLetters(list_of_tags)"
   ]
  },
  {
   "cell_type": "code",
   "execution_count": 21,
   "metadata": {},
   "outputs": [
    {
     "data": {
      "text/plain": [
       "207"
      ]
     },
     "execution_count": 21,
     "metadata": {},
     "output_type": "execute_result"
    }
   ],
   "source": [
    "len(list_of_tags)"
   ]
  },
  {
   "cell_type": "markdown",
   "metadata": {},
   "source": [
    "#### Function call that takes the list 'list_of_tags' and the 'tag' dataframe and adds the new skills that weren't originally present."
   ]
  },
  {
   "cell_type": "code",
   "execution_count": 23,
   "metadata": {},
   "outputs": [
    {
     "name": "stdout",
     "output_type": "stream",
     "text": [
      "Number of new skill tags is: 174\n"
     ]
    }
   ],
   "source": [
    "#### Function call that takes the list 'list_of_tags' and the 'tag' dataframe and adds the new skills that weren't originally present.\n",
    "new_tag_list = checkForTagIfNotPresentAdd(tag,list_of_tags)\n",
    "#### function prints the number of new skill tags added\n",
    "print(\"Number of new skill tags is:\",len(new_tag_list)-len(tag))"
   ]
  },
  {
   "cell_type": "code",
   "execution_count": 24,
   "metadata": {},
   "outputs": [
    {
     "data": {
      "text/html": [
       "<div>\n",
       "<table border=\"1\" class=\"dataframe\">\n",
       "  <thead>\n",
       "    <tr style=\"text-align: right;\">\n",
       "      <th></th>\n",
       "      <th>tag</th>\n",
       "    </tr>\n",
       "  </thead>\n",
       "  <tbody>\n",
       "    <tr>\n",
       "      <th>count</th>\n",
       "      <td>874</td>\n",
       "    </tr>\n",
       "    <tr>\n",
       "      <th>unique</th>\n",
       "      <td>865</td>\n",
       "    </tr>\n",
       "    <tr>\n",
       "      <th>top</th>\n",
       "      <td>software design</td>\n",
       "    </tr>\n",
       "    <tr>\n",
       "      <th>freq</th>\n",
       "      <td>3</td>\n",
       "    </tr>\n",
       "  </tbody>\n",
       "</table>\n",
       "</div>"
      ],
      "text/plain": [
       "                    tag\n",
       "count               874\n",
       "unique              865\n",
       "top     software design\n",
       "freq                  3"
      ]
     },
     "execution_count": 24,
     "metadata": {},
     "output_type": "execute_result"
    }
   ],
   "source": [
    "new_tag_list.describe()"
   ]
  },
  {
   "cell_type": "markdown",
   "metadata": {},
   "source": [
    "### Convert dataframe of skills to list"
   ]
  },
  {
   "cell_type": "code",
   "execution_count": 26,
   "metadata": {},
   "outputs": [
    {
     "name": "stdout",
     "output_type": "stream",
     "text": [
      "844\n"
     ]
    }
   ],
   "source": [
    "#### convert dataframe of skill tags into array of strings of those skills tags\n",
    "array_of_skills =new_tag_list['tag'].values.tolist()\n",
    "\n",
    "def addSpacesToStringInArray(stringArray):\n",
    "    new_array = []\n",
    "    for string in stringArray:\n",
    "        new_array.append(\" \"+string+\" \")\n",
    "    return new_array\n",
    "\n",
    "array_of_skills = new_tag_list['tag'].values.tolist()\n",
    "array_of_skills_new = []\n",
    "for eachSkill in array_of_skills:\n",
    "    array_of_skills_new.append(eachSkill.lower())  \n",
    "array_of_skills = list(set(array_of_skills_new))\n",
    "array_of_skills = takeOutLetters(array_of_skills)\n",
    "array_of_skills = addSpacesToStringInArray(array_of_skills)\n",
    "\n",
    "#### When running the first time, you might want to uncomment the print statement below for debugging.\n",
    "#print(array_of_skills)\n",
    "print(len(array_of_skills))"
   ]
  },
  {
   "cell_type": "markdown",
   "metadata": {},
   "source": [
    "### Save array of job skills as json"
   ]
  },
  {
   "cell_type": "code",
   "execution_count": 28,
   "metadata": {
    "collapsed": true
   },
   "outputs": [],
   "source": [
    "#### save as json\n",
    "import json\n",
    "with open('data/array_of_skills.json', 'w') as outfile:\n",
    "    json.dump(array_of_skills, outfile)\n",
    "   "
   ]
  },
  {
   "cell_type": "code",
   "execution_count": 29,
   "metadata": {},
   "outputs": [
    {
     "name": "stdout",
     "output_type": "stream",
     "text": [
      "844\n"
     ]
    }
   ],
   "source": [
    "#### open json and work with again\n",
    "with open('data/array_of_skills.json') as json_data:\n",
    "    d = json.load(json_data)\n",
    "    print(len(d)) "
   ]
  },
  {
   "cell_type": "code",
   "execution_count": 30,
   "metadata": {},
   "outputs": [
    {
     "data": {
      "text/plain": [
       "True"
      ]
     },
     "execution_count": 30,
     "metadata": {},
     "output_type": "execute_result"
    }
   ],
   "source": [
    "#### Test that they are now the same thing\n",
    "d == array_of_skills\n"
   ]
  },
  {
   "cell_type": "code",
   "execution_count": 32,
   "metadata": {
    "collapsed": true
   },
   "outputs": [],
   "source": [
    "#### Write data loaded from json to variable 'array_of_skills' that was used from above.\n",
    "array_of_skills = d"
   ]
  },
  {
   "cell_type": "markdown",
   "metadata": {},
   "source": [
    "## Part II\n",
    "## Look at job advertisments and count what skills they ask for or don't ask for"
   ]
  },
  {
   "cell_type": "markdown",
   "metadata": {},
   "source": [
    "#### Convert text from html into lowercase & count skills found"
   ]
  },
  {
   "cell_type": "code",
   "execution_count": 28,
   "metadata": {
    "collapsed": true
   },
   "outputs": [],
   "source": [
    "#### Given a string and an array of skills in string form:\n",
    "#### return a data object that has the count of each skill in that string\n",
    "#### such that the result could be used as a row for machine-learning later.\n",
    "def countTechSkill(string_s,skills_s_array):\n",
    "    results_array = []\n",
    "    for skill in skills_s_array:\n",
    "        instance = string_s.count(skill)\n",
    "        results_array.append({\"skill\":skill,\"count\":instance})\n",
    "    return results_array"
   ]
  },
  {
   "cell_type": "markdown",
   "metadata": {
    "collapsed": true
   },
   "source": [
    "#### Get text data from job descriptions and count the number of times any word in the skill list is found"
   ]
  },
  {
   "cell_type": "code",
   "execution_count": 34,
   "metadata": {
    "collapsed": true
   },
   "outputs": [],
   "source": [
    "stuffToGet = [\n",
    "    {\n",
    "        \"job\":\"Data Scientist\",\n",
    "        \"full_title\":\"Lead Data Scientist\",\n",
    "        \"url\":\"https://www.indeed.com/viewjob?jk=49bbd367c7075464&tk=1c5fgn96gb0dtboc&from=serp&vjs=3\"\n",
    "    },\n",
    "    {\n",
    "        \"job\":\"Data Scientist\",\n",
    "        \"full_title\":\"Lead Data Scientist\",\n",
    "        \"url\":\"https://www.indeed.com/viewjob?jk=a6e22bcf691b7dbe&tk=1c5fgn96gb0dtboc&from=serp&vjs=3\"\n",
    "    },\n",
    "    {\n",
    "        \"job\":\"Data Scientist\",\n",
    "        \"full_title\":\"Data Scientist I/II\",\n",
    "        \"url\":\"https://www.indeed.com/cmp/Zincalyst-Statistical-Consultants/jobs/Data-Scientist-3e775b4e96b68910?q=Data+Scientist&vjs=3\"\n",
    "    },\n",
    "    {\n",
    "        \"job\":\"Data Scientist\",\n",
    "        \"full_title\":\"Sr. Data Scientist\",\n",
    "        \"url\":\"https://www.indeed.com/viewjob?jk=95b468510a383ab4&from=serp&vjs=3\"\n",
    "    },\n",
    "    {\n",
    "        \"job\":\"Data Scientist\",\n",
    "        \"full_title\":\"Principal Data Scientist\",\n",
    "        \"url\":\"https://www.indeed.com/viewjob?jk=2d968e6ab489a5c5&tk=1c5fgn96gb0dtboc&from=serp&vjs=3\"\n",
    "    },\n",
    "    {\n",
    "        \"job\":\"Data Scientist\",\n",
    "        \"full_title\":\"Data Scientist\",\n",
    "        \"url\":\"https://www.indeed.com/viewjob?jk=137abd479c2150db&tk=1c5fgn96gb0dtboc&from=serp&vjs=3\"\n",
    "    },\n",
    "    {\n",
    "        \"job\":\"Data Scientist\",\n",
    "        \"full_title\":\"Sr Associate, Data Scientist\",\n",
    "        \"url\":\"https://www.indeed.com/viewjob?jk=c2c04340cbcc3926&tk=1c5fgn96gb0dtboc&from=serp&vjs=3\"\n",
    "    },\n",
    "    {\n",
    "        \"job\":\"Data Scientist\",\n",
    "        \"full_title\":\"Lead Data Scientist\",\n",
    "        \"url\":\"https://www.indeed.com/viewjob?jk=a6e22bcf691b7dbe&tk=1c5fgo90uah5rdt3&from=serp&vjs=3\"\n",
    "    },\n",
    "    {\n",
    "        \"job\":\"Data Scientist\",\n",
    "        \"full_title\":\"Data Scientist\",\n",
    "        \"url\":\"https://www.indeed.com/viewjob?jk=30f92fc8a5035c91&tk=1c5fgoaikb0dtckt&from=serp&vjs=3\"\n",
    "    },\n",
    "    {\n",
    "        \"job\":\"Data Scientist\",\n",
    "        \"full_title\":\"Data Scientist\",\n",
    "        \"url\":\"https://www.indeed.com/viewjob?jk=43b305d5eb5e6b69&tk=1c5fgotl3ah5rde0&from=serp&vjs=3\"\n",
    "    },\n",
    "    {\n",
    "        \"job\":\"Software Engineer\",\n",
    "        \"full_title\":\"Software Engineer - Python\",\n",
    "        \"url\":\"https://www.indeed.com/viewjob?jk=c816cf9a1e07d061&tk=1c5fh16dvb0dtdph&from=serp&vjs=3\"\n",
    "    },\n",
    "    {\n",
    "        \"job\":\"Software Engineer\",\n",
    "        \"full_title\":\"Software Engineer\",\n",
    "        \"url\":\"https://www.indeed.com/viewjob?jk=91e0712669c90529&tk=1c5fh16dvb0dtdph&from=serp&vjs=3\"\n",
    "    },\n",
    "    {\n",
    "        \"job\":\"Software Engineer\",\n",
    "        \"full_title\":\"Java Software Engineer\",\n",
    "        \"url\":\"https://www.indeed.com/viewjob?jk=4bdcd1222b4d8c12&tk=1c5fh16dvb0dtdph&from=serp&vjs=3\"\n",
    "    },\n",
    "    {\n",
    "        \"job\":\"Software Engineer\",\n",
    "        \"full_title\":\"Software Engineer\",\n",
    "        \"url\":\"https://www.indeed.com/viewjob?jk=f6ad1a6edb8a61dd&tk=1c5fh16dvb0dtdph&from=serp&vjs=3\"\n",
    "    },\n",
    "    {\n",
    "        \"job\":\"Software Engineer\",\n",
    "        \"full_title\":\"Python/Scala Software Engineer\",\n",
    "        \"url\":\"https://www.indeed.com/viewjob?jk=25a0fb3231215f82&tk=1c5fh16dvb0dtdph&from=serp&vjs=3\"\n",
    "    },\n",
    "    {\n",
    "        \"job\":\"Software Engineer\",\n",
    "        \"full_title\":\"Software Engineer\",\n",
    "        \"url\":\"https://www.indeed.com/cmp/Global-Oncology-One,-Inc./jobs/Software-Engineer-f838f70f4775a8e3?q=Software+Engineer&vjs=3\"\n",
    "    },\n",
    "    {\n",
    "        \"job\":\"Software Engineer\",\n",
    "        \"full_title\":\"Software Development Engineer II\",\n",
    "        \"url\":\"https://www.indeed.com/viewjob?jk=c226823895844ec7&tk=1c5fh16dvb0dtdph&from=serp&vjs=3\"\n",
    "    },\n",
    "    {\n",
    "        \"job\":\"Software Engineer\",\n",
    "        \"full_title\":\"Applications Software Engineer\",\n",
    "        \"url\":\"https://www.indeed.com/viewjob?jk=7583664ee5b668ce&q=Software+Engineer&l=Houston%2C+TX&tk=1c5fh5nhpb0dt9a8&from=web&vjs=3\"\n",
    "    },\n",
    "#     asdfasdf\n",
    "    {\n",
    "        \"job\":\"Software Engineer\",\n",
    "        \"full_title\":\"Unreal Engine Software Developer\",\n",
    "        \"url\":\"https://www.indeed.com/cmp/Managed-Staffing/jobs/Unreal-Engine-Software-Developer-f54f88eb4166e595?sjdu=QwrRXKrqZ3CNX5W-O9jEvSnYMz5IKQ_iO2bEAPai6qtuk3M73j9JCzx3qddZ2ENfwawXOPJyizPj_SfEiGEoeg4Xpkb8Kwc3hXIev_ISS6w&tk=1c5hiu9mla55p92d&vjs=3\"\n",
    "    },\n",
    "    {\n",
    "        \"job\":\"Software Engineer\",\n",
    "        \"full_title\":\"Python Software Engineer\",\n",
    "        \"url\":\"https://www.indeed.com/viewjob?jk=c82f094e78e19b75&tk=1c5hj028p1ekc447&from=serp&vjs=3\"\n",
    "    },\n",
    "    {\n",
    "        \"job\":\"Software Engineer\",\n",
    "        \"full_title\":\"Java Developer\",\n",
    "        \"url\":\"https://www.indeed.com/cmp/Cynosure-Technologies/jobs/Java-Developer-2467edc887d76b8f?q=Software+Engineer&vjs=3\"\n",
    "    },\n",
    "    {\n",
    "        \"job\":\"Software Engineer\",\n",
    "        \"full_title\":\"Software Engineer\",\n",
    "        \"url\":\"https://www.indeed.com/viewjob?jk=c6862a9ad334b572&tk=1c5hj0cfna55pd0r&from=serp&vjs=3\"\n",
    "    },\n",
    "    {\n",
    "        \"job\":\"Software Engineer\",\n",
    "        \"full_title\":\"Engineering Software Developer\",\n",
    "        \"url\":\"https://www.indeed.com/viewjob?jk=880182246045dad3&tk=1c5hj0cfna55pd0r&from=serp&vjs=3\"\n",
    "    },\n",
    "    {\n",
    "        \"job\":\"Software Engineer\",\n",
    "        \"full_title\":\"Software Engineer\",\n",
    "        \"url\":\"https://www.indeed.com/viewjob?jk=d77b5c50eb3d1ebe&tk=1c5hj0cfna55pd0r&from=serp&vjs=3\"\n",
    "    },\n",
    "    {\n",
    "        \"job\":\"Software Engineer\",\n",
    "        \"full_title\":\"Principal Engineer - Software Development\",\n",
    "        \"url\":\"https://www.indeed.com/viewjob?jk=b31f5378aa715bf6&tk=1c5hj15rpa55pb0g&from=serp&vjs=3\"\n",
    "    },\n",
    "    {\n",
    "        \"job\":\"Software Engineer\",\n",
    "        \"full_title\":\"Software Engineer II\",\n",
    "        \"url\":\"https://www.indeed.com/viewjob?jk=5b494525a44e042d&tk=1c5hj15rpa55pb0g&from=serp&vjs=3\"\n",
    "    },\n",
    "    {\n",
    "        \"job\":\"Data Scientist\",\n",
    "        \"full_title\":\"Data Scientist\",\n",
    "        \"url\":\"https://www.indeed.com/viewjob?jk=966dfacd0a0dd535&tk=1c5hjdkm9a55pejo&from=serp&vjs=3\"\n",
    "    },\n",
    "    {\n",
    "        \"job\":\"Data Scientist\",\n",
    "        \"full_title\":\"Data Scientist\",\n",
    "        \"url\":\"https://www.indeed.com/viewjob?jk=f3ffa6c9503838c1&tk=1c5hjdkm9a55pejo&from=serp&vjs=3\"\n",
    "    }\n",
    "    \n",
    "]"
   ]
  },
  {
   "cell_type": "code",
   "execution_count": 58,
   "metadata": {},
   "outputs": [],
   "source": [
    "#### Save the stuffToGet list in case I want to use it later from file\n",
    "import json\n",
    "with open('data/jobs_to_getDataFrom.json', 'w') as outfile:\n",
    "    json.dump(stuffToGet, outfile)"
   ]
  },
  {
   "cell_type": "code",
   "execution_count": 59,
   "metadata": {},
   "outputs": [
    {
     "name": "stdout",
     "output_type": "stream",
     "text": [
      "28\n"
     ]
    }
   ],
   "source": [
    "#### Open 'jobs_to_getDataFrom.json' and turn the read data into the stuffToGet list.\n",
    "with open('data/jobs_to_getDataFrom.json') as json_data:\n",
    "    stuffToGet = json.load(json_data)\n",
    "    print(len(stuffToGet))"
   ]
  },
  {
   "cell_type": "code",
   "execution_count": 60,
   "metadata": {
    "collapsed": true
   },
   "outputs": [],
   "source": [
    "#### Gets text of job description and does some cleaning\n",
    "def getText(stuffToGet,array_of_skills):\n",
    "    new_array_of_jobs = []\n",
    "    results = []\n",
    "    for job in stuffToGet:\n",
    "        result = requests.get(job[\"url\"])\n",
    "        content = result.content\n",
    "        soup = BeautifulSoup(content,'html.parser')\n",
    "        samples = soup.find('span', {\"id\":\"job_summary\"})\n",
    "        samples_low = samples.get_text().lower()\n",
    "        noSpecial = re.sub('[^a-zA-Z0-9 \\n\\.]', '', samples_low)\n",
    "        results_array = []\n",
    "        for skill in array_of_skills:\n",
    "            instance = noSpecial.count(skill)\n",
    "            results_array.append({\"skill\":skill,\"count\":instance})\n",
    "        job[\"word_counts\"] = results_array\n",
    "        new_array_of_jobs.append(job)\n",
    "    return new_array_of_jobs"
   ]
  },
  {
   "cell_type": "code",
   "execution_count": 61,
   "metadata": {},
   "outputs": [
    {
     "name": "stdout",
     "output_type": "stream",
     "text": [
      "28\n"
     ]
    }
   ],
   "source": [
    "#### Runs the getText function above.\n",
    "#### This will take a couple minutes to run!\n",
    "new_array_of_jobs = getText(stuffToGet,array_of_skills)\n",
    "print(len(new_array_of_jobs))"
   ]
  },
  {
   "cell_type": "markdown",
   "metadata": {},
   "source": [
    "### Save as json for use later"
   ]
  },
  {
   "cell_type": "code",
   "execution_count": 62,
   "metadata": {
    "collapsed": true
   },
   "outputs": [],
   "source": [
    "new_array_of_jobs_orig = new_array_of_jobs"
   ]
  },
  {
   "cell_type": "code",
   "execution_count": 63,
   "metadata": {
    "collapsed": true
   },
   "outputs": [],
   "source": [
    "import json\n",
    "with open('data/new_array_of_jobs_orig.json', 'w') as outfile:\n",
    "    json.dump(new_array_of_jobs_orig, outfile)"
   ]
  },
  {
   "cell_type": "markdown",
   "metadata": {},
   "source": [
    "## Part III\n",
    "## Explore results by looking at word_counts & visualizing results\n",
    "Skip this if you want.\n",
    "Be careful about not overwriting arrays during visualization."
   ]
  },
  {
   "cell_type": "code",
   "execution_count": 64,
   "metadata": {},
   "outputs": [],
   "source": [
    "with open('data/new_array_of_jobs_orig.json') as json_data:\n",
    "    new_array_of_jobs = json.load(json_data)\n",
    "#     print(new_array_of_jobs)"
   ]
  },
  {
   "cell_type": "code",
   "execution_count": 65,
   "metadata": {},
   "outputs": [],
   "source": [
    "#### check out word_counts results of one job\n",
    "# new_array_of_jobs[8]['word_counts']"
   ]
  },
  {
   "cell_type": "code",
   "execution_count": 66,
   "metadata": {
    "collapsed": true
   },
   "outputs": [],
   "source": [
    "#### This copies and reformats the json new_array_of_jobs to make it easier to visualize the data in Vega.\n",
    "def getJsonForVisualization(new_array_of_jobs):\n",
    "    jobs_json_for_viz = new_array_of_jobs.copy()\n",
    "    jobs_json_for_viz_holder = []\n",
    "    counter = 0\n",
    "    for eachjob in jobs_json_for_viz:\n",
    "        job_obj = {}\n",
    "        job_obj[\"job\"] = eachjob['job']\n",
    "        job_obj[\"url\"] = eachjob['url']\n",
    "        job_obj[\"job_uniq\"] = eachjob['full_title']+\"_\"+str(counter)\n",
    "        counter += 1\n",
    "        for eachskill in eachjob['word_counts']:\n",
    "            job_obj_2 = job_obj.copy()\n",
    "            #print(\"job_obj_2 =\",job_obj_2)\n",
    "            #print(\"eachskill =\",eachskill)\n",
    "            #print(\"eachjob\",eachjob)\n",
    "            job_obj_2[\"skill\"] = eachskill['skill']\n",
    "            job_obj_2[\"count\"] = eachskill['count']\n",
    "            jobs_json_for_viz_holder.append(job_obj_2)\n",
    "    return jobs_json_for_viz_holder\n",
    "    "
   ]
  },
  {
   "cell_type": "code",
   "execution_count": 67,
   "metadata": {},
   "outputs": [
    {
     "name": "stdout",
     "output_type": "stream",
     "text": [
      "23632\n"
     ]
    }
   ],
   "source": [
    "#### This function calls basically flattens the data on the level of each skill in each document, hence the increase in the length result.\n",
    "jobs_json_for_viz_holder = getJsonForVisualization(new_array_of_jobs)\n",
    "print(len(jobs_json_for_viz_holder))"
   ]
  },
  {
   "cell_type": "code",
   "execution_count": 68,
   "metadata": {},
   "outputs": [
    {
     "data": {
      "text/plain": [
       "{'count': 0,\n",
       " 'job': 'Data Scientist',\n",
       " 'job_uniq': 'Data Scientist_9',\n",
       " 'skill': ' recovery ',\n",
       " 'url': 'https://www.indeed.com/viewjob?jk=43b305d5eb5e6b69&tk=1c5fgotl3ah5rde0&from=serp&vjs=3'}"
      ]
     },
     "execution_count": 68,
     "metadata": {},
     "output_type": "execute_result"
    }
   ],
   "source": [
    "#### What a single object in the new list looks like\n",
    "jobs_json_for_viz_holder[8000]"
   ]
  },
  {
   "cell_type": "code",
   "execution_count": 69,
   "metadata": {
    "collapsed": true
   },
   "outputs": [],
   "source": [
    "#### Writing to file for save keeping\n",
    "with open('data/jobs_json_for_viz_holder.json', 'w') as outfile:\n",
    "    json.dump(jobs_json_for_viz_holder, outfile)"
   ]
  },
  {
   "cell_type": "code",
   "execution_count": 70,
   "metadata": {
    "collapsed": true
   },
   "outputs": [],
   "source": [
    "#### Kicks out the skills with zero counts for visualization\n",
    "def showOnlyData(oneJobResult):\n",
    "    array_of_resultsGreaterZero = []\n",
    "    for skill in oneJobResult:\n",
    "        if skill[\"count\"] != 0:\n",
    "            array_of_resultsGreaterZero.append(skill)\n",
    "    return array_of_resultsGreaterZero"
   ]
  },
  {
   "cell_type": "code",
   "execution_count": 71,
   "metadata": {
    "collapsed": true
   },
   "outputs": [],
   "source": [
    "def extract_time(json):\n",
    "    try:\n",
    "        # Also convert to int since update_time will be string.  When comparing\n",
    "        # strings, \"10\" is smaller than \"2\".\n",
    "        return int(json['count'])\n",
    "    except KeyError:\n",
    "        return 0"
   ]
  },
  {
   "cell_type": "markdown",
   "metadata": {},
   "source": [
    "#### Making copies so I can sort them and see what skills are more common in each job"
   ]
  },
  {
   "cell_type": "code",
   "execution_count": 74,
   "metadata": {},
   "outputs": [
    {
     "name": "stdout",
     "output_type": "stream",
     "text": [
      "done\n"
     ]
    }
   ],
   "source": [
    "first_job_matches = showOnlyData(new_array_of_jobs[0]['word_counts'])\n",
    "first_job_matches_copy = first_job_matches.copy()\n",
    "# lines.sort() is more efficient than lines = lines.sorted()\n",
    "first_job_matches_copy.sort(key=extract_time, reverse=True)\n",
    "# first_job_matches_copy\n",
    "print('done')"
   ]
  },
  {
   "cell_type": "code",
   "execution_count": 84,
   "metadata": {
    "collapsed": true
   },
   "outputs": [],
   "source": [
    "#### Creates a vega bar chart for skill counts for one job description\n",
    "def makeVegeSkillFoundPlot(job_matches):\n",
    "    return Vega({\n",
    "  \"$schema\": \"https://vega.github.io/schema/vega/v3.0.json\",\n",
    "  \"width\": 3000,\n",
    "  \"height\": 200,\n",
    "  \"padding\": 5,\n",
    "\n",
    "  \"data\": [\n",
    "    {\n",
    "      \"name\": \"table\",\n",
    "      \"values\": job_matches\n",
    "    }\n",
    "  ],\n",
    "\n",
    "  \"signals\": [\n",
    "    {\n",
    "      \"name\": \"tooltip\",\n",
    "      \"value\": {},\n",
    "      \"on\": [\n",
    "        {\"events\": \"rect:mouseover\", \"update\": \"datum\"},\n",
    "        {\"events\": \"rect:mouseout\",  \"update\": \"{}\"}\n",
    "      ]\n",
    "    }\n",
    "  ],\n",
    "\n",
    "  \"scales\": [\n",
    "    {\n",
    "      \"name\": \"xscale\",\n",
    "      \"type\": \"band\",\n",
    "      \"domain\": {\"data\": \"table\", \"field\": \"skill\"},\n",
    "      \"range\": \"width\",\n",
    "      \"padding\": 0.05,\n",
    "      \"round\": True\n",
    "    },\n",
    "    {\n",
    "      \"name\": \"yscale\",\n",
    "      \"domain\": {\"data\": \"table\", \"field\": \"count\"},\n",
    "      \"nice\": True,\n",
    "      \"range\": \"height\"\n",
    "    }\n",
    "  ],\n",
    "\n",
    "  \"axes\": [\n",
    "    { \"orient\": \"bottom\", \"scale\": \"xscale\" },\n",
    "    { \"orient\": \"left\", \"scale\": \"yscale\" }\n",
    "  ],\n",
    "\n",
    "  \"marks\": [\n",
    "    {\n",
    "      \"type\": \"rect\",\n",
    "      \"from\": {\"data\":\"table\"},\n",
    "      \"encode\": {\n",
    "        \"enter\": {\n",
    "          \"x\": {\"scale\": \"xscale\", \"field\": \"skill\"},\n",
    "          \"width\": {\"scale\": \"xscale\", \"band\": 1},\n",
    "          \"y\": {\"scale\": \"yscale\", \"field\": \"count\"},\n",
    "          \"y2\": {\"scale\": \"yscale\", \"value\": 0}\n",
    "        },\n",
    "        \"update\": {\n",
    "          \"fill\": {\"value\": \"steelblue\"}\n",
    "        },\n",
    "        \"hover\": {\n",
    "          \"fill\": {\"value\": \"red\"}\n",
    "        }\n",
    "      }\n",
    "    },\n",
    "    {\n",
    "      \"type\": \"text\",\n",
    "      \"encode\": {\n",
    "        \"enter\": {\n",
    "          \"align\": {\"value\": \"center\"},\n",
    "          \"baseline\": {\"value\": \"bottom\"},\n",
    "          \"fill\": {\"value\": \"#333\"}\n",
    "        },\n",
    "        \"update\": {\n",
    "          \"x\": {\"scale\": \"xscale\", \"signal\": \"tooltip.skil\", \"band\": 0.5},\n",
    "          \"y\": {\"scale\": \"yscale\", \"signal\": \"tooltip.count\", \"offset\": -2},\n",
    "          \"text\": {\"signal\": \"tooltip.count\"},\n",
    "          \"fillOpacity\": [\n",
    "            {\"test\": \"datum === tooltip\", \"value\": 0},\n",
    "            {\"value\": 1}\n",
    "          ]\n",
    "        }\n",
    "      }\n",
    "    }\n",
    "  ]\n",
    "})\n",
    "    "
   ]
  },
  {
   "cell_type": "code",
   "execution_count": 85,
   "metadata": {
    "collapsed": true
   },
   "outputs": [],
   "source": [
    "#### Creates an array with all the skill count visualizations ready to plot for each job.\n",
    "def getJobMatchesForAllJob(new_array_of_jobs_0):\n",
    "    new_array_of_jobs = new_array_of_jobs_0.copy()\n",
    "    array_of_plots =  []\n",
    "    for eachJob in range(len(new_array_of_jobs)):\n",
    "        #print(\"eachJob\",eachJob)\n",
    "        #print(\"new_array_of_jobs[eachJob]\",new_array_of_jobs[eachJob])\n",
    "        fifth_job_matches_copy = new_array_of_jobs[eachJob]['word_counts'].copy()\n",
    "        # fifth_job_matches_copy =  fifth_job_matches\n",
    "        fifth_job_matches_copy.sort(key=extract_time, reverse=True)\n",
    "        fifth_job_matches_copy = showOnlyData(fifth_job_matches_copy)\n",
    "        #print(\"fifth_job_matches_copy\",fifth_job_matches_copy)\n",
    "        #array_of_plots.append(makeVegeSkillFoundPlot(fifth_job_matches_copy)) \n",
    "        array_of_plots.append(fifth_job_matches_copy) \n",
    "    return array_of_plots"
   ]
  },
  {
   "cell_type": "code",
   "execution_count": 86,
   "metadata": {},
   "outputs": [
    {
     "name": "stdout",
     "output_type": "stream",
     "text": [
      "28\n"
     ]
    }
   ],
   "source": [
    "#### Calls the function above for all the job descriptions.\n",
    "test =  getJobMatchesForAllJob(new_array_of_jobs)\n",
    "print(len(test))"
   ]
  },
  {
   "cell_type": "code",
   "execution_count": 87,
   "metadata": {},
   "outputs": [
    {
     "data": {
      "text/html": [
       "<div class=\"vega-embed\" id=\"cb8d9850-39e1-4531-a550-92561f34ecb2\"></div>\n",
       "\n",
       "<style>\n",
       ".vega-embed svg, .vega-embed canvas {\n",
       "  border: 1px dotted gray;\n",
       "}\n",
       "\n",
       ".vega-embed .vega-actions a {\n",
       "  margin-right: 6px;\n",
       "}\n",
       "</style>\n"
      ]
     },
     "metadata": {
      "jupyter-vega3": "#cb8d9850-39e1-4531-a550-92561f34ecb2"
     },
     "output_type": "display_data"
    },
    {
     "data": {
      "application/javascript": [
       "var spec = {\"padding\": 5, \"$schema\": \"https://vega.github.io/schema/vega/v3.0.json\", \"axes\": [{\"scale\": \"xscale\", \"orient\": \"bottom\"}, {\"scale\": \"yscale\", \"orient\": \"left\"}], \"scales\": [{\"round\": true, \"range\": \"width\", \"domain\": {\"field\": \"skill\", \"data\": \"table\"}, \"padding\": 0.05, \"name\": \"xscale\", \"type\": \"band\"}, {\"name\": \"yscale\", \"range\": \"height\", \"nice\": true, \"domain\": {\"field\": \"count\", \"data\": \"table\"}}], \"data\": [{\"name\": \"table\", \"values\": [{\"skill\": \" analysis \", \"count\": 4}, {\"skill\": \" data \", \"count\": 4}, {\"skill\": \" development \", \"count\": 4}, {\"skill\": \" analytics \", \"count\": 3}, {\"skill\": \" engineering \", \"count\": 2}, {\"skill\": \" innovative \", \"count\": 2}, {\"skill\": \" data analysis \", \"count\": 2}, {\"skill\": \" management \", \"count\": 2}, {\"skill\": \" machine learning \", \"count\": 1}, {\"skill\": \" python \", \"count\": 1}, {\"skill\": \" client \", \"count\": 1}, {\"skill\": \" intelligence \", \"count\": 1}, {\"skill\": \" business analysis \", \"count\": 1}, {\"skill\": \" artificial intelligence \", \"count\": 1}, {\"skill\": \" storage \", \"count\": 1}, {\"skill\": \" java \", \"count\": 1}, {\"skill\": \" matlab \", \"count\": 1}, {\"skill\": \" end \", \"count\": 1}, {\"skill\": \" build \", \"count\": 1}, {\"skill\": \" collaborate \", \"count\": 1}, {\"skill\": \" budget \", \"count\": 1}, {\"skill\": \" mathematics \", \"count\": 1}, {\"skill\": \" software engineering \", \"count\": 1}, {\"skill\": \" spotfire \", \"count\": 1}]}], \"height\": 200, \"width\": 3000, \"signals\": [{\"name\": \"tooltip\", \"value\": {}, \"on\": [{\"update\": \"datum\", \"events\": \"rect:mouseover\"}, {\"update\": \"{}\", \"events\": \"rect:mouseout\"}]}], \"marks\": [{\"encode\": {\"enter\": {\"y2\": {\"value\": 0, \"scale\": \"yscale\"}, \"width\": {\"band\": 1, \"scale\": \"xscale\"}, \"x\": {\"field\": \"skill\", \"scale\": \"xscale\"}, \"y\": {\"field\": \"count\", \"scale\": \"yscale\"}}, \"hover\": {\"fill\": {\"value\": \"red\"}}, \"update\": {\"fill\": {\"value\": \"steelblue\"}}}, \"from\": {\"data\": \"table\"}, \"type\": \"rect\"}, {\"encode\": {\"enter\": {\"fill\": {\"value\": \"#333\"}, \"align\": {\"value\": \"center\"}, \"baseline\": {\"value\": \"bottom\"}}, \"update\": {\"fillOpacity\": [{\"value\": 0, \"test\": \"datum === tooltip\"}, {\"value\": 1}], \"text\": {\"signal\": \"tooltip.count\"}, \"x\": {\"band\": 0.5, \"signal\": \"tooltip.skil\", \"scale\": \"xscale\"}, \"y\": {\"offset\": -2, \"signal\": \"tooltip.count\", \"scale\": \"yscale\"}}}, \"type\": \"text\"}]};\n",
       "var selector = \"#cb8d9850-39e1-4531-a550-92561f34ecb2\";\n",
       "var type = \"vega\";\n",
       "\n",
       "var output_area = this;\n",
       "require(['nbextensions/jupyter-vega3/index'], function(vega) {\n",
       "  vega.render(selector, spec, type, output_area);\n",
       "}, function (err) {\n",
       "  if (err.requireType !== 'scripterror') {\n",
       "    throw(err);\n",
       "  }\n",
       "});\n"
      ]
     },
     "metadata": {
      "jupyter-vega3": "#cb8d9850-39e1-4531-a550-92561f34ecb2"
     },
     "output_type": "display_data"
    },
    {
     "data": {
      "image/png": "[encoded data removed]"
     },
     "metadata": {
      "jupyter-vega3": "#cb8d9850-39e1-4531-a550-92561f34ecb2"
     },
     "output_type": "display_data"
    }
   ],
   "source": [
    "#### Data Scientist\n",
    "makeVegeSkillFoundPlot(test[0])"
   ]
  },
  {
   "cell_type": "code",
   "execution_count": 88,
   "metadata": {},
   "outputs": [
    {
     "data": {
      "text/html": [
       "<div class=\"vega-embed\" id=\"c7e16bee-ca7d-49fa-b1fb-22a7f89fe24a\"></div>\n",
       "\n",
       "<style>\n",
       ".vega-embed svg, .vega-embed canvas {\n",
       "  border: 1px dotted gray;\n",
       "}\n",
       "\n",
       ".vega-embed .vega-actions a {\n",
       "  margin-right: 6px;\n",
       "}\n",
       "</style>\n"
      ]
     },
     "metadata": {
      "jupyter-vega3": "#c7e16bee-ca7d-49fa-b1fb-22a7f89fe24a"
     },
     "output_type": "display_data"
    },
    {
     "data": {
      "application/javascript": [
       "var spec = {\"padding\": 5, \"$schema\": \"https://vega.github.io/schema/vega/v3.0.json\", \"axes\": [{\"scale\": \"xscale\", \"orient\": \"bottom\"}, {\"scale\": \"yscale\", \"orient\": \"left\"}], \"scales\": [{\"round\": true, \"range\": \"width\", \"domain\": {\"field\": \"skill\", \"data\": \"table\"}, \"padding\": 0.05, \"name\": \"xscale\", \"type\": \"band\"}, {\"name\": \"yscale\", \"range\": \"height\", \"nice\": true, \"domain\": {\"field\": \"count\", \"data\": \"table\"}}], \"data\": [{\"name\": \"table\", \"values\": [{\"skill\": \" data \", \"count\": 23}, {\"skill\": \" analysis \", \"count\": 5}, {\"skill\": \" investment \", \"count\": 4}, {\"skill\": \" management \", \"count\": 4}, {\"skill\": \" algorithms \", \"count\": 4}, {\"skill\": \" big data \", \"count\": 4}, {\"skill\": \" machine learning \", \"count\": 3}, {\"skill\": \" financial \", \"count\": 3}, {\"skill\": \" global \", \"count\": 3}, {\"skill\": \" statistics \", \"count\": 2}, {\"skill\": \" development \", \"count\": 2}, {\"skill\": \" analytics \", \"count\": 2}, {\"skill\": \" cloud \", \"count\": 2}, {\"skill\": \" regression \", \"count\": 2}, {\"skill\": \" asset management \", \"count\": 2}, {\"skill\": \" mongodb \", \"count\": 1}, {\"skill\": \" web services \", \"count\": 1}, {\"skill\": \" web \", \"count\": 1}, {\"skill\": \" architecture \", \"count\": 1}, {\"skill\": \" communication \", \"count\": 1}, {\"skill\": \" nosql \", \"count\": 1}, {\"skill\": \" agile \", \"count\": 1}, {\"skill\": \" innovative \", \"count\": 1}, {\"skill\": \" validation \", \"count\": 1}, {\"skill\": \" react \", \"count\": 1}, {\"skill\": \" critical thinking \", \"count\": 1}, {\"skill\": \" ambiguity \", \"count\": 1}, {\"skill\": \" mapreduce \", \"count\": 1}, {\"skill\": \" testing \", \"count\": 1}, {\"skill\": \" reality \", \"count\": 1}, {\"skill\": \" ai \", \"count\": 1}, {\"skill\": \" consulting \", \"count\": 1}, {\"skill\": \" data analysis \", \"count\": 1}, {\"skill\": \" visualization \", \"count\": 1}, {\"skill\": \" scrum \", \"count\": 1}, {\"skill\": \" sas \", \"count\": 1}, {\"skill\": \" computer science \", \"count\": 1}, {\"skill\": \" management consulting \", \"count\": 1}, {\"skill\": \" java \", \"count\": 1}, {\"skill\": \" retail \", \"count\": 1}, {\"skill\": \" software development \", \"count\": 1}, {\"skill\": \" amazon \", \"count\": 1}, {\"skill\": \" azure \", \"count\": 1}, {\"skill\": \" amazon web services \", \"count\": 1}, {\"skill\": \" data visualization \", \"count\": 1}, {\"skill\": \" inventory \", \"count\": 1}]}], \"height\": 200, \"width\": 3000, \"signals\": [{\"name\": \"tooltip\", \"value\": {}, \"on\": [{\"update\": \"datum\", \"events\": \"rect:mouseover\"}, {\"update\": \"{}\", \"events\": \"rect:mouseout\"}]}], \"marks\": [{\"encode\": {\"enter\": {\"y2\": {\"value\": 0, \"scale\": \"yscale\"}, \"width\": {\"band\": 1, \"scale\": \"xscale\"}, \"x\": {\"field\": \"skill\", \"scale\": \"xscale\"}, \"y\": {\"field\": \"count\", \"scale\": \"yscale\"}}, \"hover\": {\"fill\": {\"value\": \"red\"}}, \"update\": {\"fill\": {\"value\": \"steelblue\"}}}, \"from\": {\"data\": \"table\"}, \"type\": \"rect\"}, {\"encode\": {\"enter\": {\"fill\": {\"value\": \"#333\"}, \"align\": {\"value\": \"center\"}, \"baseline\": {\"value\": \"bottom\"}}, \"update\": {\"fillOpacity\": [{\"value\": 0, \"test\": \"datum === tooltip\"}, {\"value\": 1}], \"text\": {\"signal\": \"tooltip.count\"}, \"x\": {\"band\": 0.5, \"signal\": \"tooltip.skil\", \"scale\": \"xscale\"}, \"y\": {\"offset\": -2, \"signal\": \"tooltip.count\", \"scale\": \"yscale\"}}}, \"type\": \"text\"}]};\n",
       "var selector = \"#c7e16bee-ca7d-49fa-b1fb-22a7f89fe24a\";\n",
       "var type = \"vega\";\n",
       "\n",
       "var output_area = this;\n",
       "require(['nbextensions/jupyter-vega3/index'], function(vega) {\n",
       "  vega.render(selector, spec, type, output_area);\n",
       "}, function (err) {\n",
       "  if (err.requireType !== 'scripterror') {\n",
       "    throw(err);\n",
       "  }\n",
       "});\n"
      ]
     },
     "metadata": {
      "jupyter-vega3": "#c7e16bee-ca7d-49fa-b1fb-22a7f89fe24a"
     },
     "output_type": "display_data"
    },
    {
     "data": {
      "image/png": "[encoded data removed]"
     },
     "metadata": {
      "jupyter-vega3": "#c7e16bee-ca7d-49fa-b1fb-22a7f89fe24a"
     },
     "output_type": "display_data"
    }
   ],
   "source": [
    "#### Data Scientist\n",
    "makeVegeSkillFoundPlot(test[1])"
   ]
  },
  {
   "cell_type": "code",
   "execution_count": 89,
   "metadata": {},
   "outputs": [
    {
     "data": {
      "text/html": [
       "<div class=\"vega-embed\" id=\"6e9aea8a-0e45-4078-bfeb-c340550ea55f\"></div>\n",
       "\n",
       "<style>\n",
       ".vega-embed svg, .vega-embed canvas {\n",
       "  border: 1px dotted gray;\n",
       "}\n",
       "\n",
       ".vega-embed .vega-actions a {\n",
       "  margin-right: 6px;\n",
       "}\n",
       "</style>\n"
      ]
     },
     "metadata": {
      "jupyter-vega3": "#6e9aea8a-0e45-4078-bfeb-c340550ea55f"
     },
     "output_type": "display_data"
    },
    {
     "data": {
      "application/javascript": [
       "var spec = {\"padding\": 5, \"$schema\": \"https://vega.github.io/schema/vega/v3.0.json\", \"axes\": [{\"scale\": \"xscale\", \"orient\": \"bottom\"}, {\"scale\": \"yscale\", \"orient\": \"left\"}], \"scales\": [{\"round\": true, \"range\": \"width\", \"domain\": {\"field\": \"skill\", \"data\": \"table\"}, \"padding\": 0.05, \"name\": \"xscale\", \"type\": \"band\"}, {\"name\": \"yscale\", \"range\": \"height\", \"nice\": true, \"domain\": {\"field\": \"count\", \"data\": \"table\"}}], \"data\": [{\"name\": \"table\", \"values\": [{\"skill\": \" analysis \", \"count\": 2}, {\"skill\": \" engineering \", \"count\": 1}, {\"skill\": \" pmp \", \"count\": 1}, {\"skill\": \" statistics \", \"count\": 1}, {\"skill\": \" research \", \"count\": 1}, {\"skill\": \" client \", \"count\": 1}, {\"skill\": \" mathematics \", \"count\": 1}]}], \"height\": 200, \"width\": 3000, \"signals\": [{\"name\": \"tooltip\", \"value\": {}, \"on\": [{\"update\": \"datum\", \"events\": \"rect:mouseover\"}, {\"update\": \"{}\", \"events\": \"rect:mouseout\"}]}], \"marks\": [{\"encode\": {\"enter\": {\"y2\": {\"value\": 0, \"scale\": \"yscale\"}, \"width\": {\"band\": 1, \"scale\": \"xscale\"}, \"x\": {\"field\": \"skill\", \"scale\": \"xscale\"}, \"y\": {\"field\": \"count\", \"scale\": \"yscale\"}}, \"hover\": {\"fill\": {\"value\": \"red\"}}, \"update\": {\"fill\": {\"value\": \"steelblue\"}}}, \"from\": {\"data\": \"table\"}, \"type\": \"rect\"}, {\"encode\": {\"enter\": {\"fill\": {\"value\": \"#333\"}, \"align\": {\"value\": \"center\"}, \"baseline\": {\"value\": \"bottom\"}}, \"update\": {\"fillOpacity\": [{\"value\": 0, \"test\": \"datum === tooltip\"}, {\"value\": 1}], \"text\": {\"signal\": \"tooltip.count\"}, \"x\": {\"band\": 0.5, \"signal\": \"tooltip.skil\", \"scale\": \"xscale\"}, \"y\": {\"offset\": -2, \"signal\": \"tooltip.count\", \"scale\": \"yscale\"}}}, \"type\": \"text\"}]};\n",
       "var selector = \"#6e9aea8a-0e45-4078-bfeb-c340550ea55f\";\n",
       "var type = \"vega\";\n",
       "\n",
       "var output_area = this;\n",
       "require(['nbextensions/jupyter-vega3/index'], function(vega) {\n",
       "  vega.render(selector, spec, type, output_area);\n",
       "}, function (err) {\n",
       "  if (err.requireType !== 'scripterror') {\n",
       "    throw(err);\n",
       "  }\n",
       "});\n"
      ]
     },
     "metadata": {
      "jupyter-vega3": "#6e9aea8a-0e45-4078-bfeb-c340550ea55f"
     },
     "output_type": "display_data"
    },
    {
     "data": {
      "image/png": "[encoded data removed]"
     },
     "metadata": {
      "jupyter-vega3": "#6e9aea8a-0e45-4078-bfeb-c340550ea55f"
     },
     "output_type": "display_data"
    }
   ],
   "source": [
    "#### Data Scientist\n",
    "makeVegeSkillFoundPlot(test[2])"
   ]
  },
  {
   "cell_type": "code",
   "execution_count": 95,
   "metadata": {},
   "outputs": [
    {
     "data": {
      "text/html": [
       "<div class=\"vega-embed\" id=\"08ce63a9-fe72-44d8-8901-b92379caedca\"></div>\n",
       "\n",
       "<style>\n",
       ".vega-embed svg, .vega-embed canvas {\n",
       "  border: 1px dotted gray;\n",
       "}\n",
       "\n",
       ".vega-embed .vega-actions a {\n",
       "  margin-right: 6px;\n",
       "}\n",
       "</style>\n"
      ]
     },
     "metadata": {
      "jupyter-vega3": "#08ce63a9-fe72-44d8-8901-b92379caedca"
     },
     "output_type": "display_data"
    },
    {
     "data": {
      "application/javascript": [
       "var spec = {\"padding\": 5, \"$schema\": \"https://vega.github.io/schema/vega/v3.0.json\", \"axes\": [{\"scale\": \"xscale\", \"orient\": \"bottom\"}, {\"scale\": \"yscale\", \"orient\": \"left\"}], \"scales\": [{\"round\": true, \"range\": \"width\", \"domain\": {\"field\": \"skill\", \"data\": \"table\"}, \"padding\": 0.05, \"name\": \"xscale\", \"type\": \"band\"}, {\"name\": \"yscale\", \"range\": \"height\", \"nice\": true, \"domain\": {\"field\": \"count\", \"data\": \"table\"}}], \"data\": [{\"name\": \"table\", \"values\": [{\"skill\": \" data \", \"count\": 13}, {\"skill\": \" analysis \", \"count\": 4}, {\"skill\": \" algorithms \", \"count\": 3}, {\"skill\": \" machine learning \", \"count\": 2}, {\"skill\": \" research \", \"count\": 2}, {\"skill\": \" development \", \"count\": 2}, {\"skill\": \" analytics \", \"count\": 2}, {\"skill\": \" big data \", \"count\": 2}, {\"skill\": \" engineering \", \"count\": 1}, {\"skill\": \" statistics \", \"count\": 1}, {\"skill\": \" physics \", \"count\": 1}, {\"skill\": \" ruby \", \"count\": 1}, {\"skill\": \" innovative \", \"count\": 1}, {\"skill\": \" validation \", \"count\": 1}, {\"skill\": \" python \", \"count\": 1}, {\"skill\": \" client \", \"count\": 1}, {\"skill\": \" mapreduce \", \"count\": 1}, {\"skill\": \" product development \", \"count\": 1}, {\"skill\": \" security \", \"count\": 1}, {\"skill\": \" consulting \", \"count\": 1}, {\"skill\": \" audit \", \"count\": 1}, {\"skill\": \" military \", \"count\": 1}, {\"skill\": \" data mining \", \"count\": 1}, {\"skill\": \" management \", \"count\": 1}, {\"skill\": \" visualization \", \"count\": 1}, {\"skill\": \" troubleshoot \", \"count\": 1}, {\"skill\": \" operations \", \"count\": 1}, {\"skill\": \" sas \", \"count\": 1}, {\"skill\": \" computer science \", \"count\": 1}, {\"skill\": \" cloud \", \"count\": 1}, {\"skill\": \" regression \", \"count\": 1}, {\"skill\": \" linux \", \"count\": 1}, {\"skill\": \" san \", \"count\": 1}, {\"skill\": \" process \", \"count\": 1}, {\"skill\": \" java \", \"count\": 1}, {\"skill\": \" matlab \", \"count\": 1}, {\"skill\": \" build \", \"count\": 1}, {\"skill\": \" sql \", \"count\": 1}, {\"skill\": \" programming \", \"count\": 1}, {\"skill\": \" data extraction \", \"count\": 1}, {\"skill\": \" amazon \", \"count\": 1}, {\"skill\": \" user \", \"count\": 1}, {\"skill\": \" risk management \", \"count\": 1}, {\"skill\": \" mathematics \", \"count\": 1}, {\"skill\": \" data visualization \", \"count\": 1}, {\"skill\": \" infrastructure \", \"count\": 1}]}], \"height\": 200, \"width\": 3000, \"signals\": [{\"name\": \"tooltip\", \"value\": {}, \"on\": [{\"update\": \"datum\", \"events\": \"rect:mouseover\"}, {\"update\": \"{}\", \"events\": \"rect:mouseout\"}]}], \"marks\": [{\"encode\": {\"enter\": {\"y2\": {\"value\": 0, \"scale\": \"yscale\"}, \"width\": {\"band\": 1, \"scale\": \"xscale\"}, \"x\": {\"field\": \"skill\", \"scale\": \"xscale\"}, \"y\": {\"field\": \"count\", \"scale\": \"yscale\"}}, \"hover\": {\"fill\": {\"value\": \"red\"}}, \"update\": {\"fill\": {\"value\": \"steelblue\"}}}, \"from\": {\"data\": \"table\"}, \"type\": \"rect\"}, {\"encode\": {\"enter\": {\"fill\": {\"value\": \"#333\"}, \"align\": {\"value\": \"center\"}, \"baseline\": {\"value\": \"bottom\"}}, \"update\": {\"fillOpacity\": [{\"value\": 0, \"test\": \"datum === tooltip\"}, {\"value\": 1}], \"text\": {\"signal\": \"tooltip.count\"}, \"x\": {\"band\": 0.5, \"signal\": \"tooltip.skil\", \"scale\": \"xscale\"}, \"y\": {\"offset\": -2, \"signal\": \"tooltip.count\", \"scale\": \"yscale\"}}}, \"type\": \"text\"}]};\n",
       "var selector = \"#08ce63a9-fe72-44d8-8901-b92379caedca\";\n",
       "var type = \"vega\";\n",
       "\n",
       "var output_area = this;\n",
       "require(['nbextensions/jupyter-vega3/index'], function(vega) {\n",
       "  vega.render(selector, spec, type, output_area);\n",
       "}, function (err) {\n",
       "  if (err.requireType !== 'scripterror') {\n",
       "    throw(err);\n",
       "  }\n",
       "});\n"
      ]
     },
     "metadata": {
      "jupyter-vega3": "#08ce63a9-fe72-44d8-8901-b92379caedca"
     },
     "output_type": "display_data"
    },
    {
     "data": {
      "image/png": "[encoded data removed]"
     },
     "metadata": {
      "jupyter-vega3": "#08ce63a9-fe72-44d8-8901-b92379caedca"
     },
     "output_type": "display_data"
    }
   ],
   "source": [
    "#### Data Scientist\n",
    "makeVegeSkillFoundPlot(test[6])"
   ]
  },
  {
   "cell_type": "code",
   "execution_count": 91,
   "metadata": {},
   "outputs": [
    {
     "data": {
      "text/html": [
       "<div class=\"vega-embed\" id=\"79de1051-c031-4268-90a5-fd958f57920d\"></div>\n",
       "\n",
       "<style>\n",
       ".vega-embed svg, .vega-embed canvas {\n",
       "  border: 1px dotted gray;\n",
       "}\n",
       "\n",
       ".vega-embed .vega-actions a {\n",
       "  margin-right: 6px;\n",
       "}\n",
       "</style>\n"
      ]
     },
     "metadata": {
      "jupyter-vega3": "#79de1051-c031-4268-90a5-fd958f57920d"
     },
     "output_type": "display_data"
    },
    {
     "data": {
      "application/javascript": [
       "var spec = {\"padding\": 5, \"$schema\": \"https://vega.github.io/schema/vega/v3.0.json\", \"axes\": [{\"scale\": \"xscale\", \"orient\": \"bottom\"}, {\"scale\": \"yscale\", \"orient\": \"left\"}], \"scales\": [{\"round\": true, \"range\": \"width\", \"domain\": {\"field\": \"skill\", \"data\": \"table\"}, \"padding\": 0.05, \"name\": \"xscale\", \"type\": \"band\"}, {\"name\": \"yscale\", \"range\": \"height\", \"nice\": true, \"domain\": {\"field\": \"count\", \"data\": \"table\"}}], \"data\": [{\"name\": \"table\", \"values\": [{\"skill\": \" government \", \"count\": 2}, {\"skill\": \" global \", \"count\": 2}, {\"skill\": \" user \", \"count\": 2}, {\"skill\": \" engineering \", \"count\": 1}, {\"skill\": \" communication \", \"count\": 1}, {\"skill\": \" implementation \", \"count\": 1}, {\"skill\": \" design \", \"count\": 1}, {\"skill\": \" testing \", \"count\": 1}, {\"skill\": \" intelligence \", \"count\": 1}, {\"skill\": \" security \", \"count\": 1}, {\"skill\": \" software design \", \"count\": 1}, {\"skill\": \" linux \", \"count\": 1}, {\"skill\": \" software engineering \", \"count\": 1}, {\"skill\": \" teamwork \", \"count\": 1}, {\"skill\": \" bash \", \"count\": 1}]}], \"height\": 200, \"width\": 3000, \"signals\": [{\"name\": \"tooltip\", \"value\": {}, \"on\": [{\"update\": \"datum\", \"events\": \"rect:mouseover\"}, {\"update\": \"{}\", \"events\": \"rect:mouseout\"}]}], \"marks\": [{\"encode\": {\"enter\": {\"y2\": {\"value\": 0, \"scale\": \"yscale\"}, \"width\": {\"band\": 1, \"scale\": \"xscale\"}, \"x\": {\"field\": \"skill\", \"scale\": \"xscale\"}, \"y\": {\"field\": \"count\", \"scale\": \"yscale\"}}, \"hover\": {\"fill\": {\"value\": \"red\"}}, \"update\": {\"fill\": {\"value\": \"steelblue\"}}}, \"from\": {\"data\": \"table\"}, \"type\": \"rect\"}, {\"encode\": {\"enter\": {\"fill\": {\"value\": \"#333\"}, \"align\": {\"value\": \"center\"}, \"baseline\": {\"value\": \"bottom\"}}, \"update\": {\"fillOpacity\": [{\"value\": 0, \"test\": \"datum === tooltip\"}, {\"value\": 1}], \"text\": {\"signal\": \"tooltip.count\"}, \"x\": {\"band\": 0.5, \"signal\": \"tooltip.skil\", \"scale\": \"xscale\"}, \"y\": {\"offset\": -2, \"signal\": \"tooltip.count\", \"scale\": \"yscale\"}}}, \"type\": \"text\"}]};\n",
       "var selector = \"#79de1051-c031-4268-90a5-fd958f57920d\";\n",
       "var type = \"vega\";\n",
       "\n",
       "var output_area = this;\n",
       "require(['nbextensions/jupyter-vega3/index'], function(vega) {\n",
       "  vega.render(selector, spec, type, output_area);\n",
       "}, function (err) {\n",
       "  if (err.requireType !== 'scripterror') {\n",
       "    throw(err);\n",
       "  }\n",
       "});\n"
      ]
     },
     "metadata": {
      "jupyter-vega3": "#79de1051-c031-4268-90a5-fd958f57920d"
     },
     "output_type": "display_data"
    },
    {
     "data": {
      "image/png": "[encoded data removed]"
     },
     "metadata": {
      "jupyter-vega3": "#79de1051-c031-4268-90a5-fd958f57920d"
     },
     "output_type": "display_data"
    }
   ],
   "source": [
    "#### Software Engineer\n",
    "makeVegeSkillFoundPlot(test[11])"
   ]
  },
  {
   "cell_type": "code",
   "execution_count": 92,
   "metadata": {},
   "outputs": [
    {
     "data": {
      "text/html": [
       "<div class=\"vega-embed\" id=\"84594c26-ae2c-4267-8247-df69bf0631a3\"></div>\n",
       "\n",
       "<style>\n",
       ".vega-embed svg, .vega-embed canvas {\n",
       "  border: 1px dotted gray;\n",
       "}\n",
       "\n",
       ".vega-embed .vega-actions a {\n",
       "  margin-right: 6px;\n",
       "}\n",
       "</style>\n"
      ]
     },
     "metadata": {
      "jupyter-vega3": "#84594c26-ae2c-4267-8247-df69bf0631a3"
     },
     "output_type": "display_data"
    },
    {
     "data": {
      "application/javascript": [
       "var spec = {\"padding\": 5, \"$schema\": \"https://vega.github.io/schema/vega/v3.0.json\", \"axes\": [{\"scale\": \"xscale\", \"orient\": \"bottom\"}, {\"scale\": \"yscale\", \"orient\": \"left\"}], \"scales\": [{\"round\": true, \"range\": \"width\", \"domain\": {\"field\": \"skill\", \"data\": \"table\"}, \"padding\": 0.05, \"name\": \"xscale\", \"type\": \"band\"}, {\"name\": \"yscale\", \"range\": \"height\", \"nice\": true, \"domain\": {\"field\": \"count\", \"data\": \"table\"}}], \"data\": [{\"name\": \"table\", \"values\": [{\"skill\": \" web \", \"count\": 5}, {\"skill\": \" global \", \"count\": 4}, {\"skill\": \" build \", \"count\": 4}, {\"skill\": \" development \", \"count\": 3}, {\"skill\": \" technologists \", \"count\": 3}, {\"skill\": \" architecture \", \"count\": 2}, {\"skill\": \" stakeholders \", \"count\": 2}, {\"skill\": \" design \", \"count\": 2}, {\"skill\": \" innovative \", \"count\": 2}, {\"skill\": \" investment \", \"count\": 2}, {\"skill\": \" financial \", \"count\": 2}, {\"skill\": \" data \", \"count\": 2}, {\"skill\": \" payments \", \"count\": 1}, {\"skill\": \" engineering \", \"count\": 1}, {\"skill\": \" advice \", \"count\": 1}, {\"skill\": \" machine learning \", \"count\": 1}, {\"skill\": \" agile \", \"count\": 1}, {\"skill\": \" internet \", \"count\": 1}, {\"skill\": \" source \", \"count\": 1}, {\"skill\": \" mobile \", \"count\": 1}, {\"skill\": \" web development \", \"count\": 1}, {\"skill\": \" testing \", \"count\": 1}, {\"skill\": \" cybersecurity \", \"count\": 1}, {\"skill\": \" spectrum \", \"count\": 1}, {\"skill\": \" javascript \", \"count\": 1}, {\"skill\": \" deploy \", \"count\": 1}, {\"skill\": \" strategic \", \"count\": 1}, {\"skill\": \" troubleshoot \", \"count\": 1}, {\"skill\": \" analytics \", \"count\": 1}, {\"skill\": \" html \", \"count\": 1}, {\"skill\": \" cloud \", \"count\": 1}, {\"skill\": \" java \", \"count\": 1}, {\"skill\": \" data architecture \", \"count\": 1}, {\"skill\": \" sql \", \"count\": 1}, {\"skill\": \" programming \", \"count\": 1}, {\"skill\": \" impact \", \"count\": 1}, {\"skill\": \" collaborate \", \"count\": 1}, {\"skill\": \" big data \", \"count\": 1}, {\"skill\": \" coding \", \"count\": 1}, {\"skill\": \" code \", \"count\": 1}, {\"skill\": \" software engineering \", \"count\": 1}, {\"skill\": \" infrastructure \", \"count\": 1}]}], \"height\": 200, \"width\": 3000, \"signals\": [{\"name\": \"tooltip\", \"value\": {}, \"on\": [{\"update\": \"datum\", \"events\": \"rect:mouseover\"}, {\"update\": \"{}\", \"events\": \"rect:mouseout\"}]}], \"marks\": [{\"encode\": {\"enter\": {\"y2\": {\"value\": 0, \"scale\": \"yscale\"}, \"width\": {\"band\": 1, \"scale\": \"xscale\"}, \"x\": {\"field\": \"skill\", \"scale\": \"xscale\"}, \"y\": {\"field\": \"count\", \"scale\": \"yscale\"}}, \"hover\": {\"fill\": {\"value\": \"red\"}}, \"update\": {\"fill\": {\"value\": \"steelblue\"}}}, \"from\": {\"data\": \"table\"}, \"type\": \"rect\"}, {\"encode\": {\"enter\": {\"fill\": {\"value\": \"#333\"}, \"align\": {\"value\": \"center\"}, \"baseline\": {\"value\": \"bottom\"}}, \"update\": {\"fillOpacity\": [{\"value\": 0, \"test\": \"datum === tooltip\"}, {\"value\": 1}], \"text\": {\"signal\": \"tooltip.count\"}, \"x\": {\"band\": 0.5, \"signal\": \"tooltip.skil\", \"scale\": \"xscale\"}, \"y\": {\"offset\": -2, \"signal\": \"tooltip.count\", \"scale\": \"yscale\"}}}, \"type\": \"text\"}]};\n",
       "var selector = \"#84594c26-ae2c-4267-8247-df69bf0631a3\";\n",
       "var type = \"vega\";\n",
       "\n",
       "var output_area = this;\n",
       "require(['nbextensions/jupyter-vega3/index'], function(vega) {\n",
       "  vega.render(selector, spec, type, output_area);\n",
       "}, function (err) {\n",
       "  if (err.requireType !== 'scripterror') {\n",
       "    throw(err);\n",
       "  }\n",
       "});\n"
      ]
     },
     "metadata": {
      "jupyter-vega3": "#84594c26-ae2c-4267-8247-df69bf0631a3"
     },
     "output_type": "display_data"
    },
    {
     "data": {
      "image/png": "[encoded data removed]"
     },
     "metadata": {
      "jupyter-vega3": "#84594c26-ae2c-4267-8247-df69bf0631a3"
     },
     "output_type": "display_data"
    }
   ],
   "source": [
    "#### Software Engineer\n",
    "makeVegeSkillFoundPlot(test[12])"
   ]
  },
  {
   "cell_type": "code",
   "execution_count": 93,
   "metadata": {
    "scrolled": true
   },
   "outputs": [
    {
     "data": {
      "text/html": [
       "<div class=\"vega-embed\" id=\"d56e7d4d-6c9d-4bf4-91b9-0392c8a6375b\"></div>\n",
       "\n",
       "<style>\n",
       ".vega-embed svg, .vega-embed canvas {\n",
       "  border: 1px dotted gray;\n",
       "}\n",
       "\n",
       ".vega-embed .vega-actions a {\n",
       "  margin-right: 6px;\n",
       "}\n",
       "</style>\n"
      ]
     },
     "metadata": {
      "jupyter-vega3": "#d56e7d4d-6c9d-4bf4-91b9-0392c8a6375b"
     },
     "output_type": "display_data"
    },
    {
     "data": {
      "application/javascript": [
       "var spec = {\"padding\": 5, \"$schema\": \"https://vega.github.io/schema/vega/v3.0.json\", \"axes\": [{\"scale\": \"xscale\", \"orient\": \"bottom\"}, {\"scale\": \"yscale\", \"orient\": \"left\"}], \"scales\": [{\"round\": true, \"range\": \"width\", \"domain\": {\"field\": \"skill\", \"data\": \"table\"}, \"padding\": 0.05, \"name\": \"xscale\", \"type\": \"band\"}, {\"name\": \"yscale\", \"range\": \"height\", \"nice\": true, \"domain\": {\"field\": \"count\", \"data\": \"table\"}}], \"data\": [{\"name\": \"table\", \"values\": [{\"skill\": \" design \", \"count\": 6}, {\"skill\": \" development \", \"count\": 4}, {\"skill\": \" global \", \"count\": 4}, {\"skill\": \" python \", \"count\": 3}, {\"skill\": \" financial \", \"count\": 3}, {\"skill\": \" technologists \", \"count\": 3}, {\"skill\": \" innovative \", \"count\": 2}, {\"skill\": \" testing \", \"count\": 2}, {\"skill\": \" data \", \"count\": 2}, {\"skill\": \" management \", \"count\": 2}, {\"skill\": \" build \", \"count\": 2}, {\"skill\": \" programming \", \"count\": 2}, {\"skill\": \" big data \", \"count\": 2}, {\"skill\": \" payments \", \"count\": 1}, {\"skill\": \" engineering \", \"count\": 1}, {\"skill\": \" stakeholders \", \"count\": 1}, {\"skill\": \" communication \", \"count\": 1}, {\"skill\": \" machine learning \", \"count\": 1}, {\"skill\": \" agile \", \"count\": 1}, {\"skill\": \" oracle \", \"count\": 1}, {\"skill\": \" source \", \"count\": 1}, {\"skill\": \" mobile \", \"count\": 1}, {\"skill\": \" mapreduce \", \"count\": 1}, {\"skill\": \" compliance \", \"count\": 1}, {\"skill\": \" investment \", \"count\": 1}, {\"skill\": \" cybersecurity \", \"count\": 1}, {\"skill\": \" spectrum \", \"count\": 1}, {\"skill\": \" deploy \", \"count\": 1}, {\"skill\": \" analytics \", \"count\": 1}, {\"skill\": \" git \", \"count\": 1}, {\"skill\": \" computer science \", \"count\": 1}, {\"skill\": \" cloud \", \"count\": 1}, {\"skill\": \" process \", \"count\": 1}, {\"skill\": \" java \", \"count\": 1}, {\"skill\": \" rdbms \", \"count\": 1}, {\"skill\": \" sql \", \"count\": 1}, {\"skill\": \" legal \", \"count\": 1}, {\"skill\": \" impact \", \"count\": 1}, {\"skill\": \" multithreading \", \"count\": 1}, {\"skill\": \" risk management \", \"count\": 1}, {\"skill\": \" coding \", \"count\": 1}, {\"skill\": \" human resources \", \"count\": 1}, {\"skill\": \" software engineering \", \"count\": 1}, {\"skill\": \" hibernate \", \"count\": 1}, {\"skill\": \" jpa \", \"count\": 1}, {\"skill\": \" control management \", \"count\": 1}]}], \"height\": 200, \"width\": 3000, \"signals\": [{\"name\": \"tooltip\", \"value\": {}, \"on\": [{\"update\": \"datum\", \"events\": \"rect:mouseover\"}, {\"update\": \"{}\", \"events\": \"rect:mouseout\"}]}], \"marks\": [{\"encode\": {\"enter\": {\"y2\": {\"value\": 0, \"scale\": \"yscale\"}, \"width\": {\"band\": 1, \"scale\": \"xscale\"}, \"x\": {\"field\": \"skill\", \"scale\": \"xscale\"}, \"y\": {\"field\": \"count\", \"scale\": \"yscale\"}}, \"hover\": {\"fill\": {\"value\": \"red\"}}, \"update\": {\"fill\": {\"value\": \"steelblue\"}}}, \"from\": {\"data\": \"table\"}, \"type\": \"rect\"}, {\"encode\": {\"enter\": {\"fill\": {\"value\": \"#333\"}, \"align\": {\"value\": \"center\"}, \"baseline\": {\"value\": \"bottom\"}}, \"update\": {\"fillOpacity\": [{\"value\": 0, \"test\": \"datum === tooltip\"}, {\"value\": 1}], \"text\": {\"signal\": \"tooltip.count\"}, \"x\": {\"band\": 0.5, \"signal\": \"tooltip.skil\", \"scale\": \"xscale\"}, \"y\": {\"offset\": -2, \"signal\": \"tooltip.count\", \"scale\": \"yscale\"}}}, \"type\": \"text\"}]};\n",
       "var selector = \"#d56e7d4d-6c9d-4bf4-91b9-0392c8a6375b\";\n",
       "var type = \"vega\";\n",
       "\n",
       "var output_area = this;\n",
       "require(['nbextensions/jupyter-vega3/index'], function(vega) {\n",
       "  vega.render(selector, spec, type, output_area);\n",
       "}, function (err) {\n",
       "  if (err.requireType !== 'scripterror') {\n",
       "    throw(err);\n",
       "  }\n",
       "});\n"
      ]
     },
     "metadata": {
      "jupyter-vega3": "#d56e7d4d-6c9d-4bf4-91b9-0392c8a6375b"
     },
     "output_type": "display_data"
    },
    {
     "data": {
      "image/png": "[encoded data removed]"
     },
     "metadata": {
      "jupyter-vega3": "#d56e7d4d-6c9d-4bf4-91b9-0392c8a6375b"
     },
     "output_type": "display_data"
    }
   ],
   "source": [
    "#### Software Engineer\n",
    "makeVegeSkillFoundPlot(test[13])"
   ]
  },
  {
   "cell_type": "markdown",
   "metadata": {},
   "source": [
    "### Observations from just looking at the skill counts:\n",
    "Some obvious trends are seen just looking at the most common skills tagged, which makes it seem likely a simple model and small dataset will be enough to make ok predictions for a toy model.\n",
    "\n",
    "If you were going to make significant decisions based on this, say pick which resumes to read, you'd want a much much better model. I <b>hope</b> systems that actually do this use a very sophisticatd model."
   ]
  },
  {
   "cell_type": "markdown",
   "metadata": {},
   "source": [
    "# To be continued....\n",
    "## To make all of this notebook visiable on github, I'm splitting it in two. You can find the next bit <a href=\"\">here</a> where we'll get into vectorization and machine-learning."
   ]
  },
  {
   "cell_type": "code",
   "execution_count": null,
   "metadata": {
    "collapsed": true
   },
   "outputs": [],
   "source": []
  }
 ],
 "metadata": {
  "kernelspec": {
   "display_name": "Python 3",
   "language": "python",
   "name": "python3"
  },
  "language_info": {
   "codemirror_mode": {
    "name": "ipython",
    "version": 3
   },
   "file_extension": ".py",
   "mimetype": "text/x-python",
   "name": "python",
   "nbconvert_exporter": "python",
   "pygments_lexer": "ipython3",
   "version": "3.5.2"
  }
 },
 "nbformat": 4,
 "nbformat_minor": 2
}
